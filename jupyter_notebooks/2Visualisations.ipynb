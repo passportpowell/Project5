{
 "metadata": {
  "language_info": {
   "codemirror_mode": {
    "name": "ipython",
    "version": 3
   },
   "file_extension": ".py",
   "mimetype": "text/x-python",
   "name": "python",
   "nbconvert_exporter": "python",
   "pygments_lexer": "ipython3",
   "version": "3.8.12-final"
  },
  "orig_nbformat": 2,
  "kernelspec": {
   "name": "python381264bit3812pyenvc04d3d2ca57d4331bd2ef17489335b1f",
   "display_name": "Python 3.8.12 64-bit ('3.8.12': pyenv)"
  }
 },
 "nbformat": 4,
 "nbformat_minor": 2,
 "cells": [
  {
   "source": [
    "# **(ADD HERE THE NOTEBOOK NAME)**"
   ],
   "cell_type": "markdown",
   "metadata": {}
  },
  {
   "source": [
    "## Objectives\n",
    "\n",
    "* Using data from Kaggle, answer Business Requirement 1.\n",
    "\n",
    "\n",
    "## Inputs\n",
    "\n",
    "Following sets:\n",
    "\n",
    "* Train\n",
    "\n",
    "* Validation\n",
    "\n",
    "* Test\n",
    "\n",
    "\n",
    "\n",
    "## Outputs\n",
    "\n",
    "Creating:\n",
    "* The shapes of images\n",
    "* Images per label plotted according to their variability and mean\n",
    "* Plots illustrating the differences between healthy and mildewed leaves\n",
    "\n",
    "\n",
    "\n",
    "\n"
   ],
   "cell_type": "markdown",
   "metadata": {}
  },
  {
   "cell_type": "code",
   "execution_count": null,
   "metadata": {},
   "outputs": [],
   "source": []
  },
  {
   "cell_type": "code",
   "execution_count": null,
   "metadata": {},
   "outputs": [],
   "source": [
    "import os\n",
    "current_dir = os.getcwd()\n",
    "current_dir"
   ]
  },
  {
   "cell_type": "code",
   "execution_count": null,
   "metadata": {
    "tags": []
   },
   "outputs": [],
   "source": [
    "os.chdir(os.path.dirname(current_dir))\n",
    "print(\"You set a new current directory\")"
   ]
  },
  {
   "cell_type": "code",
   "execution_count": null,
   "metadata": {},
   "outputs": [],
   "source": [
    "work_dir = os.getcwd()\n",
    "work_dir"
   ]
  },
  {
   "cell_type": "code",
   "execution_count": null,
   "metadata": {},
   "outputs": [],
   "source": [
    "import pandas as pd\n",
    "import numpy as np\n",
    "import joblib\n",
    "import matplotlib.pyplot as plt\n",
    "from matplotlib.image import imread\n",
    "import seaborn as sns; sns.set_style(\"whitegrid\")\n"
   ]
  },
  {
   "cell_type": "code",
   "execution_count": null,
   "metadata": {},
   "outputs": [],
   "source": [
    "my_data_dir = 'inputs/datasets/cherry-leaves'\n",
    "train_path = my_data_dir + '/train'\n",
    "val_path = my_data_dir + '/validation'\n",
    "test_path = my_data_dir + '/test'\n",
    "my_data_dir"
   ]
  },
  {
   "cell_type": "code",
   "execution_count": null,
   "metadata": {
    "tags": []
   },
   "outputs": [],
   "source": [
    "version = 'v1'\n",
    "file_path = f'outputs/{version}'\n",
    "\n",
    "if not os.path.exists(f'{work_dir}/outputs/{version}'):\n",
    "    os.makedirs(f'{work_dir}/outputs/{version}')\n",
    "else:\n",
    "    print('Old version is already available, please create a new version.')\n"
   ]
  },
  {
   "source": [
    "# Analyzing image data and visualizing it"
   ],
   "cell_type": "markdown",
   "metadata": {}
  },
  {
   "cell_type": "code",
   "execution_count": null,
   "metadata": {
    "tags": []
   },
   "outputs": [],
   "source": [
    "labels = os.listdir(train_path)\n",
    "print('Label for the images are',labels)\n",
    "\n",
    "dim1, dim2 = [], []\n",
    "for label in labels:\n",
    "  # iterate over each file of both folders and get height and width of the image\n",
    "  # and append it to the respective array (dim1=height, dim2=width) \n",
    "  for image_filename in os.listdir(train_path + '/'+ label):\n",
    "    img = imread(train_path + '/' + label + '/'+ image_filename)\n",
    "    d1, d2, colors = img.shape # the shape give as an array with height, width and colors\n",
    "    dim1.append(d1) # image height\n",
    "    dim2.append(d2) # image width\n",
    "# Using matplotlib.pyplot to create the figure and the axes of the plot\n",
    "# Using seaborn to give the values to x and y\n",
    "fig, axes = plt.subplots()\n",
    "sns.scatterplot(x=dim2, y=dim1, alpha=0.2)\n",
    "axes.set_xlabel(\"Width (pixels)\")\n",
    "axes.set_ylabel(\"Height (pixels)\")\n",
    "dim1_mean = int(np.array(dim1).mean())\n",
    "dim2_mean = int(np.array(dim2).mean())\n",
    "axes.axvline(x=dim1_mean,color='r', linestyle='--')\n",
    "axes.axhline(y=dim2_mean,color='r', linestyle='--')\n",
    "plt.show()\n",
    "print(f\"Width average: {dim2_mean} \\nHeight average: {dim1_mean}\")"
   ]
  },
  {
   "cell_type": "code",
   "execution_count": null,
   "metadata": {},
   "outputs": [],
   "source": [
    "image_shape = (50,50,3)\n",
    "joblib.dump(value=image_shape ,\n",
    "            filename=f\"{file_path}/image_shape.pkl\")"
   ]
  },
  {
   "cell_type": "code",
   "execution_count": null,
   "metadata": {},
   "outputs": [],
   "source": [
    "from tensorflow.keras.preprocessing import image\n",
    "\n",
    "def load_image_as_array(my_data_dir, new_size=(50,50), n_images_per_label=20):\n",
    "    X, y = [], []\n",
    "    for label in os.listdir(my_data_dir):\n",
    "        for image_filename in os.listdir(f\"{my_data_dir}/{label}\")[:n_images_per_label]:\n",
    "            img = image.load_img(f\"{my_data_dir}/{label}/{image_filename}\", target_size=new_size)\n",
    "            img_resized = image.img_to_array(img) / 255.0\n",
    "            X.append(img_resized)\n",
    "            y.append(label)\n",
    "    return np.array(X), np.array(y)\n"
   ]
  }
 ]
}