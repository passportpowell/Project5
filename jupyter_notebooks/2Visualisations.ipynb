{
 "cells": [
  {
   "attachments": {},
   "cell_type": "markdown",
   "metadata": {},
   "source": [
    "# **(ADD HERE THE NOTEBOOK NAME)**"
   ]
  },
  {
   "attachments": {},
   "cell_type": "markdown",
   "metadata": {},
   "source": [
    "## Objectives\n",
    "\n",
    "* Using data from Kaggle, answer Business Requirement 1.\n",
    "\n",
    "\n",
    "## Inputs\n",
    "\n",
    "Following sets:\n",
    "\n",
    "* Train\n",
    "\n",
    "* Validation\n",
    "\n",
    "* Test\n",
    "\n",
    "\n",
    "\n",
    "## Outputs\n",
    "\n",
    "Creating:\n",
    "* The shapes of images\n",
    "* Images per label plotted according to their variability and mean\n",
    "* Plots illustrating the differences between healthy and mildewed leaves\n",
    "\n",
    "\n",
    "\n",
    "\n"
   ]
  },
  {
   "cell_type": "code",
   "execution_count": 1,
   "metadata": {},
   "outputs": [
    {
     "data": {
      "text/plain": [
       "'/workspace/project5/jupyter_notebooks'"
      ]
     },
     "execution_count": 1,
     "metadata": {},
     "output_type": "execute_result"
    }
   ],
   "source": [
    "import os\n",
    "current_dir = os.getcwd()\n",
    "current_dir"
   ]
  },
  {
   "cell_type": "code",
   "execution_count": 2,
   "metadata": {
    "tags": []
   },
   "outputs": [
    {
     "name": "stdout",
     "output_type": "stream",
     "text": [
      "You set a new current directory\n"
     ]
    }
   ],
   "source": [
    "os.chdir(os.path.dirname(current_dir))\n",
    "print(\"You set a new current directory\")"
   ]
  },
  {
   "cell_type": "code",
   "execution_count": 3,
   "metadata": {},
   "outputs": [
    {
     "data": {
      "text/plain": [
       "'/workspace/project5'"
      ]
     },
     "execution_count": 3,
     "metadata": {},
     "output_type": "execute_result"
    }
   ],
   "source": [
    "work_dir = os.getcwd()\n",
    "work_dir"
   ]
  },
  {
   "cell_type": "code",
   "execution_count": 4,
   "metadata": {},
   "outputs": [
    {
     "name": "stderr",
     "output_type": "stream",
     "text": [
      "2023-05-31 21:58:28.235795: I tensorflow/core/platform/cpu_feature_guard.cc:182] This TensorFlow binary is optimized to use available CPU instructions in performance-critical operations.\n",
      "To enable the following instructions: AVX2 FMA, in other operations, rebuild TensorFlow with the appropriate compiler flags.\n"
     ]
    }
   ],
   "source": [
    "import pandas as pd\n",
    "import numpy as np\n",
    "import joblib\n",
    "import matplotlib.pyplot as plt\n",
    "from matplotlib.image import imread\n",
    "import itertools\n",
    "import random\n",
    "from tensorflow.keras.preprocessing import image\n",
    "\n",
    "import seaborn as sns\n",
    "\n",
    "sns.set_style(\"darkgrid\")\n"
   ]
  },
  {
   "cell_type": "code",
   "execution_count": null,
   "metadata": {},
   "outputs": [],
   "source": [
    "my_data_dir = 'inputs/datasets/cherry-leaves'\n",
    "my_data_dir = '/workspace/project5/inputs/datasets/cherry-leaves/'\n",
    "\n",
    "train_path = my_data_dir + '/train'\n",
    "val_path = my_data_dir + '/validation'\n",
    "test_path = my_data_dir + '/test'\n",
    "my_data_dir"
   ]
  },
  {
   "cell_type": "code",
   "execution_count": null,
   "metadata": {
    "tags": []
   },
   "outputs": [],
   "source": [
    "version = 'v2'\n",
    "file_path = f'outputs/{version}'\n",
    "\n",
    "if 'outputs' in os.listdir(work_dir) and version in os.listdir(work_dir + '/outputs'):\n",
    "  print('There is a version is already available, please create a new version.')\n",
    "  pass\n",
    "else:\n",
    "  os.makedirs(name=file_path)\n"
   ]
  },
  {
   "attachments": {},
   "cell_type": "markdown",
   "metadata": {},
   "source": [
    "# Analyzing image data and visualizing it"
   ]
  },
  {
   "attachments": {},
   "cell_type": "markdown",
   "metadata": {},
   "source": [
    "- calculating and plotting the average width and height of images in each label directory."
   ]
  },
  {
   "cell_type": "code",
   "execution_count": null,
   "metadata": {
    "tags": []
   },
   "outputs": [],
   "source": [
    "\n",
    "\n",
    "\n",
    "labels = os.listdir(train_path)\n",
    "print('Labels for images are',labels)\n",
    "\n",
    "dim1, dim2 = [], []\n",
    "for label in labels:\n",
    "  for image_filename in os.listdir(train_path + '/'+ label):\n",
    "    img = imread(train_path + '/' + label + '/'+ image_filename)\n",
    "    d1, d2, colors = img.shape\n",
    "    dim1.append(d1)\n",
    "    dim2.append(d2)\n",
    "\n",
    "sns.scatterplot(x=dim2, y=dim1, alpha=0.2)\n",
    "plt.xlabel(\"Width (pixels)\")\n",
    "plt.ylabel(\"Height (pixels)\")\n",
    "dim1_mean = int(np.array(dim1).mean())\n",
    "dim2_mean = int(np.array(dim2).mean())\n",
    "plt.axvline(x=dim1_mean,color='r', linestyle='--')\n",
    "plt.axhline(y=dim2_mean,color='r', linestyle='--')\n",
    "plt.show()\n",
    "print(f\"Average width: {dim2_mean} \\nAverage Height: {dim1_mean}\")\n"
   ]
  },
  {
   "attachments": {},
   "cell_type": "markdown",
   "metadata": {},
   "source": [
    "- save the shape of an image (64x64 with 3 channels) as a binary file using the joblib library."
   ]
  },
  {
   "cell_type": "code",
   "execution_count": null,
   "metadata": {},
   "outputs": [],
   "source": [
    "images_shapes = (64,64,3)\n",
    "joblib.dump(value=images_shapes ,\n",
    "            filename=f\"{file_path}/images_shapes.pkl\")"
   ]
  },
  {
   "attachments": {},
   "cell_type": "markdown",
   "metadata": {},
   "source": [
    "- Define a function called \"generate_image_arrays_with_labels\" which loads images from a directory, resizes them, and stores them in a numpy array along with their respective labels.\n"
   ]
  },
  {
   "cell_type": "code",
   "execution_count": null,
   "metadata": {
    "tags": []
   },
   "outputs": [],
   "source": [
    "\n",
    "def generate_image_arrays_with_labels(my_data_dir, new_size=(50,50), max_images_per_label = 10):\n",
    "      \n",
    "  X, y = np.array([], dtype='int'), np.array([], dtype='object')\n",
    "  labels = os.listdir(my_data_dir)\n",
    "\n",
    "  for label in labels:\n",
    "    counter = 0\n",
    "    for image_filename in os.listdir(my_data_dir + '/' + label):\n",
    "      if counter < max_images_per_label:\n",
    "        img = image.load_img(my_data_dir + '/' + label + '/' + image_filename, target_size=new_size)\n",
    "        if image.img_to_array(img).max() > 1: \n",
    "          img_resized = image.img_to_array(img) / 255\n",
    "        else: \n",
    "          img_resized = image.img_to_array(img)\n",
    "        \n",
    "        X = np.append(X, img_resized).reshape(-1, new_size[0], new_size[1], img_resized.shape[2])\n",
    "        y = np.append(y, label)\n",
    "        counter += 1\n",
    "\n",
    "  return X, y\n",
    "  \n",
    "X, y = generate_image_arrays_with_labels(my_data_dir=train_path,\n",
    "                           new_size=images_shapes,\n",
    "                           max_images_per_label=10)\n",
    "print(X.shape, y.shape)\n",
    "\n",
    "\n"
   ]
  },
  {
   "attachments": {},
   "cell_type": "markdown",
   "metadata": {},
   "source": [
    "- Define a function visualize_label_variability that will take in an array of images X and their labels y, and generate plots showing the average image and variability image (standard deviation) for each unique label in the dataset, and can optionally save the resulting plots as images."
   ]
  },
  {
   "cell_type": "code",
   "execution_count": null,
   "metadata": {},
   "outputs": [],
   "source": [
    "\n",
    "\n",
    "def visualize_label_variability(X, y, figsize=(12,5), save_image=False):\n",
    "  for label in np.unique(y):\n",
    "    mask = y == label\n",
    "    arr = X[mask]\n",
    "    avg_img, std_img = np.mean(arr, axis=0), np.std(arr, axis=0)\n",
    "    fig, axes = plt.subplots(1, 2, figsize=figsize)\n",
    "    axes[0].set_title(f\"The average image for a label {label}\")\n",
    "    axes[0].imshow(avg_img, cmap='gray')\n",
    "    axes[1].set_title(f\"The label image for variability {label}\")\n",
    "    axes[1].imshow(std_img, cmap='gray')\n",
    "    if save_image:\n",
    "      plt.savefig(f\"{file_path}/avg_var_{label}.png\", bbox_inches='tight', dpi=150)\n",
    "    else:\n",
    "      plt.tight_layout()\n",
    "      plt.show()\n",
    "\n",
    "visualize_label_variability(X, y, (12, 5), True)\n"
   ]
  },
  {
   "attachments": {},
   "cell_type": "markdown",
   "metadata": {},
   "source": [
    "- Define two functions: get_images_by_label, which generates a subset of images according to a given label, and plot_label_differences, which calculates and plots the difference between the average images of two different labels. The function also saves the resulting plot if the save_image parameter is set to True."
   ]
  },
  {
   "cell_type": "code",
   "execution_count": null,
   "metadata": {
    "tags": []
   },
   "outputs": [],
   "source": [
    "\n",
    "\n",
    "def get_images_by_label(X,y,label_to_display):\n",
    "  y = y.reshape(-1,1,1)\n",
    "  boolean_mask = np.any(y==label_to_display,axis=1).reshape(-1)\n",
    "  return X[boolean_mask]\n",
    "\n",
    "\n",
    "def plot_label_differences(X, y, label_1, label_2, figsize=(20,5), save_image=False):\n",
    "  sns.set_style(\"darkgrid\")\n",
    "\n",
    "  if (label_1 not in np.unique(y)) or (label_2 not in np.unique(y)):\n",
    "    print(f\"One or both of the labels {label} and {label_2} are not in the set of unique labels: {np.unique(y)}.\")\n",
    "    return\n",
    "\n",
    "  label1_avg = np.mean(get_images_by_label(X, y, label_1), axis = 0)\n",
    "  label2_avg = np.mean(get_images_by_label(X, y, label_2), axis = 0)\n",
    "\n",
    "  Mean_of_difference = label1_avg - label2_avg\n",
    "  fig, axes = plt.subplots(nrows=1, ncols=3, figsize=figsize)\n",
    "  axes[0].imshow(label1_avg, cmap='gray')\n",
    "  axes[0].set_title(f'Average {label_1}')\n",
    "  axes[1].imshow(label2_avg, cmap='gray')\n",
    "  axes[1].set_title(f'Average {label_2}')\n",
    "  axes[2].imshow(Mean_of_difference, cmap='gray')\n",
    "  axes[2].set_title(f'Difference image: Avg {label_1} & {label_2}')\n",
    "\n",
    "  if save_image:\n",
    "    plt.savefig(f\"{file_path}/avg_diff.png\", bbox_inches='tight', dpi=150)\n",
    "  else:\n",
    "    plt.tight_layout()\n",
    "    plt.show()\n",
    "\n",
    "\n",
    "plot_label_differences(X=X,\n",
    "                        y=y,\n",
    "                        label_1='healthy',\n",
    "                        label_2='powdery_mildew',\n",
    "                        figsize=(12,10),\n",
    "                        save_image=True\n",
    "                        )\n",
    "\n",
    "\n"
   ]
  },
  {
   "attachments": {},
   "cell_type": "markdown",
   "metadata": {},
   "source": [
    "## Generating an Image Grid"
   ]
  },
  {
   "attachments": {},
   "cell_type": "markdown",
   "metadata": {},
   "source": [
    "Creating a grid of images from a directory of images with the specified number of rows and columns, with each image labeled."
   ]
  },
  {
   "cell_type": "code",
   "execution_count": null,
   "metadata": {
    "tags": []
   },
   "outputs": [],
   "source": [
    "\n",
    "\n",
    "def image_grid(dir_path, available_labels, nrows=2, ncols=2, figsize=(7, 10)):\n",
    "\n",
    "\n",
    "  labels = os.listdir(dir_path)\n",
    "\n",
    "  if available_labels not in labels:\n",
    "    print(\"This label doesn't exist.\")\n",
    "    print(f\"The available labels include: {labels}\")\n",
    "    return\n",
    "\n",
    "  images_list = os.listdir(dir_path + '/' + available_labels)\n",
    "\n",
    "  if nrows * ncols > len(images_list):\n",
    "    print(\n",
    "        f\"Not enough images to create a montage with the specified dimensions. Decrease the number of rows (nrows) or columns (ncols) \\n\"\n",
    "        f\"There are {len(images_list)} Available. \"\n",
    "        f\"Returning image grid {nrows * ncols} spaces\")\n",
    "    return\n",
    "\n",
    "  random_image_selection = random.sample(images_list, nrows * ncols)\n",
    "\n",
    "  list_rows = range(0, nrows)\n",
    "  list_cols = range(0, ncols)\n",
    "  grid_indices = list(itertools.product(list_rows, list_cols))\n",
    "\n",
    "  fig, axes = plt.subplots(nrows=nrows, ncols=ncols, figsize=figsize)\n",
    "  for x in range(0, nrows*ncols):\n",
    "    img = imread(dir_path + '/' + available_labels + '/' + random_image_selection[x])\n",
    "    image_size = img.shape\n",
    "    axes[grid_indices[x][0], grid_indices[x][1]].imshow(img)\n",
    "    axes[grid_indices[x][0], grid_indices[x][1]].set_title(\n",
    "        f\"Width {image_size[1]}px x Height {image_size[0]}px\")\n",
    "    axes[grid_indices[x][0], grid_indices[x][1]].set_xticks([])\n",
    "    axes[grid_indices[x][0], grid_indices[x][1]].set_yticks([])\n",
    "  plt.tight_layout()\n",
    "  plt.show()\n",
    "\n",
    "\n",
    "for current_label in labels:\n",
    "  print(current_label)\n",
    "  image_grid(dir_path=train_path,\n",
    "              available_labels=current_label,\n",
    "              nrows=2, ncols=2,\n",
    "              figsize=(7, 12))\n",
    "  print(\"\\n\")\n",
    "\n"
   ]
  },
  {
   "attachments": {},
   "cell_type": "markdown",
   "metadata": {},
   "source": [
    "# Summary of Data Visualsation"
   ]
  },
  {
   "attachments": {},
   "cell_type": "markdown",
   "metadata": {},
   "source": [
    "- The code starts by listing the labels present in the train_path directory and printing them.\n",
    "\n",
    "- It then calculates the dimensions (height and width) of each image for each label, and creates lists dim1 and dim2 to store the respective dimensions. Has a limit set incase the number of images are too high for effeiciency.\n",
    "\n",
    "\n",
    "- A scatter plot is created using dim2 as the x-axis and dim1 as the y-axis, visualizing the distribution of image dimensions.\n",
    "\n",
    "- The average width (dim2_mean) and average height (dim1_mean) are calculated and printed.\n",
    "\n",
    "- The image shape (64, 64, 3) is stored in a file called images_shapes.pkl using the joblib library.\n",
    "\n",
    "- The generate_image_arrays_with_labels function is defined, which takes a directory, image size, and number of images per label as input and returns two arrays: X (images) and y (labels).\n",
    "\n",
    "- The function visualize_label_variability is defined to plot the average and variability images for each label using the X and y arrays.\n",
    "\n",
    "- The get_images_by_label function is defined to retrieve a subset of images from X based on a specified label.\n",
    "\n",
    "- The plot_label_differences function is defined to calculate and plot the average difference image between two labels using the get_images_by_label function.\n",
    "\n",
    "- Finally, the image_grid function is defined to display a grid of images for each label in the labels list using the dir_path, available_labels, nrows, ncols, and figsize - - - parameters. The function is called for each label in the labels list, and the resulting image grid is displayed."
   ]
  },
  {
   "attachments": {},
   "cell_type": "markdown",
   "metadata": {},
   "source": [
    "### To fix:\n",
    "\n",
    "- Spelling mistakes causing code to not run. e.g. searching for 'Healthy' label instead of 'healthy' label (caps)\n",
    "\n",
    "- remove image_shape.pkl file"
   ]
  }
 ],
 "metadata": {
  "kernelspec": {
   "display_name": "Python 3",
   "language": "python",
   "name": "python3"
  },
  "language_info": {
   "codemirror_mode": {
    "name": "ipython",
    "version": 3
   },
   "file_extension": ".py",
   "mimetype": "text/x-python",
   "name": "python",
   "nbconvert_exporter": "python",
   "pygments_lexer": "ipython3",
   "version": "3.11.1"
  },
  "orig_nbformat": 2
 },
 "nbformat": 4,
 "nbformat_minor": 2
}
