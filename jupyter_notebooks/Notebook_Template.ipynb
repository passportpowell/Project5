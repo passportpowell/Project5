{
  "cells": [
    {
      "cell_type": "markdown",
      "metadata": {
        "id": "0aStgWSO0E0E"
      },
      "source": [
        "# **(ADD HERE THE NOTEBOOK NAME)**"
      ]
    },
    {
      "cell_type": "markdown",
      "metadata": {
        "id": "1eLEkw5O0ECa"
      },
      "source": [
        "## Objectives\n",
        "\n",
        "* Colect the data from Kaggle, unzip, prepare and storage it for further analysis.\n",
        "\n",
        "\n",
        "## Inputs\n",
        "\n",
        "* The Kaggle JSON file authentication token.\n",
        "\n",
        "\n",
        "## Outputs\n",
        "\n",
        "* Create Dataset: inputs/datasets/cherry_leaves_dataset\n",
        "\n",
        "## Additional Comments\n",
        "\n",
        "\n",
        "* The data must be saved after being prepared, removing any files that are not an images, split the data into Train, Validation and Set folders.\n",
        "\n"
      ]
    },
    {
      "cell_type": "markdown",
      "metadata": {
        "id": "9uWZXH9LwoQg"
      },
      "source": [
        "---"
      ]
    },
    {
      "cell_type": "code",
      "execution_count": 1,
      "metadata": {
        "tags": [
          "outputPrepend"
        ]
      },
      "outputs": [
        {
          "output_type": "stream",
          "name": "stdout",
          "text": "es/project5/requirements.txt (line 6)) (6.3.1)\nRequirement already satisfied: tzlocal in /home/codeany/.pyenv/versions/3.8.12/lib/python3.8/site-packages (from streamlit==0.85.0->-r /workspaces/project5/requirements.txt (line 6)) (4.3)\nRequirement already satisfied: validators in /home/codeany/.pyenv/versions/3.8.12/lib/python3.8/site-packages (from streamlit==0.85.0->-r /workspaces/project5/requirements.txt (line 6)) (0.20.0)\nRequirement already satisfied: gitpython in /home/codeany/.pyenv/versions/3.8.12/lib/python3.8/site-packages (from streamlit==0.85.0->-r /workspaces/project5/requirements.txt (line 6)) (3.1.31)\nRequirement already satisfied: watchdog in /home/codeany/.pyenv/versions/3.8.12/lib/python3.8/site-packages (from streamlit==0.85.0->-r /workspaces/project5/requirements.txt (line 6)) (3.0.0)\nRequirement already satisfied: joblib>=0.11 in /home/codeany/.pyenv/versions/3.8.12/lib/python3.8/site-packages (from scikit-learn==0.24.2->-r /workspaces/project5/requirements.txt (line 8)) (1.0.1)\nRequirement already satisfied: threadpoolctl>=2.0.0 in /home/codeany/.pyenv/versions/3.8.12/lib/python3.8/site-packages (from scikit-learn==0.24.2->-r /workspaces/project5/requirements.txt (line 8)) (3.1.0)\nRequirement already satisfied: absl-py~=0.10 in /home/codeany/.pyenv/versions/3.8.12/lib/python3.8/site-packages (from tensorflow-cpu==2.6.0->-r /workspaces/project5/requirements.txt (line 9)) (0.15.0)\nRequirement already satisfied: astunparse~=1.6.3 in /home/codeany/.pyenv/versions/3.8.12/lib/python3.8/site-packages (from tensorflow-cpu==2.6.0->-r /workspaces/project5/requirements.txt (line 9)) (1.6.3)\nRequirement already satisfied: clang~=5.0 in /home/codeany/.pyenv/versions/3.8.12/lib/python3.8/site-packages (from tensorflow-cpu==2.6.0->-r /workspaces/project5/requirements.txt (line 9)) (5.0)\nRequirement already satisfied: flatbuffers~=1.12.0 in /home/codeany/.pyenv/versions/3.8.12/lib/python3.8/site-packages (from tensorflow-cpu==2.6.0->-r /workspaces/project5/requirements.txt (line 9)) (1.12)\nRequirement already satisfied: google-pasta~=0.2 in /home/codeany/.pyenv/versions/3.8.12/lib/python3.8/site-packages (from tensorflow-cpu==2.6.0->-r /workspaces/project5/requirements.txt (line 9)) (0.2.0)\nRequirement already satisfied: h5py~=3.1.0 in /home/codeany/.pyenv/versions/3.8.12/lib/python3.8/site-packages (from tensorflow-cpu==2.6.0->-r /workspaces/project5/requirements.txt (line 9)) (3.1.0)\nRequirement already satisfied: keras-preprocessing~=1.1.2 in /home/codeany/.pyenv/versions/3.8.12/lib/python3.8/site-packages (from tensorflow-cpu==2.6.0->-r /workspaces/project5/requirements.txt (line 9)) (1.1.2)\nRequirement already satisfied: opt-einsum~=3.3.0 in /home/codeany/.pyenv/versions/3.8.12/lib/python3.8/site-packages (from tensorflow-cpu==2.6.0->-r /workspaces/project5/requirements.txt (line 9)) (3.3.0)\nRequirement already satisfied: termcolor~=1.1.0 in /home/codeany/.pyenv/versions/3.8.12/lib/python3.8/site-packages (from tensorflow-cpu==2.6.0->-r /workspaces/project5/requirements.txt (line 9)) (1.1.0)\nRequirement already satisfied: typing-extensions~=3.7.4 in /home/codeany/.pyenv/versions/3.8.12/lib/python3.8/site-packages (from tensorflow-cpu==2.6.0->-r /workspaces/project5/requirements.txt (line 9)) (3.7.4.3)\nRequirement already satisfied: wheel~=0.35 in /home/codeany/.pyenv/versions/3.8.12/lib/python3.8/site-packages (from tensorflow-cpu==2.6.0->-r /workspaces/project5/requirements.txt (line 9)) (0.40.0)\nRequirement already satisfied: wrapt~=1.12.1 in /home/codeany/.pyenv/versions/3.8.12/lib/python3.8/site-packages (from tensorflow-cpu==2.6.0->-r /workspaces/project5/requirements.txt (line 9)) (1.12.1)\nRequirement already satisfied: gast==0.4.0 in /home/codeany/.pyenv/versions/3.8.12/lib/python3.8/site-packages (from tensorflow-cpu==2.6.0->-r /workspaces/project5/requirements.txt (line 9)) (0.4.0)\nRequirement already satisfied: tensorboard~=2.6 in /home/codeany/.pyenv/versions/3.8.12/lib/python3.8/site-packages (from tensorflow-cpu==2.6.0->-r /workspaces/project5/requirements.txt (line 9)) (2.13.0)\nRequirement already satisfied: tensorflow-estimator~=2.6 in /home/codeany/.pyenv/versions/3.8.12/lib/python3.8/site-packages (from tensorflow-cpu==2.6.0->-r /workspaces/project5/requirements.txt (line 9)) (2.12.0)\nRequirement already satisfied: grpcio<2.0,>=1.37.0 in /home/codeany/.pyenv/versions/3.8.12/lib/python3.8/site-packages (from tensorflow-cpu==2.6.0->-r /workspaces/project5/requirements.txt (line 9)) (1.54.0)\nRequirement already satisfied: pytz>=2020.1 in /home/codeany/.pyenv/versions/3.8.12/lib/python3.8/site-packages (from pandas==1.4.2->-r /workspaces/project5/requirements.txt (line 13)) (2023.3)\nRequirement already satisfied: pydantic>=1.8.1 in /home/codeany/.pyenv/versions/3.8.12/lib/python3.8/site-packages (from pandas-profiling==3.1.0->-r /workspaces/project5/requirements.txt (line 14)) (1.9.2)\nRequirement already satisfied: PyYAML>=5.0.0 in /home/codeany/.pyenv/versions/3.8.12/lib/python3.8/site-packages (from pandas-profiling==3.1.0->-r /workspaces/project5/requirements.txt (line 14)) (6.0)\nRequirement already satisfied: visions[type_image_path]==0.7.4 in /home/codeany/.pyenv/versions/3.8.12/lib/python3.8/site-packages (from pandas-profiling==3.1.0->-r /workspaces/project5/requirements.txt (line 14)) (0.7.4)\nRequirement already satisfied: htmlmin>=0.1.12 in /home/codeany/.pyenv/versions/3.8.12/lib/python3.8/site-packages (from pandas-profiling==3.1.0->-r /workspaces/project5/requirements.txt (line 14)) (0.1.12)\nRequirement already satisfied: missingno>=0.4.2 in /home/codeany/.pyenv/versions/3.8.12/lib/python3.8/site-packages (from pandas-profiling==3.1.0->-r /workspaces/project5/requirements.txt (line 14)) (0.5.2)\nRequirement already satisfied: phik>=0.11.1 in /home/codeany/.pyenv/versions/3.8.12/lib/python3.8/site-packages (from pandas-profiling==3.1.0->-r /workspaces/project5/requirements.txt (line 14)) (0.12.3)\nRequirement already satisfied: tangled-up-in-unicode==0.1.0 in /home/codeany/.pyenv/versions/3.8.12/lib/python3.8/site-packages (from pandas-profiling==3.1.0->-r /workspaces/project5/requirements.txt (line 14)) (0.1.0)\nRequirement already satisfied: tqdm>=4.48.2 in /home/codeany/.pyenv/versions/3.8.12/lib/python3.8/site-packages (from pandas-profiling==3.1.0->-r /workspaces/project5/requirements.txt (line 14)) (4.65.0)\nRequirement already satisfied: multimethod>=1.4 in /home/codeany/.pyenv/versions/3.8.12/lib/python3.8/site-packages (from pandas-profiling==3.1.0->-r /workspaces/project5/requirements.txt (line 14)) (1.9.1)\nRequirement already satisfied: statsmodels>=0.11.1 in /home/codeany/.pyenv/versions/3.8.12/lib/python3.8/site-packages (from feature-engine==1.0.2->-r /workspaces/project5/requirements.txt (line 18)) (0.14.0)\nRequirement already satisfied: networkx>=2.4 in /home/codeany/.pyenv/versions/3.8.12/lib/python3.8/site-packages (from visions[type_image_path]==0.7.4->pandas-profiling==3.1.0->-r /workspaces/project5/requirements.txt (line 14)) (3.1)\nRequirement already satisfied: imagehash in /home/codeany/.pyenv/versions/3.8.12/lib/python3.8/site-packages (from visions[type_image_path]==0.7.4->pandas-profiling==3.1.0->-r /workspaces/project5/requirements.txt (line 14)) (4.3.1)\nRequirement already satisfied: ipykernel>=4.5.1 in /home/codeany/.pyenv/versions/3.8.12/lib/python3.8/site-packages (from ipywidgets->-r /workspaces/project5/requirements.txt (line 26)) (6.23.0)\nRequirement already satisfied: ipython>=6.1.0 in /home/codeany/.pyenv/versions/3.8.12/lib/python3.8/site-packages (from ipywidgets->-r /workspaces/project5/requirements.txt (line 26)) (8.12.2)\nRequirement already satisfied: traitlets>=4.3.1 in /home/codeany/.pyenv/versions/3.8.12/lib/python3.8/site-packages (from ipywidgets->-r /workspaces/project5/requirements.txt (line 26)) (5.9.0)\nRequirement already satisfied: widgetsnbextension~=4.0.7 in /home/codeany/.pyenv/versions/3.8.12/lib/python3.8/site-packages (from ipywidgets->-r /workspaces/project5/requirements.txt (line 26)) (4.0.7)\nRequirement already satisfied: jupyterlab-widgets~=3.0.7 in /home/codeany/.pyenv/versions/3.8.12/lib/python3.8/site-packages (from ipywidgets->-r /workspaces/project5/requirements.txt (line 26)) (3.0.7)\nRequirement already satisfied: entrypoints in /home/codeany/.pyenv/versions/3.8.12/lib/python3.8/site-packages (from altair>=3.2.0->streamlit==0.85.0->-r /workspaces/project5/requirements.txt (line 6)) (0.4)\nRequirement already satisfied: jsonschema>=3.0 in /home/codeany/.pyenv/versions/3.8.12/lib/python3.8/site-packages (from altair>=3.2.0->streamlit==0.85.0->-r /workspaces/project5/requirements.txt (line 6)) (4.17.3)\nRequirement already satisfied: toolz in /home/codeany/.pyenv/versions/3.8.12/lib/python3.8/site-packages (from altair>=3.2.0->streamlit==0.85.0->-r /workspaces/project5/requirements.txt (line 6)) (0.12.0)\nRequirement already satisfied: comm>=0.1.1 in /home/codeany/.pyenv/versions/3.8.12/lib/python3.8/site-packages (from ipykernel>=4.5.1->ipywidgets->-r /workspaces/project5/requirements.txt (line 26)) (0.1.3)\nRequirement already satisfied: debugpy>=1.6.5 in /home/codeany/.pyenv/versions/3.8.12/lib/python3.8/site-packages (from ipykernel>=4.5.1->ipywidgets->-r /workspaces/project5/requirements.txt (line 26)) (1.6.7)\nRequirement already satisfied: jupyter-client>=6.1.12 in /home/codeany/.pyenv/versions/3.8.12/lib/python3.8/site-packages (from ipykernel>=4.5.1->ipywidgets->-r /workspaces/project5/requirements.txt (line 26)) (8.2.0)\nRequirement already satisfied: jupyter-core!=5.0.*,>=4.12 in /home/codeany/.pyenv/versions/3.8.12/lib/python3.8/site-packages (from ipykernel>=4.5.1->ipywidgets->-r /workspaces/project5/requirements.txt (line 26)) (5.3.0)\nRequirement already satisfied: matplotlib-inline>=0.1 in /home/codeany/.pyenv/versions/3.8.12/lib/python3.8/site-packages (from ipykernel>=4.5.1->ipywidgets->-r /workspaces/project5/requirements.txt (line 26)) (0.1.6)\nRequirement already satisfied: nest-asyncio in /home/codeany/.pyenv/versions/3.8.12/lib/python3.8/site-packages (from ipykernel>=4.5.1->ipywidgets->-r /workspaces/project5/requirements.txt (line 26)) (1.5.6)\nRequirement already satisfied: psutil in /home/codeany/.pyenv/versions/3.8.12/lib/python3.8/site-packages (from ipykernel>=4.5.1->ipywidgets->-r /workspaces/project5/requirements.txt (line 26)) (5.9.5)\nRequirement already satisfied: pyzmq>=20 in /home/codeany/.pyenv/versions/3.8.12/lib/python3.8/site-packages (from ipykernel>=4.5.1->ipywidgets->-r /workspaces/project5/requirements.txt (line 26)) (25.0.2)\nRequirement already satisfied: backcall in /home/codeany/.pyenv/versions/3.8.12/lib/python3.8/site-packages (from ipython>=6.1.0->ipywidgets->-r /workspaces/project5/requirements.txt (line 26)) (0.2.0)\nRequirement already satisfied: decorator in /home/codeany/.pyenv/versions/3.8.12/lib/python3.8/site-packages (from ipython>=6.1.0->ipywidgets->-r /workspaces/project5/requirements.txt (line 26)) (5.1.1)\nRequirement already satisfied: jedi>=0.16 in /home/codeany/.pyenv/versions/3.8.12/lib/python3.8/site-packages (from ipython>=6.1.0->ipywidgets->-r /workspaces/project5/requirements.txt (line 26)) (0.18.2)\nRequirement already satisfied: pickleshare in /home/codeany/.pyenv/versions/3.8.12/lib/python3.8/site-packages (from ipython>=6.1.0->ipywidgets->-r /workspaces/project5/requirements.txt (line 26)) (0.7.5)\nRequirement already satisfied: prompt-toolkit!=3.0.37,<3.1.0,>=3.0.30 in /home/codeany/.pyenv/versions/3.8.12/lib/python3.8/site-packages (from ipython>=6.1.0->ipywidgets->-r /workspaces/project5/requirements.txt (line 26)) (3.0.38)\nRequirement already satisfied: pygments>=2.4.0 in /home/codeany/.pyenv/versions/3.8.12/lib/python3.8/site-packages (from ipython>=6.1.0->ipywidgets->-r /workspaces/project5/requirements.txt (line 26)) (2.15.1)\nRequirement already satisfied: stack-data in /home/codeany/.pyenv/versions/3.8.12/lib/python3.8/site-packages (from ipython>=6.1.0->ipywidgets->-r /workspaces/project5/requirements.txt (line 26)) (0.6.2)\nRequirement already satisfied: pexpect>4.3 in /home/codeany/.pyenv/versions/3.8.12/lib/python3.8/site-packages (from ipython>=6.1.0->ipywidgets->-r /workspaces/project5/requirements.txt (line 26)) (4.8.0)\nRequirement already satisfied: charset-normalizer<4,>=2 in /home/codeany/.pyenv/versions/3.8.12/lib/python3.8/site-packages (from requests->streamlit==0.85.0->-r /workspaces/project5/requirements.txt (line 6)) (3.1.0)\nRequirement already satisfied: idna<4,>=2.5 in /home/codeany/.pyenv/versions/3.8.12/lib/python3.8/site-packages (from requests->streamlit==0.85.0->-r /workspaces/project5/requirements.txt (line 6)) (3.4)\nRequirement already satisfied: urllib3<3,>=1.21.1 in /home/codeany/.pyenv/versions/3.8.12/lib/python3.8/site-packages (from requests->streamlit==0.85.0->-r /workspaces/project5/requirements.txt (line 6)) (2.0.2)\nRequirement already satisfied: patsy>=0.5.2 in /home/codeany/.pyenv/versions/3.8.12/lib/python3.8/site-packages (from statsmodels>=0.11.1->feature-engine==1.0.2->-r /workspaces/project5/requirements.txt (line 18)) (0.5.3)\nRequirement already satisfied: google-auth<3,>=1.6.3 in /home/codeany/.pyenv/versions/3.8.12/lib/python3.8/site-packages (from tensorboard~=2.6->tensorflow-cpu==2.6.0->-r /workspaces/project5/requirements.txt (line 9)) (2.17.3)\nRequirement already satisfied: google-auth-oauthlib<1.1,>=0.5 in /home/codeany/.pyenv/versions/3.8.12/lib/python3.8/site-packages (from tensorboard~=2.6->tensorflow-cpu==2.6.0->-r /workspaces/project5/requirements.txt (line 9)) (1.0.0)\nRequirement already satisfied: markdown>=2.6.8 in /home/codeany/.pyenv/versions/3.8.12/lib/python3.8/site-packages (from tensorboard~=2.6->tensorflow-cpu==2.6.0->-r /workspaces/project5/requirements.txt (line 9)) (3.4.3)\nRequirement already satisfied: setuptools>=41.0.0 in /home/codeany/.pyenv/versions/3.8.12/lib/python3.8/site-packages (from tensorboard~=2.6->tensorflow-cpu==2.6.0->-r /workspaces/project5/requirements.txt (line 9)) (67.7.2)\nRequirement already satisfied: tensorboard-data-server<0.8.0,>=0.7.0 in /home/codeany/.pyenv/versions/3.8.12/lib/python3.8/site-packages (from tensorboard~=2.6->tensorflow-cpu==2.6.0->-r /workspaces/project5/requirements.txt (line 9)) (0.7.0)\nRequirement already satisfied: werkzeug>=1.0.1 in /home/codeany/.pyenv/versions/3.8.12/lib/python3.8/site-packages (from tensorboard~=2.6->tensorflow-cpu==2.6.0->-r /workspaces/project5/requirements.txt (line 9)) (2.1.2)\nRequirement already satisfied: gitdb<5,>=4.0.1 in /home/codeany/.pyenv/versions/3.8.12/lib/python3.8/site-packages (from gitpython->streamlit==0.85.0->-r /workspaces/project5/requirements.txt (line 6)) (4.0.10)\nRequirement already satisfied: pytz-deprecation-shim in /home/codeany/.pyenv/versions/3.8.12/lib/python3.8/site-packages (from tzlocal->streamlit==0.85.0->-r /workspaces/project5/requirements.txt (line 6)) (0.1.0.post0)\nRequirement already satisfied: backports.zoneinfo in /home/codeany/.pyenv/versions/3.8.12/lib/python3.8/site-packages (from tzlocal->streamlit==0.85.0->-r /workspaces/project5/requirements.txt (line 6)) (0.2.1)\nRequirement already satisfied: smmap<6,>=3.0.1 in /home/codeany/.pyenv/versions/3.8.12/lib/python3.8/site-packages (from gitdb<5,>=4.0.1->gitpython->streamlit==0.85.0->-r /workspaces/project5/requirements.txt (line 6)) (5.0.0)\nRequirement already satisfied: pyasn1-modules>=0.2.1 in /home/codeany/.pyenv/versions/3.8.12/lib/python3.8/site-packages (from google-auth<3,>=1.6.3->tensorboard~=2.6->tensorflow-cpu==2.6.0->-r /workspaces/project5/requirements.txt (line 9)) (0.3.0)\nRequirement already satisfied: rsa<5,>=3.1.4 in /home/codeany/.pyenv/versions/3.8.12/lib/python3.8/site-packages (from google-auth<3,>=1.6.3->tensorboard~=2.6->tensorflow-cpu==2.6.0->-r /workspaces/project5/requirements.txt (line 9)) (4.9)\nRequirement already satisfied: requests-oauthlib>=0.7.0 in /home/codeany/.pyenv/versions/3.8.12/lib/python3.8/site-packages (from google-auth-oauthlib<1.1,>=0.5->tensorboard~=2.6->tensorflow-cpu==2.6.0->-r /workspaces/project5/requirements.txt (line 9)) (1.3.1)\nRequirement already satisfied: parso<0.9.0,>=0.8.0 in /home/codeany/.pyenv/versions/3.8.12/lib/python3.8/site-packages (from jedi>=0.16->ipython>=6.1.0->ipywidgets->-r /workspaces/project5/requirements.txt (line 26)) (0.8.3)\nRequirement already satisfied: importlib-resources>=1.4.0 in /home/codeany/.pyenv/versions/3.8.12/lib/python3.8/site-packages (from jsonschema>=3.0->altair>=3.2.0->streamlit==0.85.0->-r /workspaces/project5/requirements.txt (line 6)) (5.12.0)\nRequirement already satisfied: pkgutil-resolve-name>=1.3.10 in /home/codeany/.pyenv/versions/3.8.12/lib/python3.8/site-packages (from jsonschema>=3.0->altair>=3.2.0->streamlit==0.85.0->-r /workspaces/project5/requirements.txt (line 6)) (1.3.10)\nRequirement already satisfied: pyrsistent!=0.17.0,!=0.17.1,!=0.17.2,>=0.14.0 in /home/codeany/.pyenv/versions/3.8.12/lib/python3.8/site-packages (from jsonschema>=3.0->altair>=3.2.0->streamlit==0.85.0->-r /workspaces/project5/requirements.txt (line 6)) (0.19.3)\nRequirement already satisfied: importlib-metadata>=4.8.3 in /home/codeany/.pyenv/versions/3.8.12/lib/python3.8/site-packages (from jupyter-client>=6.1.12->ipykernel>=4.5.1->ipywidgets->-r /workspaces/project5/requirements.txt (line 26)) (6.6.0)\nRequirement already satisfied: platformdirs>=2.5 in /home/codeany/.pyenv/versions/3.8.12/lib/python3.8/site-packages (from jupyter-core!=5.0.*,>=4.12->ipykernel>=4.5.1->ipywidgets->-r /workspaces/project5/requirements.txt (line 26)) (3.5.0)\nRequirement already satisfied: ptyprocess>=0.5 in /home/codeany/.pyenv/versions/3.8.12/lib/python3.8/site-packages (from pexpect>4.3->ipython>=6.1.0->ipywidgets->-r /workspaces/project5/requirements.txt (line 26)) (0.7.0)\nRequirement already satisfied: wcwidth in /home/codeany/.pyenv/versions/3.8.12/lib/python3.8/site-packages (from prompt-toolkit!=3.0.37,<3.1.0,>=3.0.30->ipython>=6.1.0->ipywidgets->-r /workspaces/project5/requirements.txt (line 26)) (0.2.6)\nRequirement already satisfied: PyWavelets in /home/codeany/.pyenv/versions/3.8.12/lib/python3.8/site-packages (from imagehash->visions[type_image_path]==0.7.4->pandas-profiling==3.1.0->-r /workspaces/project5/requirements.txt (line 14)) (1.4.1)\nRequirement already satisfied: tzdata in /home/codeany/.pyenv/versions/3.8.12/lib/python3.8/site-packages (from pytz-deprecation-shim->tzlocal->streamlit==0.85.0->-r /workspaces/project5/requirements.txt (line 6)) (2023.3)\nRequirement already satisfied: executing>=1.2.0 in /home/codeany/.pyenv/versions/3.8.12/lib/python3.8/site-packages (from stack-data->ipython>=6.1.0->ipywidgets->-r /workspaces/project5/requirements.txt (line 26)) (1.2.0)\nRequirement already satisfied: asttokens>=2.1.0 in /home/codeany/.pyenv/versions/3.8.12/lib/python3.8/site-packages (from stack-data->ipython>=6.1.0->ipywidgets->-r /workspaces/project5/requirements.txt (line 26)) (2.2.1)\nRequirement already satisfied: pure-eval in /home/codeany/.pyenv/versions/3.8.12/lib/python3.8/site-packages (from stack-data->ipython>=6.1.0->ipywidgets->-r /workspaces/project5/requirements.txt (line 26)) (0.2.2)\nRequirement already satisfied: zipp>=0.5 in /home/codeany/.pyenv/versions/3.8.12/lib/python3.8/site-packages (from importlib-metadata>=4.8.3->jupyter-client>=6.1.12->ipykernel>=4.5.1->ipywidgets->-r /workspaces/project5/requirements.txt (line 26)) (3.15.0)\nRequirement already satisfied: pyasn1<0.6.0,>=0.4.6 in /home/codeany/.pyenv/versions/3.8.12/lib/python3.8/site-packages (from pyasn1-modules>=0.2.1->google-auth<3,>=1.6.3->tensorboard~=2.6->tensorflow-cpu==2.6.0->-r /workspaces/project5/requirements.txt (line 9)) (0.5.0)\nRequirement already satisfied: oauthlib>=3.0.0 in /home/codeany/.pyenv/versions/3.8.12/lib/python3.8/site-packages (from requests-oauthlib>=0.7.0->google-auth-oauthlib<1.1,>=0.5->tensorboard~=2.6->tensorflow-cpu==2.6.0->-r /workspaces/project5/requirements.txt (line 9)) (3.2.2)\nNote: you may need to restart the kernel to use updated packages.\n"
        }
      ],
      "source": [
        "# %pip install numpy pandas matplotlib seaborn plotly streamlit scikit-learn tensorflow-cpu keras \n",
        "%pip install -r /workspaces/project5/requirements.txt\n",
        "\n"
      ]
    },
    {
      "cell_type": "code",
      "execution_count": 2,
      "metadata": {},
      "outputs": [],
      "source": [
        "import numpy\n",
        "import os\n",
        "import shutil\n",
        "import random\n",
        "import joblib"
      ]
    },
    {
      "cell_type": "markdown",
      "metadata": {
        "id": "cqP-UeN-z3i2"
      },
      "source": [
        "# Change working directory"
      ]
    },
    {
      "cell_type": "markdown",
      "metadata": {},
      "source": [
        "* We are assuming you will store the notebooks in a subfolder, therefore when running the notebook in the editor, you will need to change the working directory"
      ]
    },
    {
      "cell_type": "markdown",
      "metadata": {
        "id": "aOGIGS-uz3i2"
      },
      "source": [
        "We need to change the working directory from its current folder to its parent folder\n",
        "* We access the current directory with os.getcwd()"
      ]
    },
    {
      "cell_type": "code",
      "execution_count": 3,
      "metadata": {
        "id": "wZfF_j-Bz3i4",
        "outputId": "66943449-1436-4c3d-85c7-b85f9f78349b"
      },
      "outputs": [
        {
          "output_type": "execute_result",
          "data": {
            "text/plain": "'/workspaces/project5/jupyter_notebooks'"
          },
          "metadata": {},
          "execution_count": 3
        }
      ],
      "source": [
        "import os\n",
        "current_dir = os.getcwd()\n",
        "current_dir"
      ]
    },
    {
      "cell_type": "markdown",
      "metadata": {
        "id": "9MWW8E7lz3i7"
      },
      "source": [
        "We want to make the parent of the current directory the new current directory\n",
        "* os.path.dirname() gets the parent directory\n",
        "* os.chir() defines the new current directory"
      ]
    },
    {
      "cell_type": "code",
      "execution_count": 4,
      "metadata": {
        "id": "TwHsQRWjz3i9",
        "outputId": "86849db3-cd2f-4cc5-ebb8-2d0caafa1a2c",
        "tags": []
      },
      "outputs": [
        {
          "output_type": "stream",
          "name": "stdout",
          "text": "You set a new current directory\n"
        }
      ],
      "source": [
        "os.chdir(os.path.dirname(current_dir))\n",
        "print(\"You set a new current directory\")"
      ]
    },
    {
      "cell_type": "markdown",
      "metadata": {
        "id": "M_xPk_Ijz3i-"
      },
      "source": [
        "Confirm the new current directory"
      ]
    },
    {
      "cell_type": "code",
      "execution_count": 5,
      "metadata": {
        "id": "vz3S-_kjz3jA",
        "outputId": "00b79ae4-75d0-4a96-d193-ac9ef9847ea2"
      },
      "outputs": [
        {
          "output_type": "execute_result",
          "data": {
            "text/plain": "'/workspaces/project5'"
          },
          "metadata": {},
          "execution_count": 5
        }
      ],
      "source": [
        "current_dir = os.getcwd()\n",
        "current_dir"
      ]
    },
    {
      "cell_type": "markdown",
      "metadata": {
        "id": "-mavJ8DibrcQ"
      },
      "source": [
        "# Section 1"
      ]
    },
    {
      "cell_type": "markdown",
      "metadata": {},
      "source": [
        "Section 1 content"
      ]
    },
    {
      "cell_type": "code",
      "execution_count": 6,
      "metadata": {
        "tags": []
      },
      "outputs": [
        {
          "output_type": "stream",
          "name": "stdout",
          "text": "Requirement already satisfied: kaggle==1.5.12 in /home/codeany/.pyenv/versions/3.8.12/lib/python3.8/site-packages (1.5.12)\nRequirement already satisfied: six>=1.10 in /home/codeany/.pyenv/versions/3.8.12/lib/python3.8/site-packages (from kaggle==1.5.12) (1.15.0)\nRequirement already satisfied: certifi in /home/codeany/.pyenv/versions/3.8.12/lib/python3.8/site-packages (from kaggle==1.5.12) (2023.5.7)\nRequirement already satisfied: python-dateutil in /home/codeany/.pyenv/versions/3.8.12/lib/python3.8/site-packages (from kaggle==1.5.12) (2.8.2)\nRequirement already satisfied: requests in /home/codeany/.pyenv/versions/3.8.12/lib/python3.8/site-packages (from kaggle==1.5.12) (2.30.0)\nRequirement already satisfied: tqdm in /home/codeany/.pyenv/versions/3.8.12/lib/python3.8/site-packages (from kaggle==1.5.12) (4.65.0)\nRequirement already satisfied: python-slugify in /home/codeany/.pyenv/versions/3.8.12/lib/python3.8/site-packages (from kaggle==1.5.12) (8.0.1)\nRequirement already satisfied: urllib3 in /home/codeany/.pyenv/versions/3.8.12/lib/python3.8/site-packages (from kaggle==1.5.12) (2.0.2)\nRequirement already satisfied: text-unidecode>=1.3 in /home/codeany/.pyenv/versions/3.8.12/lib/python3.8/site-packages (from python-slugify->kaggle==1.5.12) (1.3)\nRequirement already satisfied: charset-normalizer<4,>=2 in /home/codeany/.pyenv/versions/3.8.12/lib/python3.8/site-packages (from requests->kaggle==1.5.12) (3.1.0)\nRequirement already satisfied: idna<4,>=2.5 in /home/codeany/.pyenv/versions/3.8.12/lib/python3.8/site-packages (from requests->kaggle==1.5.12) (3.4)\nNote: you may need to restart the kernel to use updated packages.\n"
        }
      ],
      "source": [
        "%pip install kaggle==1.5.12\n"
      ]
    },
    {
      "cell_type": "code",
      "execution_count": 7,
      "metadata": {
        "tags": []
      },
      "outputs": [],
      "source": [
        "os.environ['KAGGLE_CONFIG_DIR'] = os.getcwd()\n",
        "! chmod 600 kaggle.json"
      ]
    },
    {
      "cell_type": "code",
      "execution_count": 8,
      "metadata": {
        "tags": []
      },
      "outputs": [
        {
          "output_type": "stream",
          "name": "stdout",
          "text": "Downloading cherry-leaves.zip to inputs/datasets\n 89%|█████████████████████████████████▊    | 49.0M/55.0M [00:01<00:00, 62.2MB/s]\n100%|██████████████████████████████████████| 55.0M/55.0M [00:01<00:00, 49.6MB/s]\n"
        }
      ],
      "source": [
        "KaggleDatasetPath = \"codeinstitute/cherry-leaves\"\n",
        "DestinationFolder = \"inputs/datasets\"   \n",
        "! kaggle datasets download -d {KaggleDatasetPath} -p {DestinationFolder}"
      ]
    },
    {
      "cell_type": "code",
      "execution_count": 9,
      "metadata": {
        "tags": []
      },
      "outputs": [
        {
          "output_type": "stream",
          "name": "stdout",
          "text": "Done!\n"
        }
      ],
      "source": [
        "import zipfile\n",
        "with zipfile.ZipFile(DestinationFolder + '/cherry-leaves.zip', 'r') as zip_ref:\n",
        "    zip_ref.extractall(DestinationFolder)\n",
        "\n",
        "os.remove(DestinationFolder + '/cherry-leaves.zip')\n",
        "\n",
        "print(\"Done!\")"
      ]
    },
    {
      "cell_type": "markdown",
      "metadata": {
        "id": "ZY3l0-AxO93d"
      },
      "source": [
        "---"
      ]
    },
    {
      "cell_type": "markdown",
      "metadata": {
        "id": "uFQo3ycuO-v6"
      },
      "source": [
        "# Data Preparation Stage"
      ]
    },
    {
      "cell_type": "markdown",
      "metadata": {},
      "source": [
        "In this section we are going to check for any files that are not images in the zip & split the files, train, validate and test the sets.\n",
        "\n",
        "## Find and remove files that are not images"
      ]
    },
    {
      "cell_type": "code",
      "execution_count": 10,
      "metadata": {
        "tags": []
      },
      "outputs": [
        {
          "output_type": "stream",
          "name": "stdout",
          "text": "Done!\n"
        }
      ],
      "source": [
        "#remove_non_image_file(my_data_dir='inputs/datasets/cherry-leaves')\n",
        "\n",
        "print(\"Done!\")"
      ]
    },
    {
      "cell_type": "code",
      "execution_count": 11,
      "metadata": {},
      "outputs": [],
      "source": [
        "def remove_non_image_file(my_data_dir):\n",
        "    \"\"\"Removes non-image files from the specified directory\"\"\"\n",
        "    image_extensions = ('.png', '.jpg', '.jpeg')\n",
        "    for folder in os.listdir(my_data_dir):\n",
        "        folder_path = os.path.join(my_data_dir, folder)\n",
        "        if os.path.isdir(folder_path):\n",
        "            for file in os.listdir(folder_path):\n",
        "                if not file.lower().endswith(image_extensions):\n",
        "                    os.remove(os.path.join(folder_path, file))\n",
        "    print(f\"Removed non-image files from {my_data_dir}\")\n"
      ]
    },
    {
      "cell_type": "code",
      "execution_count": 12,
      "metadata": {},
      "outputs": [],
      "source": [
        "def split_train_validation_test_images(my_data_dir, train_set_ratio, validation_set_ratio, test_set_ratio):\n",
        "    \"\"\" Split the data into train, validation and test sets \"\"\"\n",
        "\n",
        "    # Check that the sum of all the ratios is 1\n",
        "    if train_set_ratio + validation_set_ratio + test_set_ratio != 1.0:\n",
        "        print(\"train_set_ratio + validation_set_ratio + test_set_ratio should sum 1.0\")\n",
        "        return\n",
        "\n",
        "    # Get the class labels\n",
        "    labels = os.listdir(my_data_dir)\n",
        "\n",
        "    # Create train, validation and test folders if they don't already exist\n",
        "    for folder in ['train', 'validation', 'test']:\n",
        "        for label in labels:\n",
        "            os.makedirs(name=f\"{my_data_dir}/{folder}/{label}\", exist_ok=True)\n",
        "\n",
        "    # Loop over each label and move files to the appropriate set\n",
        "    for label in labels:\n",
        "        files = os.listdir(f\"{my_data_dir}/{label}\")\n",
        "        random.shuffle(files)\n",
        "\n",
        "        # Calculate the number of files for each set\n",
        "        train_set_files_qty = int(len(files) * train_set_ratio)\n",
        "        validation_set_files_qty = int(len(files) * validation_set_ratio)\n",
        "\n",
        "        for i, file_name in enumerate(files):\n",
        "            if i < train_set_files_qty:\n",
        "                # Move given file to train set\n",
        "                dest_dir = f\"{my_data_dir}/train/{label}\"\n",
        "            elif i < (train_set_files_qty + validation_set_files_qty):\n",
        "                # Move given file to validation set\n",
        "                dest_dir = f\"{my_data_dir}/validation/{label}\"\n",
        "            else:\n",
        "                # Move given file to test set\n",
        "                dest_dir = f\"{my_data_dir}/test/{label}\"\n",
        "            shutil.move(f\"{my_data_dir}/{label}/{file_name}\", f\"{dest_dir}/{file_name}\")\n",
        "\n",
        "        # Remove the original folder\n",
        "        os.rmdir(f\"{my_data_dir}/{label}\")\n"
      ]
    },
    {
      "cell_type": "code",
      "execution_count": 13,
      "metadata": {
        "tags": []
      },
      "outputs": [],
      "source": [
        "\n",
        "\n",
        "# def split_train_validation_test_images(my_data_dir, train_set_ratio, validation_set_ratio, test_set_ratio):\n",
        "#   \"\"\" Conventionally, we used to divide the train, validation and test set in 70,10 and 20 percent of the \n",
        "#   data respectively \"\"\"\n",
        "  \n",
        "#   if train_set_ratio + validation_set_ratio + test_set_ratio != 1.0:\n",
        "#     # Check that the sum of all the ratios is 1\n",
        "#     print(\"train_set_ratio + validation_set_ratio + test_set_ratio should sum 1.0\")\n",
        "#     return\n",
        "\n",
        "#   # gets classes labels\n",
        "#   labels = os.listdir(my_data_dir) # it should get only the folder name\n",
        "#   if 'test' in labels:\n",
        "#     # If test exists means that all the folders have been created\n",
        "#     pass\n",
        "#   else: \n",
        "#     # create train, validation and test folders with classess labels sub-folder\n",
        "#     for folder in ['train','validation','test']:\n",
        "#       for label in labels:\n",
        "#         os.makedirs(name=my_data_dir+ '/' + folder + '/' + label)\n",
        "\n",
        "#     for label in labels:\n",
        "\n",
        "#       files = os.listdir(my_data_dir + '/' + label)\n",
        "#       random.shuffle(files)\n",
        "\n",
        "#       train_set_files_qty = int(len(files) * train_set_ratio)\n",
        "#       validation_set_files_qty = int(len(files) * validation_set_ratio)\n",
        "\n",
        "#       count = 1\n",
        "#       for file_name in files:\n",
        "#         if count <= train_set_files_qty:\n",
        "#           # move given file to train set\n",
        "#           shutil.move(my_data_dir + '/' + label + '/' + file_name,\n",
        "#                       my_data_dir + '/train/' + label + '/' + file_name)\n",
        "          \n",
        "\n",
        "#         elif count <= (train_set_files_qty + validation_set_files_qty ):\n",
        "#           # move given file to validation set\n",
        "#           shutil.move(my_data_dir + '/' + label + '/' + file_name,\n",
        "#                       my_data_dir + '/validation/' + label + '/' + file_name)\n",
        "\n",
        "#         else:\n",
        "#           # move given file to test set\n",
        "#           shutil.move(my_data_dir + '/' + label + '/' + file_name,\n",
        "#                   my_data_dir + '/test/' +label + '/'+ file_name)\n",
        "          \n",
        "#         count += 1\n",
        "\n",
        "#       os.rmdir(my_data_dir + '/' + label)\n",
        "\n",
        "    "
      ]
    },
    {
      "cell_type": "code",
      "execution_count": 14,
      "metadata": {},
      "outputs": [],
      "source": [
        "split_train_validation_test_images(my_data_dir = f\"inputs/datasets/cherry-leaves\",\n",
        "                        train_set_ratio = 0.7,\n",
        "                        validation_set_ratio=0.1,\n",
        "                        test_set_ratio=0.2\n",
        "                        )"
      ]
    },
    {
      "cell_type": "code",
      "execution_count": 15,
      "metadata": {
        "tags": []
      },
      "outputs": [
        {
          "output_type": "stream",
          "name": "stdout",
          "text": "Done!\n"
        }
      ],
      "source": [
        "\n",
        "\n",
        "print(\"Done!\")"
      ]
    },
    {
      "cell_type": "code",
      "execution_count": 16,
      "metadata": {
        "tags": []
      },
      "outputs": [
        {
          "output_type": "stream",
          "name": "stdout",
          "text": "Done!\n"
        }
      ],
      "source": [
        "\n",
        "\n",
        "print(\"Done!\")"
      ]
    },
    {
      "cell_type": "code",
      "execution_count": 17,
      "metadata": {
        "tags": []
      },
      "outputs": [
        {
          "output_type": "stream",
          "name": "stdout",
          "text": "Done!\n"
        }
      ],
      "source": [
        "\n",
        "\n",
        "print(\"Done!\")"
      ]
    },
    {
      "cell_type": "code",
      "execution_count": 18,
      "metadata": {
        "tags": []
      },
      "outputs": [
        {
          "output_type": "stream",
          "name": "stdout",
          "text": "Done!\n"
        }
      ],
      "source": [
        "\n",
        "\n",
        "print(\"Done!\")"
      ]
    },
    {
      "cell_type": "markdown",
      "metadata": {},
      "source": [
        "---"
      ]
    },
    {
      "cell_type": "markdown",
      "metadata": {},
      "source": [
        "NOTE"
      ]
    },
    {
      "cell_type": "markdown",
      "metadata": {},
      "source": [
        "* You may add as many sections as you want, as long as it supports your project workflow.\n",
        "* All notebook's cells should be run top-down (you can't create a dynamic wherein a given point you need to go back to a previous cell to execute some task, like go back to a previous cell and refresh a variable content)"
      ]
    },
    {
      "cell_type": "markdown",
      "metadata": {},
      "source": [
        "---"
      ]
    },
    {
      "cell_type": "markdown",
      "metadata": {
        "id": "ltNetd085qHf"
      },
      "source": [
        "# Push files to Repo"
      ]
    },
    {
      "cell_type": "markdown",
      "metadata": {},
      "source": [
        "* If you don't need to push files to Repo, you may replace this section with \"Conclusions and Next Steps\" and state your conclusions and next steps."
      ]
    },
    {
      "cell_type": "code",
      "execution_count": 19,
      "metadata": {
        "id": "aKlnIozA4eQO",
        "outputId": "fd09bc1f-adb1-4511-f6ce-492a6af570c0"
      },
      "outputs": [
        {
          "output_type": "error",
          "ename": "IndentationError",
          "evalue": "expected an indented block (1114530593.py, line 5)",
          "traceback": [
            "\u001b[0;36m  Cell \u001b[0;32mIn[19], line 5\u001b[0;36m\u001b[0m\n\u001b[0;31m    except Exception as e:\u001b[0m\n\u001b[0m    ^\u001b[0m\n\u001b[0;31mIndentationError\u001b[0m\u001b[0;31m:\u001b[0m expected an indented block\n"
          ]
        }
      ],
      "source": [
        "import os\n",
        "try:\n",
        "    # create here your folder\n",
        "    # os.makedirs(name='')\n",
        "except Exception as e:\n",
        "    print(e)\n"
      ]
    }
  ],
  "metadata": {
    "accelerator": "GPU",
    "colab": {
      "name": "Data Practitioner Jupyter Notebook.ipynb",
      "provenance": [],
      "toc_visible": true
    },
    "interpreter": {
      "hash": "8b8334dab9339717f727a1deaf837b322d7a41c20d15cc86be99a8e69ceec8ce"
    },
    "kernelspec": {
      "display_name": "Python 3.8.12 64-bit ('3.8.12': pyenv)",
      "name": "python381264bit3812pyenvc04d3d2ca57d4331bd2ef17489335b1f"
    },
    "language_info": {
      "codemirror_mode": {
        "name": "ipython",
        "version": 3
      },
      "file_extension": ".py",
      "mimetype": "text/x-python",
      "name": "python",
      "nbconvert_exporter": "python",
      "pygments_lexer": "ipython3",
      "version": "3.8.12-final"
    },
    "orig_nbformat": 2
  },
  "nbformat": 4,
  "nbformat_minor": 2
}