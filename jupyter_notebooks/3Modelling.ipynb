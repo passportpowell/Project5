{
    "cells": [
        {
            "attachments": {},
            "cell_type": "markdown",
            "metadata": {},
            "source": [
                "## The objectives are as follows:\n",
                "\n",
                "\n",
                "- Respond to Business Requirement 2:\n",
                "\n",
                "    - There is a client who wants to know whether a given image of a cherry leaf is healthy or if it has powdery mildew.\n",
                "\n",
                "\n",
                "\n",
                "## Inputs\n",
                "\n",
                "\n",
                "    Following sets:\n",
                "\n",
                "* Train\n",
                "\n",
                "* Validation\n",
                "\n",
                "* Test\n",
                "\n",
                "\n",
                "\n",
                "## Outputs\n",
                "\n",
                "\n",
                "- Images distribution plot in train, validation, and test set.\n",
                "\n",
                "- Increasing data diversity by enhancing images.\n",
                "\n",
                "- Adjusting label predictions during inference by modifying class indices.\n",
                "\n",
                "- Machine learning model creation and training.\n",
                "\n",
                "- The trained model should be preserved (saved).\n",
                "\n",
                "- The learning curve is plotted to visualize the performance of the model.\n",
                "\n",
                "- Evaluating the model's performance.\n",
                "\n",
                "- Making predictions on a randomly selected image file."
            ]
        },
        {
            "cell_type": "code",
            "execution_count": null,
            "metadata": {},
            "outputs": [],
            "source": [
                "%pip install -r /workspace/project5/requirements.txt\n"
            ]
        },
        {
            "cell_type": "code",
            "execution_count": null,
            "metadata": {
                "tags": []
            },
            "outputs": [],
            "source": [
                "import os\n",
                "current_dir = os.getcwd()\n",
                "current_dir\n",
                "\n"
            ]
        },
        {
            "cell_type": "code",
            "execution_count": null,
            "metadata": {
                "tags": []
            },
            "outputs": [],
            "source": [
                "os.chdir(os.path.dirname(current_dir))\n",
                "print(\"You set a new current directory\")"
            ]
        },
        {
            "cell_type": "code",
            "execution_count": null,
            "metadata": {},
            "outputs": [],
            "source": [
                "work_dir = os.getcwd()\n",
                "work_dir"
            ]
        },
        {
            "cell_type": "code",
            "execution_count": null,
            "metadata": {},
            "outputs": [],
            "source": [
                "import pandas as pd\n",
                "import numpy as np\n",
                "import matplotlib.pyplot as plt\n",
                "import seaborn as sns\n",
                "from matplotlib.image import imread\n",
                "import joblib\n",
                "from tensorflow.keras.preprocessing.image import ImageDataGenerator\n",
                "from tensorflow.keras.models import Sequential, load_model\n",
                "from tensorflow.keras.layers import Activation, Dropout, Flatten, Dense, Conv2D, MaxPooling2D\n",
                "from tensorflow.keras.callbacks import EarlyStopping\n",
                "from tensorflow import keras\n",
                "\n"
            ]
        },
        {
            "cell_type": "code",
            "execution_count": null,
            "metadata": {
                "tags": []
            },
            "outputs": [],
            "source": [
                "my_data_dir = 'inputs/datasets/cherry-leaves' \n",
                "train_path = my_data_dir + '/train'\n",
                "validation_path = my_data_dir + '/validation'\n",
                "test_path = my_data_dir + '/test'\n",
                "my_data_dir\n",
                "\n",
                "version = 'v1'\n",
                "file_path = f'outputs/{version}'\n",
                "\n",
                "if 'outputs' in os.listdir(work_dir) and version in os.listdir(work_dir + '/outputs'):\n",
                "  print('There is a version is already available, please create a new version.')\n",
                "  pass\n",
                "else:\n",
                "  os.makedirs(name=file_path)\n"
            ]
        },
        {
            "cell_type": "code",
            "execution_count": null,
            "metadata": {
                "tags": []
            },
            "outputs": [],
            "source": [
                "labels = os.listdir(train_path)\n",
                "\n",
                "print(f\"The project labels are: {labels}\")\n",
                "\n",
                "version = 'v1'\n",
                "image_shape = joblib.load(filename=f\"outputs/{version}/images_shapes.pkl\")\n",
                "image_shape"
            ]
        },
        {
            "attachments": {},
            "cell_type": "markdown",
            "metadata": {},
            "source": [
                "### Retrieve the counts of images in the train, validation, and test datasets, and generate a plot displaying the distribution of images across these datasets."
            ]
        },
        {
            "cell_type": "code",
            "execution_count": null,
            "metadata": {
                "tags": []
            },
            "outputs": [],
            "source": [
                "image_counts = []\n",
                "for folder in ['train', 'validation', 'test']:\n",
                "    counts = [len(os.listdir(f\"{my_data_dir}/{folder}/{label}\")) for label in labels]\n",
                "    image_counts.extend(zip([folder]*len(labels), labels, counts))\n",
                "    print('\\n'.join([f\"* {folder} - {label}: {count} images\" for label, count in zip(labels, counts)]))\n",
                "\n",
                "sns.set_style(\"darkgrid\")\n",
                "plt.figure(figsize=(8, 5))\n",
                "sns.barplot(data=pd.DataFrame(image_counts, columns=['Set', 'Label', 'Frequency']), x='Set', y='Frequency', hue='Label')\n",
                "plt.savefig(f'{file_path}/labels_distribution.png', bbox_inches='tight', dpi=150)\n",
                "plt.show()\n",
                "#---------------------------------------------"
            ]
        },
        {
            "attachments": {},
            "cell_type": "markdown",
            "metadata": {},
            "source": [
                "### Enhancing the training process, by utilizing the ImageDataGenerator library to employ image data augmentation techniques. This will create a varied set of temporary images within the training dataset, thereby enhancing the training process"
            ]
        },
        {
            "attachments": {},
            "cell_type": "markdown",
            "metadata": {},
            "source": [
                "### Visualize Augmented Training Images##"
            ]
        },
        {
            "cell_type": "code",
            "execution_count": null,
            "metadata": {
                "tags": []
            },
            "outputs": [],
            "source": [
                "training_batch_size = 20\n",
                "\n",
                "augmented_test_set = ImageDataGenerator(rescale=1./255).flow_from_directory(\n",
                "    test_path,                                                                            \n",
                "    target_size=image_shape[:2],\n",
                "    color_mode='rgb',\n",
                "    batch_size=training_batch_size,\n",
                "    class_mode='binary',\n",
                "    shuffle=False\n",
                ")\n",
                "\n",
                "\n",
                "augmented_train_set = ImageDataGenerator(\n",
                "    rescale=1./255,\n",
                "    rotation_range=20,\n",
                "    width_shift_range=0.1,\n",
                "    height_shift_range=0.1,\n",
                "    shear_range=0.1,\n",
                "    zoom_range=0.1,\n",
                "    horizontal_flip=True,\n",
                "    vertical_flip=True,\n",
                "    fill_mode='nearest'\n",
                ").flow_from_directory(\n",
                "    train_path,\n",
                "    target_size=image_shape[:2],\n",
                "    color_mode='rgb',\n",
                "    batch_size=training_batch_size,\n",
                "    class_mode='binary',\n",
                "    shuffle=True\n",
                ")\n",
                "\n",
                "\n",
                "augmented_validation_set = ImageDataGenerator(rescale=1./255).flow_from_directory(\n",
                "    validation_path,\n",
                "    target_size=image_shape[:2],\n",
                "    color_mode='rgb',\n",
                "    batch_size=training_batch_size,\n",
                "    class_mode='binary',\n",
                "    shuffle=False\n",
                ")\n",
                "\n",
                "print(\"Test class Found {0} images belonging to {1} classes.\".format(augmented_test_set.samples, len(augmented_test_set.class_indices)))\n",
                "\n",
                "print(\"Train class Found {0} images belonging to {1} classes.\".format(augmented_train_set.samples, len(augmented_train_set.class_indices)))\n",
                "\n",
                "print(\"Validation class Found {0} images belonging to {1} classes.\".format(augmented_validation_set.samples, len(augmented_validation_set.class_indices)))\n",
                "\n",
                "#---------------------------------------------"
            ]
        },
        {
            "cell_type": "code",
            "execution_count": null,
            "metadata": {
                "tags": []
            },
            "outputs": [],
            "source": [
                "for _ in range(10):\n",
                "    img, label = augmented_test_set.next()\n",
                "    plt.imshow(img[0])\n",
                "    plt.show()\n",
                "    #---------------------------------------------"
            ]
        },
        {
            "cell_type": "code",
            "execution_count": null,
            "metadata": {},
            "outputs": [],
            "source": [
                "# TO FIX - Not showing data - Fixed by correctin syntax in code. Had no rescaling\n",
                "for _ in range(10):\n",
                "    img, label = augmented_train_set.next()\n",
                "    plt.imshow(img[0])\n",
                "    plt.show()\n",
                "    #---------------------------------------------"
            ]
        },
        {
            "cell_type": "code",
            "execution_count": null,
            "metadata": {},
            "outputs": [],
            "source": [
                "\n",
                "for _ in range(10):\n",
                "    img, label = augmented_validation_set.next()\n",
                "    plt.imshow(img[0])\n",
                "    plt.show()\n",
                "    #---------------------------------------------"
            ]
        },
        {
            "cell_type": "code",
            "execution_count": null,
            "metadata": {},
            "outputs": [],
            "source": [
                "joblib.dump(value=augmented_train_set.class_indices,\n",
                "            filename=f\"{file_path}/train_classes_indices.pkl\")"
            ]
        },
        {
            "attachments": {},
            "cell_type": "markdown",
            "metadata": {},
            "source": [
                "# Creating the model section:"
            ]
        },
        {
            "attachments": {},
            "cell_type": "markdown",
            "metadata": {},
            "source": [
                "#### - Creating an image classification model using convolutional, pooling, dense, and dropout layers, compiles it, and returns the model. Summary() method is then called to display the model architecture summary."
            ]
        },
        {
            "cell_type": "code",
            "execution_count": 89,
            "metadata": {
                "tags": []
            },
            "outputs": [
                {
                    "name": "stdout",
                    "output_type": "stream",
                    "text": [
                        "Model: \"sequential_23\"\n",
                        "_________________________________________________________________\n",
                        " Layer (type)                Output Shape              Param #   \n",
                        "=================================================================\n",
                        " conv2d_79 (Conv2D)          (None, 62, 62, 32)        896       \n",
                        "                                                                 \n",
                        " max_pooling2d_79 (MaxPoolin  (None, 31, 31, 32)       0         \n",
                        " g2D)                                                            \n",
                        "                                                                 \n",
                        " conv2d_80 (Conv2D)          (None, 29, 29, 64)        18496     \n",
                        "                                                                 \n",
                        " max_pooling2d_80 (MaxPoolin  (None, 14, 14, 64)       0         \n",
                        " g2D)                                                            \n",
                        "                                                                 \n",
                        " conv2d_81 (Conv2D)          (None, 12, 12, 64)        36928     \n",
                        "                                                                 \n",
                        " max_pooling2d_81 (MaxPoolin  (None, 6, 6, 64)         0         \n",
                        " g2D)                                                            \n",
                        "                                                                 \n",
                        " flatten_23 (Flatten)        (None, 2304)              0         \n",
                        "                                                                 \n",
                        " dense_46 (Dense)            (None, 128)               295040    \n",
                        "                                                                 \n",
                        " dropout_23 (Dropout)        (None, 128)               0         \n",
                        "                                                                 \n",
                        " dense_47 (Dense)            (None, 1)                 129       \n",
                        "                                                                 \n",
                        "=================================================================\n",
                        "Total params: 351,489\n",
                        "Trainable params: 351,489\n",
                        "Non-trainable params: 0\n",
                        "_________________________________________________________________\n"
                    ]
                }
            ],
            "source": [
                "def create_image_classification_model():\n",
                "    model = Sequential([\n",
                "        Conv2D(32, (3, 3), input_shape=image_shape, activation='relu'),\n",
                "        MaxPooling2D((2, 2)),\n",
                "        Conv2D(64, (3, 3), activation='relu'),\n",
                "        MaxPooling2D((2, 2)),\n",
                "        Conv2D(64, (3, 3), activation='relu'),\n",
                "        MaxPooling2D((2, 2)),\n",
                "        Flatten(),\n",
                "        Dense(128, activation='relu'),\n",
                "        Dropout(0.5),\n",
                "        Dense(1, activation='sigmoid')\n",
                "    ])\n",
                "\n",
                "    model.compile(loss='binary_crossentropy',\n",
                "                  optimizer='adam',\n",
                "                  metrics=['accuracy'])\n",
                "\n",
                "    return model\n",
                "create_image_classification_model().summary()\n",
                "\n",
                "\n",
                "# ----------------------------\n"
            ]
        },
        {
            "attachments": {},
            "cell_type": "markdown",
            "metadata": {},
            "source": [
                "- Training an image classification model using 'augmented_train_set' dataset and validating it using the 'augmented_validation_set' dataset. EarlyStopping callback to stop training if the validation accuracy does not improve for _5_ consecutive epochs."
            ]
        },
        {
            "cell_type": "code",
            "execution_count": 90,
            "metadata": {
                "tags": []
            },
            "outputs": [
                {
                    "name": "stdout",
                    "output_type": "stream",
                    "text": [
                        "Epoch 1/10\n"
                    ]
                },
                {
                    "name": "stderr",
                    "output_type": "stream",
                    "text": [
                        "2023-05-22 13:49:34.455824: I tensorflow/core/common_runtime/executor.cc:1197] [/device:CPU:0] (DEBUG INFO) Executor start aborting (this does not indicate an error and you can ignore this message): INVALID_ARGUMENT: You must feed a value for placeholder tensor 'Placeholder/_0' with dtype int32\n",
                        "\t [[{{node Placeholder/_0}}]]\n"
                    ]
                },
                {
                    "name": "stdout",
                    "output_type": "stream",
                    "text": [
                        "148/148 [==============================] - ETA: 0s - loss: 0.3663 - accuracy: 0.8118"
                    ]
                },
                {
                    "name": "stderr",
                    "output_type": "stream",
                    "text": [
                        "2023-05-22 13:49:41.348174: I tensorflow/core/common_runtime/executor.cc:1197] [/device:CPU:0] (DEBUG INFO) Executor start aborting (this does not indicate an error and you can ignore this message): INVALID_ARGUMENT: You must feed a value for placeholder tensor 'Placeholder/_0' with dtype int32\n",
                        "\t [[{{node Placeholder/_0}}]]\n"
                    ]
                },
                {
                    "name": "stdout",
                    "output_type": "stream",
                    "text": [
                        "148/148 [==============================] - 7s 43ms/step - loss: 0.3663 - accuracy: 0.8118 - val_loss: 0.1041 - val_accuracy: 0.9738\n",
                        "Epoch 2/10\n",
                        "148/148 [==============================] - 5s 34ms/step - loss: 0.1212 - accuracy: 0.9616 - val_loss: 0.0558 - val_accuracy: 0.9690\n",
                        "Epoch 3/10\n",
                        "148/148 [==============================] - 5s 34ms/step - loss: 0.0880 - accuracy: 0.9766 - val_loss: 0.0213 - val_accuracy: 0.9929\n",
                        "Epoch 4/10\n",
                        "148/148 [==============================] - 9s 63ms/step - loss: 0.0524 - accuracy: 0.9847 - val_loss: 0.0635 - val_accuracy: 0.9738\n",
                        "Epoch 5/10\n",
                        "148/148 [==============================] - 8s 56ms/step - loss: 0.0425 - accuracy: 0.9868 - val_loss: 0.0283 - val_accuracy: 0.9905\n",
                        "Epoch 6/10\n",
                        "148/148 [==============================] - 5s 33ms/step - loss: 0.0467 - accuracy: 0.9888 - val_loss: 0.0080 - val_accuracy: 1.0000\n",
                        "Epoch 7/10\n",
                        "148/148 [==============================] - 5s 33ms/step - loss: 0.0273 - accuracy: 0.9918 - val_loss: 0.0048 - val_accuracy: 1.0000\n",
                        "Epoch 8/10\n",
                        "148/148 [==============================] - 6s 44ms/step - loss: 0.0199 - accuracy: 0.9956 - val_loss: 0.0070 - val_accuracy: 0.9952\n",
                        "Epoch 9/10\n",
                        "148/148 [==============================] - 10s 68ms/step - loss: 0.0387 - accuracy: 0.9868 - val_loss: 0.0077 - val_accuracy: 0.9952\n",
                        "Epoch 10/10\n",
                        "148/148 [==============================] - 6s 39ms/step - loss: 0.0175 - accuracy: 0.9918 - val_loss: 0.0098 - val_accuracy: 0.9952\n",
                        "Model saved as <keras.engine.sequential.Sequential object at 0x7f26e8ea5d90>\n"
                    ]
                }
            ],
            "source": [
                "model = create_image_classification_model()\n",
                "\n",
                "model.fit(augmented_train_set,\n",
                "          epochs=10,\n",
                "          validation_data=augmented_validation_set,\n",
                "          verbose=1)\n",
                "\n",
                "model.save('outputs/v1/cherry_disease_model.h5')\n",
                "print(f\"Model saved as {model}\")\n",
                "\n",
                "#----------------------------------------------\n",
                "\n"
            ]
        },
        {
            "attachments": {},
            "cell_type": "markdown",
            "metadata": {},
            "source": [
                "# Checking the performance of the created model\n",
                "\n",
                "- Generating two plots: one for the loss values and one for the accuracy values from the model training history. Print plots as images."
            ]
        },
        {
            "cell_type": "code",
            "execution_count": 91,
            "metadata": {
                "tags": []
            },
            "outputs": [
                {
                    "data": {
                        "image/png": "[encoded data removed]",
                        "text/plain": [
                            "<Figure size 640x480 with 1 Axes>"
                        ]
                    },
                    "metadata": {},
                    "output_type": "display_data"
                },
                {
                    "name": "stdout",
                    "output_type": "stream",
                    "text": [
                        "\n",
                        "\n"
                    ]
                },
                {
                    "data": {
                        "image/png": "[encoded data removed]",
                        "text/plain": [
                            "<Figure size 640x480 with 1 Axes>"
                        ]
                    },
                    "metadata": {},
                    "output_type": "display_data"
                }
            ],
            "source": [
                "losses = pd.DataFrame(model.history.history)\n",
                "\n",
                "sns.set_style(\"darkgrid\")\n",
                "losses[['loss', 'val_loss']].plot(style='.-')\n",
                "plt.title(\"Loss\")\n",
                "plt.legend(['Training Loss', 'Validation Loss'])  # Change legend labels\n",
                "plt.savefig(f'{file_path}/model_training_losses.png', bbox_inches='tight', dpi=150)\n",
                "plt.show()\n",
                "\n",
                "print(\"\\n\")\n",
                "\n",
                "losses[['accuracy', 'val_accuracy']].plot(style='.-')\n",
                "plt.title(\"Accuracy\")\n",
                "plt.legend(['Training Accuracy', 'Validation Accuracy'])  # Change legend labels\n",
                "plt.savefig(f'{file_path}/model_training_acc.png', bbox_inches='tight', dpi=150)\n",
                "plt.show()\n",
                "#---------------------------------------------\n"
            ]
        },
        {
            "attachments": {},
            "cell_type": "markdown",
            "metadata": {},
            "source": [
                "# Evaluating the created Model \n",
                "\n",
                "- \n"
            ]
        },
        {
            "cell_type": "code",
            "execution_count": 92,
            "metadata": {
                "tags": []
            },
            "outputs": [
                {
                    "name": "stdout",
                    "output_type": "stream",
                    "text": [
                        "13/43 [========>.....................] - ETA: 0s - loss: 7.4943e-05 - accuracy: 1.0000"
                    ]
                },
                {
                    "name": "stderr",
                    "output_type": "stream",
                    "text": [
                        "2023-05-22 13:50:42.819639: I tensorflow/core/common_runtime/executor.cc:1197] [/device:CPU:0] (DEBUG INFO) Executor start aborting (this does not indicate an error and you can ignore this message): INVALID_ARGUMENT: You must feed a value for placeholder tensor 'Placeholder/_0' with dtype int32\n",
                        "\t [[{{node Placeholder/_0}}]]\n"
                    ]
                },
                {
                    "name": "stdout",
                    "output_type": "stream",
                    "text": [
                        "43/43 [==============================] - 1s 12ms/step - loss: 0.0038 - accuracy: 0.9988\n"
                    ]
                },
                {
                    "data": {
                        "text/plain": [
                            "['outputs/v1/model_evaluation.pkl']"
                        ]
                    },
                    "execution_count": 92,
                    "metadata": {},
                    "output_type": "execute_result"
                }
            ],
            "source": [
                "evaluation = model.evaluate(augmented_test_set)\n",
                "joblib.dump(value=evaluation,\n",
                "            filename=f\"outputs/v1/model_evaluation.pkl\")\n",
                "#---------------------------------------------"
            ]
        },
        {
            "cell_type": "code",
            "execution_count": null,
            "metadata": {},
            "outputs": [],
            "source": []
        },
        {
            "attachments": {},
            "cell_type": "markdown",
            "metadata": {},
            "source": [
                " # Prediction on new data"
            ]
        },
        {
            "cell_type": "code",
            "execution_count": null,
            "metadata": {},
            "outputs": [],
            "source": []
        },
        {
            "attachments": {},
            "cell_type": "markdown",
            "metadata": {},
            "source": [
                "# Summary"
            ]
        },
        {
            "attachments": {},
            "cell_type": "markdown",
            "metadata": {},
            "source": [
                "### To Fix:\n",
                "- play around with Patience (L53)and epoch (l53)\n",
                "- loss and val_accuracy don't seem to be good - There is high loss (0.7) and and low accuracy (0.5)\n",
                "- \"for _ in range(5):img, label = augmented_train_set.next()\" is not showing any images - Fixed issue\n",
                "- editing code for loss and val_accuracy leads to improvemnetsin the accuracy plot only. needs fine tuning\n",
                "- Tried increasing augmented data from 2 to 10 range to see if that improves accuracy. \n",
                "- Fixed Loss accuracy as I was selecting the wrong columns. Corrected \"losses[['loss', 'val_accuracy']].plot(style='.-')\" to \"losses[['loss', 'val_loss']].plot(style='.-')\""
            ]
        },
        {
            "attachments": {},
            "cell_type": "markdown",
            "metadata": {},
            "source": []
        }
    ],
    "metadata": {
        "kernelspec": {
            "display_name": "Python 3 (ipykernel)",
            "name": "python3"
        },
        "language_info": {
            "codemirror_mode": {
                "name": "ipython",
                "version": 3
            },
            "file_extension": ".py",
            "mimetype": "text/x-python",
            "name": "python",
            "nbconvert_exporter": "python",
            "pygments_lexer": "ipython3",
            "version": "3.11.1"
        },
        "orig_nbformat": 2
    },
    "nbformat": 4,
    "nbformat_minor": 2
}
