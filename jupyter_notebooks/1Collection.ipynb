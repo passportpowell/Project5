{
  "cells": [
    {
      "attachments": {},
      "cell_type": "markdown",
      "metadata": {
        "id": "0aStgWSO0E0E"
      },
      "source": [
        "# **(ADD HERE THE NOTEBOOK NAME)**"
      ]
    },
    {
      "attachments": {},
      "cell_type": "markdown",
      "metadata": {
        "id": "1eLEkw5O0ECa"
      },
      "source": [
        "## Objectives\n",
        "\n",
        "* Colect the data from Kaggle, unzip, prepare and storage it for further analysis.\n",
        "\n",
        "\n",
        "## Inputs\n",
        "\n",
        "* The Kaggle JSON file authentication token.\n",
        "\n",
        "\n",
        "## Outputs\n",
        "\n",
        "* Create Dataset: inputs/datasets/cherry-leaves\n",
        "\n",
        "## Additional Comments\n",
        "\n",
        "\n",
        "* The data must be saved after being prepared, removing any files that are not an images, split the data into Train, Validation and Set folders.\n",
        "\n"
      ]
    },
    {
      "attachments": {},
      "cell_type": "markdown",
      "metadata": {
        "id": "9uWZXH9LwoQg"
      },
      "source": [
        "---"
      ]
    },
    {
      "cell_type": "code",
      "execution_count": 1,
      "metadata": {
        "tags": [
          "outputPrepend"
        ]
      },
      "outputs": [
        {
          "name": "stdout",
          "output_type": "stream",
          "text": [
            "Defaulting to user installation because normal site-packages is not writeable\n",
            "Requirement already satisfied: numpy in /workspace/.pyenv_mirror/user/current/lib/python3.10/site-packages (from -r /workspace/project5/requirements.txt (line 24)) (1.23.5)\n",
            "Requirement already satisfied: pandas in /workspace/.pyenv_mirror/user/current/lib/python3.10/site-packages (from -r /workspace/project5/requirements.txt (line 25)) (2.0.2)\n",
            "Requirement already satisfied: matplotlib in /workspace/.pyenv_mirror/user/current/lib/python3.10/site-packages (from -r /workspace/project5/requirements.txt (line 26)) (3.7.1)\n",
            "Requirement already satisfied: seaborn==0.11.0 in /workspace/.pyenv_mirror/user/current/lib/python3.10/site-packages (from -r /workspace/project5/requirements.txt (line 27)) (0.11.0)\n",
            "Requirement already satisfied: plotly==4.12.0 in /workspace/.pyenv_mirror/user/current/lib/python3.10/site-packages (from -r /workspace/project5/requirements.txt (line 28)) (4.12.0)\n",
            "Requirement already satisfied: streamlit==0.85.0 in /workspace/.pyenv_mirror/user/current/lib/python3.10/site-packages (from -r /workspace/project5/requirements.txt (line 30)) (0.85.0)\n",
            "Requirement already satisfied: scikit-learn in /workspace/.pyenv_mirror/user/current/lib/python3.10/site-packages (from -r /workspace/project5/requirements.txt (line 32)) (1.2.2)\n",
            "Requirement already satisfied: tensorflow-cpu in /workspace/.pyenv_mirror/user/current/lib/python3.10/site-packages (from -r /workspace/project5/requirements.txt (line 33)) (2.12.0)\n",
            "Requirement already satisfied: keras in /workspace/.pyenv_mirror/user/current/lib/python3.10/site-packages (from -r /workspace/project5/requirements.txt (line 34)) (2.12.0)\n",
            "Requirement already satisfied: protobuf in /workspace/.pyenv_mirror/user/current/lib/python3.10/site-packages (from -r /workspace/project5/requirements.txt (line 35)) (4.23.2)\n",
            "Requirement already satisfied: scipy>=1.0 in /workspace/.pyenv_mirror/user/current/lib/python3.10/site-packages (from seaborn==0.11.0->-r /workspace/project5/requirements.txt (line 27)) (1.10.1)\n",
            "Requirement already satisfied: six in /usr/lib/python3/dist-packages (from plotly==4.12.0->-r /workspace/project5/requirements.txt (line 28)) (1.16.0)\n",
            "Requirement already satisfied: retrying>=1.3.3 in /workspace/.pyenv_mirror/user/current/lib/python3.10/site-packages (from plotly==4.12.0->-r /workspace/project5/requirements.txt (line 28)) (1.3.4)\n",
            "Requirement already satisfied: altair>=3.2.0 in /workspace/.pyenv_mirror/user/current/lib/python3.10/site-packages (from streamlit==0.85.0->-r /workspace/project5/requirements.txt (line 30)) (5.0.1)\n",
            "Requirement already satisfied: watchdog in /workspace/.pyenv_mirror/user/current/lib/python3.10/site-packages (from streamlit==0.85.0->-r /workspace/project5/requirements.txt (line 30)) (3.0.0)\n",
            "Requirement already satisfied: base58 in /workspace/.pyenv_mirror/user/current/lib/python3.10/site-packages (from streamlit==0.85.0->-r /workspace/project5/requirements.txt (line 30)) (2.1.1)\n",
            "Requirement already satisfied: pyarrow in /workspace/.pyenv_mirror/user/current/lib/python3.10/site-packages (from streamlit==0.85.0->-r /workspace/project5/requirements.txt (line 30)) (12.0.0)\n",
            "Requirement already satisfied: pillow>=6.2.0 in /workspace/.pyenv_mirror/user/current/lib/python3.10/site-packages (from streamlit==0.85.0->-r /workspace/project5/requirements.txt (line 30)) (9.5.0)\n",
            "Requirement already satisfied: blinker in /usr/lib/python3/dist-packages (from streamlit==0.85.0->-r /workspace/project5/requirements.txt (line 30)) (1.4)\n",
            "Requirement already satisfied: cachetools>=4.0 in /workspace/.pyenv_mirror/user/current/lib/python3.10/site-packages (from streamlit==0.85.0->-r /workspace/project5/requirements.txt (line 30)) (5.3.1)\n",
            "Requirement already satisfied: pydeck>=0.1.dev5 in /workspace/.pyenv_mirror/user/current/lib/python3.10/site-packages (from streamlit==0.85.0->-r /workspace/project5/requirements.txt (line 30)) (0.8.1b0)\n",
            "Requirement already satisfied: requests in /workspace/.pyenv_mirror/user/current/lib/python3.10/site-packages (from streamlit==0.85.0->-r /workspace/project5/requirements.txt (line 30)) (2.31.0)\n",
            "Requirement already satisfied: click<8.0,>=7.0 in /workspace/.pyenv_mirror/user/current/lib/python3.10/site-packages (from streamlit==0.85.0->-r /workspace/project5/requirements.txt (line 30)) (7.1.2)\n",
            "Requirement already satisfied: gitpython in /workspace/.pyenv_mirror/user/current/lib/python3.10/site-packages (from streamlit==0.85.0->-r /workspace/project5/requirements.txt (line 30)) (3.1.31)\n",
            "Requirement already satisfied: python-dateutil in /workspace/.pyenv_mirror/user/current/lib/python3.10/site-packages (from streamlit==0.85.0->-r /workspace/project5/requirements.txt (line 30)) (2.8.2)\n",
            "Requirement already satisfied: attrs in /workspace/.pyenv_mirror/user/current/lib/python3.10/site-packages (from streamlit==0.85.0->-r /workspace/project5/requirements.txt (line 30)) (23.1.0)\n",
            "Requirement already satisfied: tornado>=5.0 in /workspace/.pyenv_mirror/user/current/lib/python3.10/site-packages (from streamlit==0.85.0->-r /workspace/project5/requirements.txt (line 30)) (6.3.2)\n",
            "Requirement already satisfied: tzlocal in /workspace/.pyenv_mirror/user/current/lib/python3.10/site-packages (from streamlit==0.85.0->-r /workspace/project5/requirements.txt (line 30)) (5.0.1)\n",
            "Requirement already satisfied: astor in /workspace/.pyenv_mirror/user/current/lib/python3.10/site-packages (from streamlit==0.85.0->-r /workspace/project5/requirements.txt (line 30)) (0.8.1)\n",
            "Requirement already satisfied: validators in /workspace/.pyenv_mirror/user/current/lib/python3.10/site-packages (from streamlit==0.85.0->-r /workspace/project5/requirements.txt (line 30)) (0.20.0)\n",
            "Requirement already satisfied: packaging in /workspace/.pyenv_mirror/user/current/lib/python3.10/site-packages (from streamlit==0.85.0->-r /workspace/project5/requirements.txt (line 30)) (23.1)\n",
            "Requirement already satisfied: toml in /workspace/.pyenv_mirror/user/current/lib/python3.10/site-packages (from streamlit==0.85.0->-r /workspace/project5/requirements.txt (line 30)) (0.10.2)\n",
            "Requirement already satisfied: tzdata>=2022.1 in /workspace/.pyenv_mirror/user/current/lib/python3.10/site-packages (from pandas->-r /workspace/project5/requirements.txt (line 25)) (2023.3)\n",
            "Requirement already satisfied: pytz>=2020.1 in /workspace/.pyenv_mirror/user/current/lib/python3.10/site-packages (from pandas->-r /workspace/project5/requirements.txt (line 25)) (2023.3)\n",
            "Requirement already satisfied: cycler>=0.10 in /workspace/.pyenv_mirror/user/current/lib/python3.10/site-packages (from matplotlib->-r /workspace/project5/requirements.txt (line 26)) (0.11.0)\n",
            "Requirement already satisfied: pyparsing>=2.3.1 in /usr/lib/python3/dist-packages (from matplotlib->-r /workspace/project5/requirements.txt (line 26)) (2.4.7)\n",
            "Requirement already satisfied: kiwisolver>=1.0.1 in /workspace/.pyenv_mirror/user/current/lib/python3.10/site-packages (from matplotlib->-r /workspace/project5/requirements.txt (line 26)) (1.4.4)\n",
            "Requirement already satisfied: fonttools>=4.22.0 in /workspace/.pyenv_mirror/user/current/lib/python3.10/site-packages (from matplotlib->-r /workspace/project5/requirements.txt (line 26)) (4.39.4)\n",
            "Requirement already satisfied: contourpy>=1.0.1 in /workspace/.pyenv_mirror/user/current/lib/python3.10/site-packages (from matplotlib->-r /workspace/project5/requirements.txt (line 26)) (1.0.7)\n",
            "Requirement already satisfied: threadpoolctl>=2.0.0 in /workspace/.pyenv_mirror/user/current/lib/python3.10/site-packages (from scikit-learn->-r /workspace/project5/requirements.txt (line 32)) (3.1.0)\n",
            "Requirement already satisfied: joblib>=1.1.1 in /workspace/.pyenv_mirror/user/current/lib/python3.10/site-packages (from scikit-learn->-r /workspace/project5/requirements.txt (line 32)) (1.2.0)\n",
            "Requirement already satisfied: h5py>=2.9.0 in /workspace/.pyenv_mirror/user/current/lib/python3.10/site-packages (from tensorflow-cpu->-r /workspace/project5/requirements.txt (line 33)) (3.8.0)\n",
            "Requirement already satisfied: wrapt<1.15,>=1.11.0 in /workspace/.pyenv_mirror/user/current/lib/python3.10/site-packages (from tensorflow-cpu->-r /workspace/project5/requirements.txt (line 33)) (1.14.1)\n",
            "Requirement already satisfied: flatbuffers>=2.0 in /workspace/.pyenv_mirror/user/current/lib/python3.10/site-packages (from tensorflow-cpu->-r /workspace/project5/requirements.txt (line 33)) (23.5.26)\n",
            "Requirement already satisfied: libclang>=13.0.0 in /workspace/.pyenv_mirror/user/current/lib/python3.10/site-packages (from tensorflow-cpu->-r /workspace/project5/requirements.txt (line 33)) (16.0.0)\n",
            "Requirement already satisfied: gast<=0.4.0,>=0.2.1 in /workspace/.pyenv_mirror/user/current/lib/python3.10/site-packages (from tensorflow-cpu->-r /workspace/project5/requirements.txt (line 33)) (0.4.0)\n",
            "Requirement already satisfied: termcolor>=1.1.0 in /workspace/.pyenv_mirror/user/current/lib/python3.10/site-packages (from tensorflow-cpu->-r /workspace/project5/requirements.txt (line 33)) (2.3.0)\n",
            "Requirement already satisfied: setuptools in /usr/lib/python3/dist-packages (from tensorflow-cpu->-r /workspace/project5/requirements.txt (line 33)) (59.6.0)\n",
            "Requirement already satisfied: grpcio<2.0,>=1.24.3 in /workspace/.pyenv_mirror/user/current/lib/python3.10/site-packages (from tensorflow-cpu->-r /workspace/project5/requirements.txt (line 33)) (1.54.2)\n",
            "Requirement already satisfied: opt-einsum>=2.3.2 in /workspace/.pyenv_mirror/user/current/lib/python3.10/site-packages (from tensorflow-cpu->-r /workspace/project5/requirements.txt (line 33)) (3.3.0)\n",
            "Requirement already satisfied: jax>=0.3.15 in /workspace/.pyenv_mirror/user/current/lib/python3.10/site-packages (from tensorflow-cpu->-r /workspace/project5/requirements.txt (line 33)) (0.4.11)\n",
            "Requirement already satisfied: google-pasta>=0.1.1 in /workspace/.pyenv_mirror/user/current/lib/python3.10/site-packages (from tensorflow-cpu->-r /workspace/project5/requirements.txt (line 33)) (0.2.0)\n",
            "Requirement already satisfied: tensorflow-estimator<2.13,>=2.12.0 in /workspace/.pyenv_mirror/user/current/lib/python3.10/site-packages (from tensorflow-cpu->-r /workspace/project5/requirements.txt (line 33)) (2.12.0)\n",
            "Requirement already satisfied: typing-extensions>=3.6.6 in /workspace/.pyenv_mirror/user/current/lib/python3.10/site-packages (from tensorflow-cpu->-r /workspace/project5/requirements.txt (line 33)) (4.6.2)\n",
            "Requirement already satisfied: tensorboard<2.13,>=2.12 in /workspace/.pyenv_mirror/user/current/lib/python3.10/site-packages (from tensorflow-cpu->-r /workspace/project5/requirements.txt (line 33)) (2.12.3)\n",
            "Requirement already satisfied: astunparse>=1.6.0 in /workspace/.pyenv_mirror/user/current/lib/python3.10/site-packages (from tensorflow-cpu->-r /workspace/project5/requirements.txt (line 33)) (1.6.3)\n",
            "Requirement already satisfied: absl-py>=1.0.0 in /workspace/.pyenv_mirror/user/current/lib/python3.10/site-packages (from tensorflow-cpu->-r /workspace/project5/requirements.txt (line 33)) (1.4.0)\n",
            "Requirement already satisfied: tensorflow-io-gcs-filesystem>=0.23.1 in /workspace/.pyenv_mirror/user/current/lib/python3.10/site-packages (from tensorflow-cpu->-r /workspace/project5/requirements.txt (line 33)) (0.32.0)\n",
            "Requirement already satisfied: jinja2 in /workspace/.pyenv_mirror/user/current/lib/python3.10/site-packages (from altair>=3.2.0->streamlit==0.85.0->-r /workspace/project5/requirements.txt (line 30)) (3.1.2)\n",
            "Requirement already satisfied: toolz in /workspace/.pyenv_mirror/user/current/lib/python3.10/site-packages (from altair>=3.2.0->streamlit==0.85.0->-r /workspace/project5/requirements.txt (line 30)) (0.12.0)\n",
            "Requirement already satisfied: jsonschema>=3.0 in /workspace/.pyenv_mirror/user/current/lib/python3.10/site-packages (from altair>=3.2.0->streamlit==0.85.0->-r /workspace/project5/requirements.txt (line 30)) (4.17.3)\n",
            "Requirement already satisfied: wheel<1.0,>=0.23.0 in /usr/lib/python3/dist-packages (from astunparse>=1.6.0->tensorflow-cpu->-r /workspace/project5/requirements.txt (line 33)) (0.37.1)\n",
            "Requirement already satisfied: ml-dtypes>=0.1.0 in /workspace/.pyenv_mirror/user/current/lib/python3.10/site-packages (from jax>=0.3.15->tensorflow-cpu->-r /workspace/project5/requirements.txt (line 33)) (0.1.0)\n",
            "Requirement already satisfied: google-auth<3,>=1.6.3 in /workspace/.pyenv_mirror/user/current/lib/python3.10/site-packages (from tensorboard<2.13,>=2.12->tensorflow-cpu->-r /workspace/project5/requirements.txt (line 33)) (2.19.0)\n",
            "Requirement already satisfied: werkzeug>=1.0.1 in /workspace/.pyenv_mirror/user/current/lib/python3.10/site-packages (from tensorboard<2.13,>=2.12->tensorflow-cpu->-r /workspace/project5/requirements.txt (line 33)) (2.3.4)\n",
            "Requirement already satisfied: google-auth-oauthlib<1.1,>=0.5 in /workspace/.pyenv_mirror/user/current/lib/python3.10/site-packages (from tensorboard<2.13,>=2.12->tensorflow-cpu->-r /workspace/project5/requirements.txt (line 33)) (1.0.0)\n",
            "Requirement already satisfied: tensorboard-data-server<0.8.0,>=0.7.0 in /workspace/.pyenv_mirror/user/current/lib/python3.10/site-packages (from tensorboard<2.13,>=2.12->tensorflow-cpu->-r /workspace/project5/requirements.txt (line 33)) (0.7.0)\n",
            "Requirement already satisfied: markdown>=2.6.8 in /workspace/.pyenv_mirror/user/current/lib/python3.10/site-packages (from tensorboard<2.13,>=2.12->tensorflow-cpu->-r /workspace/project5/requirements.txt (line 33)) (3.4.3)\n",
            "Requirement already satisfied: idna<4,>=2.5 in /workspace/.pyenv_mirror/user/current/lib/python3.10/site-packages (from requests->streamlit==0.85.0->-r /workspace/project5/requirements.txt (line 30)) (3.4)\n",
            "Requirement already satisfied: charset-normalizer<4,>=2 in /workspace/.pyenv_mirror/user/current/lib/python3.10/site-packages (from requests->streamlit==0.85.0->-r /workspace/project5/requirements.txt (line 30)) (3.1.0)\n",
            "Requirement already satisfied: urllib3<3,>=1.21.1 in /workspace/.pyenv_mirror/user/current/lib/python3.10/site-packages (from requests->streamlit==0.85.0->-r /workspace/project5/requirements.txt (line 30)) (1.26.16)\n",
            "Requirement already satisfied: certifi>=2017.4.17 in /workspace/.pyenv_mirror/user/current/lib/python3.10/site-packages (from requests->streamlit==0.85.0->-r /workspace/project5/requirements.txt (line 30)) (2023.5.7)\n",
            "Requirement already satisfied: gitdb<5,>=4.0.1 in /workspace/.pyenv_mirror/user/current/lib/python3.10/site-packages (from gitpython->streamlit==0.85.0->-r /workspace/project5/requirements.txt (line 30)) (4.0.10)\n",
            "Requirement already satisfied: decorator>=3.4.0 in /workspace/.pyenv_mirror/user/current/lib/python3.10/site-packages (from validators->streamlit==0.85.0->-r /workspace/project5/requirements.txt (line 30)) (5.1.1)\n",
            "Requirement already satisfied: smmap<6,>=3.0.1 in /workspace/.pyenv_mirror/user/current/lib/python3.10/site-packages (from gitdb<5,>=4.0.1->gitpython->streamlit==0.85.0->-r /workspace/project5/requirements.txt (line 30)) (5.0.0)\n",
            "Requirement already satisfied: rsa<5,>=3.1.4 in /workspace/.pyenv_mirror/user/current/lib/python3.10/site-packages (from google-auth<3,>=1.6.3->tensorboard<2.13,>=2.12->tensorflow-cpu->-r /workspace/project5/requirements.txt (line 33)) (4.9)\n",
            "Requirement already satisfied: pyasn1-modules>=0.2.1 in /workspace/.pyenv_mirror/user/current/lib/python3.10/site-packages (from google-auth<3,>=1.6.3->tensorboard<2.13,>=2.12->tensorflow-cpu->-r /workspace/project5/requirements.txt (line 33)) (0.3.0)\n",
            "Requirement already satisfied: requests-oauthlib>=0.7.0 in /workspace/.pyenv_mirror/user/current/lib/python3.10/site-packages (from google-auth-oauthlib<1.1,>=0.5->tensorboard<2.13,>=2.12->tensorflow-cpu->-r /workspace/project5/requirements.txt (line 33)) (1.3.1)\n",
            "Requirement already satisfied: MarkupSafe>=2.0 in /workspace/.pyenv_mirror/user/current/lib/python3.10/site-packages (from jinja2->altair>=3.2.0->streamlit==0.85.0->-r /workspace/project5/requirements.txt (line 30)) (2.1.2)\n",
            "Requirement already satisfied: pyrsistent!=0.17.0,!=0.17.1,!=0.17.2,>=0.14.0 in /workspace/.pyenv_mirror/user/current/lib/python3.10/site-packages (from jsonschema>=3.0->altair>=3.2.0->streamlit==0.85.0->-r /workspace/project5/requirements.txt (line 30)) (0.19.3)\n",
            "Requirement already satisfied: pyasn1<0.6.0,>=0.4.6 in /workspace/.pyenv_mirror/user/current/lib/python3.10/site-packages (from pyasn1-modules>=0.2.1->google-auth<3,>=1.6.3->tensorboard<2.13,>=2.12->tensorflow-cpu->-r /workspace/project5/requirements.txt (line 33)) (0.5.0)\n",
            "Requirement already satisfied: oauthlib>=3.0.0 in /usr/lib/python3/dist-packages (from requests-oauthlib>=0.7.0->google-auth-oauthlib<1.1,>=0.5->tensorboard<2.13,>=2.12->tensorflow-cpu->-r /workspace/project5/requirements.txt (line 33)) (3.2.0)\n",
            "Note: you may need to restart the kernel to use updated packages.\n"
          ]
        }
      ],
      "source": [
        "%pip install -r /workspace/project5/requirements.txt\n",
        "\n"
      ]
    },
    {
      "attachments": {},
      "cell_type": "markdown",
      "metadata": {},
      "source": [
        "import numpy\n",
        "import os\n",
        "import shutil\n",
        "import random\n",
        "import joblib"
      ]
    },
    {
      "attachments": {},
      "cell_type": "markdown",
      "metadata": {
        "id": "cqP-UeN-z3i2"
      },
      "source": [
        "# Change working directory"
      ]
    },
    {
      "attachments": {},
      "cell_type": "markdown",
      "metadata": {},
      "source": [
        "* We are assuming you will store the notebooks in a subfolder, therefore when running the notebook in the editor, you will need to change the working directory"
      ]
    },
    {
      "attachments": {},
      "cell_type": "markdown",
      "metadata": {
        "id": "aOGIGS-uz3i2"
      },
      "source": [
        "We need to change the working directory from its current folder to its parent folder\n",
        "* We access the current directory with os.getcwd()"
      ]
    },
    {
      "cell_type": "code",
      "execution_count": 2,
      "metadata": {
        "id": "wZfF_j-Bz3i4",
        "outputId": "66943449-1436-4c3d-85c7-b85f9f78349b"
      },
      "outputs": [
        {
          "data": {
            "text/plain": [
              "'/workspace/project5/jupyter_notebooks'"
            ]
          },
          "execution_count": 2,
          "metadata": {},
          "output_type": "execute_result"
        }
      ],
      "source": [
        "import os\n",
        "import random\n",
        "import os\n",
        "import shutil\n",
        "import random\n",
        "import joblib\n",
        "import zipfile\n",
        "import numpy\n",
        "import os\n",
        "\n",
        "current_dir = os.getcwd()\n",
        "current_dir"
      ]
    },
    {
      "attachments": {},
      "cell_type": "markdown",
      "metadata": {
        "id": "9MWW8E7lz3i7"
      },
      "source": [
        "We want to make the parent of the current directory the new current directory\n",
        "* os.path.dirname() gets the parent directory\n",
        "* os.chir() defines the new current directory"
      ]
    },
    {
      "cell_type": "code",
      "execution_count": 3,
      "metadata": {
        "id": "TwHsQRWjz3i9",
        "outputId": "86849db3-cd2f-4cc5-ebb8-2d0caafa1a2c",
        "tags": []
      },
      "outputs": [
        {
          "name": "stdout",
          "output_type": "stream",
          "text": [
            "You set a new current directory\n"
          ]
        }
      ],
      "source": [
        "os.chdir(os.path.dirname(current_dir))\n",
        "print(\"You set a new current directory\")"
      ]
    },
    {
      "attachments": {},
      "cell_type": "markdown",
      "metadata": {
        "id": "M_xPk_Ijz3i-"
      },
      "source": [
        "Confirm the new current directory"
      ]
    },
    {
      "cell_type": "code",
      "execution_count": 4,
      "metadata": {
        "id": "vz3S-_kjz3jA",
        "outputId": "00b79ae4-75d0-4a96-d193-ac9ef9847ea2"
      },
      "outputs": [
        {
          "data": {
            "text/plain": [
              "'/workspace/project5'"
            ]
          },
          "execution_count": 4,
          "metadata": {},
          "output_type": "execute_result"
        }
      ],
      "source": [
        "current_dir = os.getcwd()\n",
        "current_dir"
      ]
    },
    {
      "attachments": {},
      "cell_type": "markdown",
      "metadata": {
        "id": "-mavJ8DibrcQ"
      },
      "source": [
        "# Section 1"
      ]
    },
    {
      "attachments": {},
      "cell_type": "markdown",
      "metadata": {},
      "source": [
        "Section 1 content"
      ]
    },
    {
      "cell_type": "code",
      "execution_count": 5,
      "metadata": {
        "tags": []
      },
      "outputs": [
        {
          "name": "stdout",
          "output_type": "stream",
          "text": [
            "Defaulting to user installation because normal site-packages is not writeable\n",
            "Requirement already satisfied: kaggle==1.5.12 in /workspace/.pyenv_mirror/user/current/lib/python3.10/site-packages (1.5.12)\n",
            "Requirement already satisfied: tqdm in /workspace/.pyenv_mirror/user/current/lib/python3.10/site-packages (from kaggle==1.5.12) (4.65.0)\n",
            "Requirement already satisfied: six>=1.10 in /usr/lib/python3/dist-packages (from kaggle==1.5.12) (1.16.0)\n",
            "Requirement already satisfied: requests in /workspace/.pyenv_mirror/user/current/lib/python3.10/site-packages (from kaggle==1.5.12) (2.31.0)\n",
            "Requirement already satisfied: urllib3 in /workspace/.pyenv_mirror/user/current/lib/python3.10/site-packages (from kaggle==1.5.12) (1.26.16)\n",
            "Requirement already satisfied: python-slugify in /workspace/.pyenv_mirror/user/current/lib/python3.10/site-packages (from kaggle==1.5.12) (8.0.1)\n",
            "Requirement already satisfied: certifi in /workspace/.pyenv_mirror/user/current/lib/python3.10/site-packages (from kaggle==1.5.12) (2023.5.7)\n",
            "Requirement already satisfied: python-dateutil in /workspace/.pyenv_mirror/user/current/lib/python3.10/site-packages (from kaggle==1.5.12) (2.8.2)\n",
            "Requirement already satisfied: text-unidecode>=1.3 in /workspace/.pyenv_mirror/user/current/lib/python3.10/site-packages (from python-slugify->kaggle==1.5.12) (1.3)\n",
            "Requirement already satisfied: charset-normalizer<4,>=2 in /workspace/.pyenv_mirror/user/current/lib/python3.10/site-packages (from requests->kaggle==1.5.12) (3.1.0)\n",
            "Requirement already satisfied: idna<4,>=2.5 in /workspace/.pyenv_mirror/user/current/lib/python3.10/site-packages (from requests->kaggle==1.5.12) (3.4)\n",
            "Note: you may need to restart the kernel to use updated packages.\n"
          ]
        }
      ],
      "source": [
        "%pip install kaggle==1.5.12\n"
      ]
    },
    {
      "cell_type": "code",
      "execution_count": 6,
      "metadata": {
        "tags": []
      },
      "outputs": [],
      "source": [
        "os.environ['KAGGLE_CONFIG_DIR'] = os.getcwd()\n",
        "! chmod 600 kaggle.json"
      ]
    },
    {
      "cell_type": "code",
      "execution_count": 7,
      "metadata": {
        "tags": []
      },
      "outputs": [
        {
          "name": "stdout",
          "output_type": "stream",
          "text": [
            "Downloading cherry-leaves.zip to inputs/datasets\n",
            "100%|█████████████████████████████████████▉| 55.0M/55.0M [00:01<00:00, 45.3MB/s]\n",
            "100%|██████████████████████████████████████| 55.0M/55.0M [00:01<00:00, 29.4MB/s]\n"
          ]
        }
      ],
      "source": [
        "KaggleDatasetPath = \"codeinstitute/cherry-leaves\"\n",
        "DestinationFolder = \"inputs/datasets\"   \n",
        "! kaggle datasets download -d {KaggleDatasetPath} -p {DestinationFolder}"
      ]
    },
    {
      "cell_type": "code",
      "execution_count": 8,
      "metadata": {
        "tags": []
      },
      "outputs": [
        {
          "name": "stdout",
          "output_type": "stream",
          "text": [
            "Done!\n"
          ]
        }
      ],
      "source": [
        "import zipfile\n",
        "with zipfile.ZipFile(DestinationFolder + '/cherry-leaves.zip', 'r') as zip_ref:\n",
        "    zip_ref.extractall(DestinationFolder)\n",
        "\n",
        "os.remove(DestinationFolder + '/cherry-leaves.zip')\n",
        "\n",
        "print(\"Done!\")"
      ]
    },
    {
      "attachments": {},
      "cell_type": "markdown",
      "metadata": {
        "id": "ZY3l0-AxO93d"
      },
      "source": [
        "---"
      ]
    },
    {
      "attachments": {},
      "cell_type": "markdown",
      "metadata": {
        "id": "uFQo3ycuO-v6"
      },
      "source": [
        "# Data Preparation Stage"
      ]
    },
    {
      "attachments": {},
      "cell_type": "markdown",
      "metadata": {},
      "source": [
        "In this section we are going to check for any files that are not images in the zip & split the files, train, validate and test the sets.\n",
        "\n",
        "## Find and remove files that are not images"
      ]
    },
    {
      "cell_type": "code",
      "execution_count": 9,
      "metadata": {},
      "outputs": [],
      "source": [
        "# def remove_non_images(my_data_dir):\n",
        "#     \"\"\"Removes non-image files from the specified directory\"\"\"\n",
        "#     image_extensions = ('.png', '.jpg', '.jpeg')\n",
        "#     for folder in os.listdir(my_data_dir):\n",
        "#         folder_path = os.path.join(my_data_dir, folder)\n",
        "#         if os.path.isdir(folder_path):\n",
        "#             for file in os.listdir(folder_path):\n",
        "#                 if not file.lower().endswith(image_extensions):\n",
        "#                     os.remove(os.path.join(folder_path, file))\n",
        "#     print(f\"Removed non-image files from {my_data_dir}\")\n",
        "# #----------------------------------------\n",
        "\n",
        "# import requests\n",
        "# import os\n",
        "\n",
        "# def compress_image(file_path):\n",
        "#     \"\"\"Compresses a JPEG image by 30% using IMGonline\"\"\"\n",
        "#     url = 'https://www.imgonline.com.ua/eng/compress-jpeg-image.php'\n",
        "#     files = {'file': open(file_path, 'rb')}\n",
        "#     data = {'quality': '70'}\n",
        "#     response = requests.post(url, files=files, data=data)\n",
        "#     with open(file_path, 'wb') as f:\n",
        "#         f.write(response.content)\n",
        "\n",
        "# def remove_non_images(my_data_dir):\n",
        "#     \"\"\"Removes non-image files from the specified directory and compresses JPEG images by 30%\"\"\"\n",
        "#     image_extensions = ('.png', '.jpg', '.jpeg')\n",
        "#     for folder in os.listdir(my_data_dir):\n",
        "#         folder_path = os.path.join(my_data_dir, folder)\n",
        "#         if os.path.isdir(folder_path):\n",
        "#             for file in os.listdir(folder_path):\n",
        "#                 if not file.lower().endswith(image_extensions):\n",
        "#                     os.remove(os.path.join(folder_path, file))\n",
        "#                 elif file.lower().endswith('.jpeg') or file.lower().endswith('.jpg'):\n",
        "#                     file_path = os.path.join(folder_path, file)\n",
        "#                     compress_image(file_path)\n",
        "#     print(f\"Removed non-image files from {my_data_dir}\")\n",
        "\n",
        "# #-------------------------------------------------\n",
        "\n",
        "\n",
        "import requests\n",
        "import os\n",
        "from PIL import Image\n",
        "\n",
        "\n",
        "def compress_image(file_path):\n",
        "    \"\"\"Compresses a JPEG image by 30% and reduces image size by 50%\"\"\"\n",
        "    img = Image.open(file_path)\n",
        "    \n",
        "    # Reduce image quality by 30%\n",
        "    img.save(file_path, quality=70)\n",
        "    \n",
        "    # Reduce image size by 50%\n",
        "    width, height = img.size\n",
        "    new_width = int(width * 0.5)\n",
        "    new_height = int(height * 0.5)\n",
        "    resized_img = img.resize((new_width, new_height))\n",
        "    resized_img.save(file_path)\n",
        "    \n",
        "def remove_non_images(my_data_dir):\n",
        "    \"\"\"Removes non-image files from the specified directory, compresses JPEG images by 30%, and reduces image size by 50%\"\"\"\n",
        "    image_extensions = ('.png', '.jpg', '.jpeg')\n",
        "    for folder in os.listdir(my_data_dir):\n",
        "        folder_path = os.path.join(my_data_dir, folder)\n",
        "        if os.path.isdir(folder_path):\n",
        "            for file in os.listdir(folder_path):\n",
        "                if not file.lower().endswith(image_extensions):\n",
        "                    os.remove(os.path.join(folder_path, file))\n",
        "                elif file.lower().endswith('.jpeg') or file.lower().endswith('.jpg'):\n",
        "                    file_path = os.path.join(folder_path, file)\n",
        "                    compress_image(file_path)\n",
        "    print(f\"Removed non-image files from {my_data_dir}\")\n"
      ]
    },
    {
      "cell_type": "code",
      "execution_count": 10,
      "metadata": {},
      "outputs": [
        {
          "name": "stdout",
          "output_type": "stream",
          "text": [
            "Removed non-image files from inputs/datasets/cherry-leaves\n"
          ]
        }
      ],
      "source": [
        "remove_non_images(my_data_dir='inputs/datasets/cherry-leaves')\n"
      ]
    },
    {
      "cell_type": "code",
      "execution_count": 11,
      "metadata": {},
      "outputs": [],
      "source": [
        "def split_train_validation_test_images(my_data_dir, train_set_ratio, validation_set_ratio, test_set_ratio):\n",
        "    \"\"\" Split the data into train, validation and test sets \"\"\"\n",
        "\n",
        "    # Check that the sum of all the ratios is 1\n",
        "    if train_set_ratio + validation_set_ratio + test_set_ratio != 1.0:\n",
        "        print(\"train_set_ratio + validation_set_ratio + test_set_ratio should sum 1.0\")\n",
        "        return\n",
        "\n",
        "    # Get the class labels\n",
        "    labels = os.listdir(my_data_dir)\n",
        "\n",
        "    # Create train, validation and test folders if they don't already exist\n",
        "    for folder in ['train', 'validation', 'test']:\n",
        "        for label in labels:\n",
        "            os.makedirs(name=f\"{my_data_dir}/{folder}/{label}\", exist_ok=True)\n",
        "\n",
        "    # Loop over each label and move files to the appropriate set\n",
        "    for label in labels:\n",
        "        files = os.listdir(f\"{my_data_dir}/{label}\")\n",
        "        random.shuffle(files)\n",
        "\n",
        "        # Calculate the number of files for each set\n",
        "        train_set_files_qty = int(len(files) * train_set_ratio)\n",
        "        validation_set_files_qty = int(len(files) * validation_set_ratio)\n",
        "\n",
        "        for i, file_name in enumerate(files):\n",
        "            if i < train_set_files_qty:\n",
        "                # Move given file to train set\n",
        "                dest_dir = f\"{my_data_dir}/train/{label}\"\n",
        "            elif i < (train_set_files_qty + validation_set_files_qty):\n",
        "                # Move given file to validation set\n",
        "                dest_dir = f\"{my_data_dir}/validation/{label}\"\n",
        "            else:\n",
        "                # Move given file to test set\n",
        "                dest_dir = f\"{my_data_dir}/test/{label}\"\n",
        "            shutil.move(f\"{my_data_dir}/{label}/{file_name}\", f\"{dest_dir}/{file_name}\")\n",
        "\n",
        "        # Remove the original folder\n",
        "        os.rmdir(f\"{my_data_dir}/{label}\")\n"
      ]
    },
    {
      "cell_type": "code",
      "execution_count": 12,
      "metadata": {},
      "outputs": [],
      "source": [
        "split_train_validation_test_images(my_data_dir = f\"inputs/datasets/cherry-leaves\",\n",
        "                        train_set_ratio = 0.7,\n",
        "                        validation_set_ratio=0.1,\n",
        "                        test_set_ratio=0.2\n",
        "                        )"
      ]
    },
    {
      "attachments": {},
      "cell_type": "markdown",
      "metadata": {},
      "source": [
        "---"
      ]
    },
    {
      "attachments": {},
      "cell_type": "markdown",
      "metadata": {},
      "source": [
        "NOTE"
      ]
    },
    {
      "attachments": {},
      "cell_type": "markdown",
      "metadata": {},
      "source": [
        "* You may add as many sections as you want, as long as it supports your project workflow.\n",
        "* All notebook's cells should be run top-down (you can't create a dynamic wherein a given point you need to go back to a previous cell to execute some task, like go back to a previous cell and refresh a variable content)"
      ]
    },
    {
      "attachments": {},
      "cell_type": "markdown",
      "metadata": {},
      "source": [
        "---"
      ]
    },
    {
      "attachments": {},
      "cell_type": "markdown",
      "metadata": {
        "id": "ltNetd085qHf"
      },
      "source": [
        "# Push files to Repo"
      ]
    },
    {
      "attachments": {},
      "cell_type": "markdown",
      "metadata": {},
      "source": [
        "* If you don't need to push files to Repo, you may replace this section with \"Conclusions and Next Steps\" and state your conclusions and next steps."
      ]
    },
    {
      "cell_type": "code",
      "execution_count": 13,
      "metadata": {
        "id": "aKlnIozA4eQO",
        "outputId": "fd09bc1f-adb1-4511-f6ce-492a6af570c0",
        "tags": []
      },
      "outputs": [],
      "source": [
        "# import os\n",
        "\n",
        "# try:\n",
        "#     # create your folder here\n",
        "#     os.makedirs(name='my_folder')\n",
        "# except Exception as e:\n",
        "#     print(e)\n"
      ]
    },
    {
      "attachments": {},
      "cell_type": "markdown",
      "metadata": {},
      "source": [
        "# Summary"
      ]
    },
    {
      "attachments": {},
      "cell_type": "markdown",
      "metadata": {},
      "source": [
        "Work Done:\n",
        "\n",
        "* Download and cleaning of the data have been completed\n",
        "\n",
        "* There are three folders within the directory inputs/datasets/cherry_leaves, namely Train, Validation, and Test. Each of these folders contains two subfolders: one with images of healthy cherry leaves and the other with images of cherry leaves infected with powdery mildew.\n",
        "\n",
        "* In the next notebook I will visualizing the different types of leaves, obtaining their average and variation images, distinguishing the contrast between them, address business requirement number 1.\n",
        "\n",
        "\n"
      ]
    },
    {
      "attachments": {},
      "cell_type": "markdown",
      "metadata": {},
      "source": [
        "Issues:\n",
        "\n",
        "* Was getting a 401 - unathorised error when trying to use the kaggle.json file = Fixed by creating a new api key and using that.\n",
        "\n",
        "* \n",
        "\n",
        "\n"
      ]
    },
    {
      "attachments": {},
      "cell_type": "markdown",
      "metadata": {},
      "source": [
        "to fix:\n",
        "* Remove kaggle.json file"
      ]
    }
  ],
  "metadata": {
    "accelerator": "GPU",
    "colab": {
      "name": "Data Practitioner Jupyter Notebook.ipynb",
      "provenance": [],
      "toc_visible": true
    },
    "kernelspec": {
      "display_name": "Python 3",
      "language": "python",
      "name": "python3"
    },
    "language_info": {
      "codemirror_mode": {
        "name": "ipython",
        "version": 3
      },
      "file_extension": ".py",
      "mimetype": "text/x-python",
      "name": "python",
      "nbconvert_exporter": "python",
      "pygments_lexer": "ipython3",
      "version": "3.10.6"
    },
    "orig_nbformat": 2
  },
  "nbformat": 4,
  "nbformat_minor": 2
}
