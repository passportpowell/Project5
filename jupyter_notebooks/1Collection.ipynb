{
  "cells": [
    {
      "attachments": {},
      "cell_type": "markdown",
      "metadata": {
        "id": "0aStgWSO0E0E"
      },
      "source": [
        "# **(ADD HERE THE NOTEBOOK NAME)**"
      ]
    },
    {
      "attachments": {},
      "cell_type": "markdown",
      "metadata": {
        "id": "1eLEkw5O0ECa"
      },
      "source": [
        "## Objectives\n",
        "\n",
        "* Colect the data from Kaggle, unzip, prepare and storage it for further analysis.\n",
        "\n",
        "\n",
        "## Inputs\n",
        "\n",
        "* The Kaggle JSON file authentication token.\n",
        "\n",
        "\n",
        "## Outputs\n",
        "\n",
        "* Create Dataset: inputs/datasets/cherry-leaves\n",
        "\n",
        "## Additional Comments\n",
        "\n",
        "\n",
        "* The data must be saved after being prepared, removing any files that are not an images, split the data into Train, Validation and Set folders.\n",
        "\n"
      ]
    },
    {
      "attachments": {},
      "cell_type": "markdown",
      "metadata": {
        "id": "9uWZXH9LwoQg"
      },
      "source": [
        "---"
      ]
    },
    {
      "cell_type": "code",
      "execution_count": null,
      "metadata": {
        "tags": [
          "outputPrepend"
        ]
      },
      "outputs": [],
      "source": [
        "%pip install -r /workspace/project5/requirements.txt\n",
        "\n"
      ]
    },
    {
      "attachments": {},
      "cell_type": "markdown",
      "metadata": {},
      "source": [
        "import numpy\n",
        "import os\n",
        "import shutil\n",
        "import random\n",
        "import joblib"
      ]
    },
    {
      "attachments": {},
      "cell_type": "markdown",
      "metadata": {
        "id": "cqP-UeN-z3i2"
      },
      "source": [
        "# Change working directory"
      ]
    },
    {
      "attachments": {},
      "cell_type": "markdown",
      "metadata": {},
      "source": [
        "* We are assuming you will store the notebooks in a subfolder, therefore when running the notebook in the editor, you will need to change the working directory"
      ]
    },
    {
      "attachments": {},
      "cell_type": "markdown",
      "metadata": {
        "id": "aOGIGS-uz3i2"
      },
      "source": [
        "We need to change the working directory from its current folder to its parent folder\n",
        "* We access the current directory with os.getcwd()"
      ]
    },
    {
      "cell_type": "code",
      "execution_count": null,
      "metadata": {
        "id": "wZfF_j-Bz3i4",
        "outputId": "66943449-1436-4c3d-85c7-b85f9f78349b"
      },
      "outputs": [],
      "source": [
        "import os\n",
        "import random\n",
        "import os\n",
        "import shutil\n",
        "import random\n",
        "import joblib\n",
        "import zipfile\n",
        "import numpy\n",
        "import os\n",
        "\n",
        "# current_dir = os.getcwd()\n",
        "# current_dir"
      ]
    },
    {
      "attachments": {},
      "cell_type": "markdown",
      "metadata": {
        "id": "9MWW8E7lz3i7"
      },
      "source": [
        "We want to make the parent of the current directory the new current directory\n",
        "* os.path.dirname() gets the parent directory\n",
        "* os.chir() defines the new current directory"
      ]
    },
    {
      "cell_type": "code",
      "execution_count": null,
      "metadata": {
        "id": "TwHsQRWjz3i9",
        "outputId": "86849db3-cd2f-4cc5-ebb8-2d0caafa1a2c",
        "tags": []
      },
      "outputs": [],
      "source": [
        "# os.chdir(os.path.dirname(current_dir))\n",
        "# print(\"You set a new current directory\")"
      ]
    },
    {
      "attachments": {},
      "cell_type": "markdown",
      "metadata": {
        "id": "M_xPk_Ijz3i-"
      },
      "source": [
        "Confirm the new current directory"
      ]
    },
    {
      "cell_type": "code",
      "execution_count": null,
      "metadata": {
        "id": "vz3S-_kjz3jA",
        "outputId": "00b79ae4-75d0-4a96-d193-ac9ef9847ea2"
      },
      "outputs": [],
      "source": [
        "# current_dir = os.getcwd()\n",
        "# current_dir"
      ]
    },
    {
      "attachments": {},
      "cell_type": "markdown",
      "metadata": {
        "id": "-mavJ8DibrcQ"
      },
      "source": [
        "# Section 1"
      ]
    },
    {
      "attachments": {},
      "cell_type": "markdown",
      "metadata": {},
      "source": [
        "Section 1 content"
      ]
    },
    {
      "cell_type": "code",
      "execution_count": null,
      "metadata": {
        "tags": []
      },
      "outputs": [],
      "source": [
        "# %pip install kaggle==1.5.12\n"
      ]
    },
    {
      "cell_type": "code",
      "execution_count": null,
      "metadata": {
        "tags": []
      },
      "outputs": [],
      "source": [
        "# os.environ['KAGGLE_CONFIG_DIR'] = os.getcwd()\n",
        "# ! chmod 600 kaggle.json"
      ]
    },
    {
      "cell_type": "code",
      "execution_count": null,
      "metadata": {
        "tags": []
      },
      "outputs": [],
      "source": [
        "# KaggleDatasetPath = \"codeinstitute/cherry-leaves\"\n",
        "# DestinationFolder = \"inputs/datasets\"   \n",
        "# ! kaggle datasets download -d {KaggleDatasetPath} -p {DestinationFolder}"
      ]
    },
    {
      "cell_type": "code",
      "execution_count": null,
      "metadata": {
        "tags": []
      },
      "outputs": [],
      "source": [
        "# import zipfile\n",
        "# with zipfile.ZipFile(DestinationFolder + '/cherry-leaves.zip', 'r') as zip_ref:\n",
        "#     zip_ref.extractall(DestinationFolder)\n",
        "\n",
        "# os.remove(DestinationFolder + '/cherry-leaves.zip')\n",
        "\n",
        "# print(\"Done!\")"
      ]
    },
    {
      "attachments": {},
      "cell_type": "markdown",
      "metadata": {
        "id": "ZY3l0-AxO93d"
      },
      "source": [
        "---"
      ]
    },
    {
      "attachments": {},
      "cell_type": "markdown",
      "metadata": {
        "id": "uFQo3ycuO-v6"
      },
      "source": [
        "# Data Preparation Stage"
      ]
    },
    {
      "attachments": {},
      "cell_type": "markdown",
      "metadata": {},
      "source": [
        "In this section we are going to check for any files that are not images in the zip & split the files, train, validate and test the sets.\n",
        "\n",
        "## Find and remove files that are not images"
      ]
    },
    {
      "cell_type": "code",
      "execution_count": null,
      "metadata": {},
      "outputs": [],
      "source": [
        "# def remove_non_image_file(my_data_dir):\n",
        "#     \"\"\"Removes non-image files from the specified directory\"\"\"\n",
        "#     image_extensions = ('.png', '.jpg', '.jpeg')\n",
        "#     for folder in os.listdir(my_data_dir):\n",
        "#         folder_path = os.path.join(my_data_dir, folder)\n",
        "#         if os.path.isdir(folder_path):\n",
        "#             for file in os.listdir(folder_path):\n",
        "#                 if not file.lower().endswith(image_extensions):\n",
        "#                     os.remove(os.path.join(folder_path, file))\n",
        "#     print(f\"Removed non-image files from {my_data_dir}\")\n",
        "# #----------------------------------------\n",
        "\n"
      ]
    },
    {
      "cell_type": "code",
      "execution_count": null,
      "metadata": {},
      "outputs": [],
      "source": [
        "from PIL import Image\n",
        "import os\n",
        "\n",
        "def reduce_image_quality(my_data_dir, reduction_percentage):\n",
        "    \"\"\"Reduces the quality and size of image files in the specified directory\"\"\"\n",
        "    image_extensions = ('.png', '.jpg', '.jpeg')\n",
        "    for folder in os.listdir(my_data_dir):\n",
        "        folder_path = os.path.join(my_data_dir, folder)\n",
        "        if os.path.isdir(folder_path):\n",
        "            for file in os.listdir(folder_path):\n",
        "                if file.lower().endswith(image_extensions):\n",
        "                    file_path = os.path.join(folder_path, file)\n",
        "                    image = Image.open(file_path)\n",
        "                    width, height = image.size\n",
        "                    new_width = int(width * (1 - reduction_percentage/100))\n",
        "                    new_height = int(height * (1 - reduction_percentage/100))\n",
        "                    resized_image = image.resize((new_width, new_height))\n",
        "                    resized_image.save(file_path)\n",
        "    print(f\"Reduced image quality and size by {reduction_percentage}% in {my_data_dir}\")\n",
        "\n",
        "def remove_non_image_file(my_data_dir):\n",
        "    \"\"\"Removes non-image files from the specified directory\"\"\"\n",
        "    image_extensions = ('.png', '.jpg', '.jpeg')\n",
        "    for folder in os.listdir(my_data_dir):\n",
        "        folder_path = os.path.join(my_data_dir, folder)\n",
        "        if os.path.isdir(folder_path):\n",
        "            for file in os.listdir(folder_path):\n",
        "                if not file.lower().endswith(image_extensions):\n",
        "                    os.remove(os.path.join(folder_path, file))\n",
        "    print(f\"Removed non-image files from {my_data_dir}\")\n",
        "\n",
        "\n",
        "current_dir = os.getcwd()\n",
        "current_dir\n",
        "\n",
        "os.chdir(os.path.dirname(current_dir))\n",
        "print(\"You set a new current directory\")\n",
        "\n",
        "current_dir = os.getcwd()\n",
        "current_dir\n",
        "\n",
        "os.environ['KAGGLE_CONFIG_DIR'] = os.getcwd()\n",
        "! chmod 600 kaggle.json\n",
        "\n",
        "KaggleDatasetPath = \"codeinstitute/cherry-leaves\"\n",
        "DestinationFolder = \"inputs/datasets\"   \n",
        "! kaggle datasets download -d {KaggleDatasetPath} -p {DestinationFolder}\n",
        "\n",
        "import zipfile\n",
        "with zipfile.ZipFile(DestinationFolder + '/cherry-leaves.zip', 'r') as zip_ref:\n",
        "    zip_ref.extractall(DestinationFolder)\n",
        "\n",
        "os.remove(DestinationFolder + '/cherry-leaves.zip')\n",
        "# Reduce image quality and size by 30%\n",
        "reduce_image_quality(DestinationFolder, 30)\n",
        "\n",
        "# Remove non-image files\n",
        "remove_non_image_file(DestinationFolder)\n"
      ]
    },
    {
      "cell_type": "code",
      "execution_count": null,
      "metadata": {},
      "outputs": [],
      "source": [
        "def split_train_validation_test_images(my_data_dir, train_set_ratio, validation_set_ratio, test_set_ratio):\n",
        "    \"\"\" Split the data into train, validation and test sets \"\"\"\n",
        "\n",
        "    # Check that the sum of all the ratios is 1\n",
        "    if train_set_ratio + validation_set_ratio + test_set_ratio != 1.0:\n",
        "        print(\"train_set_ratio + validation_set_ratio + test_set_ratio should sum 1.0\")\n",
        "        return\n",
        "\n",
        "    # Get the class labels\n",
        "    labels = os.listdir(my_data_dir)\n",
        "\n",
        "    # Create train, validation and test folders if they don't already exist\n",
        "    for folder in ['train', 'validation', 'test']:\n",
        "        for label in labels:\n",
        "            os.makedirs(name=f\"{my_data_dir}/{folder}/{label}\", exist_ok=True)\n",
        "\n",
        "    # Loop over each label and move files to the appropriate set\n",
        "    for label in labels:\n",
        "        files = os.listdir(f\"{my_data_dir}/{label}\")\n",
        "        random.shuffle(files)\n",
        "\n",
        "        # Calculate the number of files for each set\n",
        "        train_set_files_qty = int(len(files) * train_set_ratio)\n",
        "        validation_set_files_qty = int(len(files) * validation_set_ratio)\n",
        "\n",
        "        for i, file_name in enumerate(files):\n",
        "            if i < train_set_files_qty:\n",
        "                # Move given file to train set\n",
        "                dest_dir = f\"{my_data_dir}/train/{label}\"\n",
        "            elif i < (train_set_files_qty + validation_set_files_qty):\n",
        "                # Move given file to validation set\n",
        "                dest_dir = f\"{my_data_dir}/validation/{label}\"\n",
        "            else:\n",
        "                # Move given file to test set\n",
        "                dest_dir = f\"{my_data_dir}/test/{label}\"\n",
        "            shutil.move(f\"{my_data_dir}/{label}/{file_name}\", f\"{dest_dir}/{file_name}\")\n",
        "\n",
        "        # Remove the original folder\n",
        "        os.rmdir(f\"{my_data_dir}/{label}\")\n"
      ]
    },
    {
      "cell_type": "code",
      "execution_count": null,
      "metadata": {},
      "outputs": [],
      "source": [
        "split_train_validation_test_images(my_data_dir = f\"inputs/datasets/cherry-leaves\",\n",
        "                        train_set_ratio = 0.7,\n",
        "                        validation_set_ratio=0.1,\n",
        "                        test_set_ratio=0.2\n",
        "                        )"
      ]
    },
    {
      "cell_type": "code",
      "execution_count": null,
      "metadata": {
        "tags": []
      },
      "outputs": [],
      "source": [
        "  \n",
        "print(\"Done!\")"
      ]
    },
    {
      "attachments": {},
      "cell_type": "markdown",
      "metadata": {},
      "source": [
        "---"
      ]
    },
    {
      "attachments": {},
      "cell_type": "markdown",
      "metadata": {},
      "source": [
        "NOTE"
      ]
    },
    {
      "attachments": {},
      "cell_type": "markdown",
      "metadata": {},
      "source": [
        "* You may add as many sections as you want, as long as it supports your project workflow.\n",
        "* All notebook's cells should be run top-down (you can't create a dynamic wherein a given point you need to go back to a previous cell to execute some task, like go back to a previous cell and refresh a variable content)"
      ]
    },
    {
      "attachments": {},
      "cell_type": "markdown",
      "metadata": {},
      "source": [
        "---"
      ]
    },
    {
      "attachments": {},
      "cell_type": "markdown",
      "metadata": {
        "id": "ltNetd085qHf"
      },
      "source": [
        "# Push files to Repo"
      ]
    },
    {
      "attachments": {},
      "cell_type": "markdown",
      "metadata": {},
      "source": [
        "* If you don't need to push files to Repo, you may replace this section with \"Conclusions and Next Steps\" and state your conclusions and next steps."
      ]
    },
    {
      "cell_type": "code",
      "execution_count": null,
      "metadata": {
        "id": "aKlnIozA4eQO",
        "outputId": "fd09bc1f-adb1-4511-f6ce-492a6af570c0",
        "tags": []
      },
      "outputs": [],
      "source": [
        "import os\n",
        "\n",
        "try:\n",
        "    # create your folder here\n",
        "    os.makedirs(name='my_folder')\n",
        "except Exception as e:\n",
        "    print(e)\n"
      ]
    },
    {
      "attachments": {},
      "cell_type": "markdown",
      "metadata": {},
      "source": [
        "# Summary"
      ]
    },
    {
      "attachments": {},
      "cell_type": "markdown",
      "metadata": {},
      "source": [
        "Work Done:\n",
        "\n",
        "* Download and cleaning of the data have been completed\n",
        "\n",
        "* There are three folders within the directory inputs/datasets/cherry_leaves, namely Train, Validation, and Test. Each of these folders contains two subfolders: one with images of healthy cherry leaves and the other with images of cherry leaves infected with powdery mildew.\n",
        "\n",
        "* In the next notebook I will visualizing the different types of leaves, obtaining their average and variation images, distinguishing the contrast between them, address business requirement number 1.\n",
        "\n",
        "\n"
      ]
    },
    {
      "attachments": {},
      "cell_type": "markdown",
      "metadata": {},
      "source": [
        "Issues:\n",
        "\n",
        "* Was getting a 401 - unathorised error when trying to use the kaggle.json file = Fixed by creating a new api key and using that.\n",
        "\n",
        "* \n",
        "\n",
        "\n"
      ]
    },
    {
      "attachments": {},
      "cell_type": "markdown",
      "metadata": {},
      "source": [
        "to fix:\n",
        "* Remove kaggle.json file"
      ]
    }
  ],
  "metadata": {
    "accelerator": "GPU",
    "colab": {
      "name": "Data Practitioner Jupyter Notebook.ipynb",
      "provenance": [],
      "toc_visible": true
    },
    "kernelspec": {
      "display_name": "Python 3",
      "language": "python",
      "name": "python3"
    },
    "language_info": {
      "codemirror_mode": {
        "name": "ipython",
        "version": 3
      },
      "file_extension": ".py",
      "mimetype": "text/x-python",
      "name": "python",
      "nbconvert_exporter": "python",
      "pygments_lexer": "ipython3",
      "version": "3.11.1"
    },
    "orig_nbformat": 2
  },
  "nbformat": 4,
  "nbformat_minor": 2
}
