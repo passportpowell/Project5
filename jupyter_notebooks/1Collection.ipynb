{
  "cells": [
    {
      "attachments": {},
      "cell_type": "markdown",
      "metadata": {
        "id": "0aStgWSO0E0E"
      },
      "source": [
        "# **(ADD HERE THE NOTEBOOK NAME)**"
      ]
    },
    {
      "attachments": {},
      "cell_type": "markdown",
      "metadata": {
        "id": "1eLEkw5O0ECa"
      },
      "source": [
        "## Objectives\n",
        "\n",
        "* Colect the data from Kaggle, unzip, prepare and storage it for further analysis.\n",
        "\n",
        "\n",
        "## Inputs\n",
        "\n",
        "* The Kaggle JSON file authentication token.\n",
        "\n",
        "\n",
        "## Outputs\n",
        "\n",
        "* Create Dataset: inputs/datasets/cherry-leaves\n",
        "\n",
        "## Additional Comments\n",
        "\n",
        "\n",
        "* The data must be saved after being prepared, removing any files that are not an images, split the data into Train, Validation and Set folders.\n",
        "\n"
      ]
    },
    {
      "attachments": {},
      "cell_type": "markdown",
      "metadata": {
        "id": "9uWZXH9LwoQg"
      },
      "source": [
        "---"
      ]
    },
    {
      "cell_type": "code",
      "execution_count": 3,
      "metadata": {
        "tags": [
          "outputPrepend"
        ]
      },
      "outputs": [
        {
          "name": "stdout",
          "output_type": "stream",
          "text": [
            "Defaulting to user installation because normal site-packages is not writeable\n",
            "Collecting numpy\n",
            "  Using cached numpy-1.24.3-cp310-cp310-manylinux_2_17_x86_64.manylinux2014_x86_64.whl (17.3 MB)\n",
            "Collecting pandas\n",
            "  Using cached pandas-2.0.2-cp310-cp310-manylinux_2_17_x86_64.manylinux2014_x86_64.whl (12.3 MB)\n",
            "Collecting matplotlib\n",
            "  Using cached matplotlib-3.7.1-cp310-cp310-manylinux_2_17_x86_64.manylinux2014_x86_64.whl (11.6 MB)\n",
            "Collecting seaborn==0.11.0\n",
            "  Using cached seaborn-0.11.0-py3-none-any.whl (283 kB)\n",
            "Collecting plotly==4.12.0\n",
            "  Using cached plotly-4.12.0-py2.py3-none-any.whl (13.1 MB)\n",
            "Collecting streamlit==0.85.0\n",
            "  Using cached streamlit-0.85.0-py2.py3-none-any.whl (7.9 MB)\n",
            "Collecting scikit-learn==0.24.2\n",
            "  Using cached scikit-learn-0.24.2.tar.gz (7.5 MB)\n",
            "  Installing build dependencies ... \u001b[?25ldone\n",
            "\u001b[?25h  Getting requirements to build wheel ... \u001b[?25ldone\n",
            "\u001b[?25h  Preparing metadata (pyproject.toml) ... \u001b[?25ldone\n",
            "\u001b[?25hCollecting tensorflow-cpu\n",
            "  Using cached tensorflow_cpu-2.12.0-cp310-cp310-manylinux_2_17_x86_64.manylinux2014_x86_64.whl (231.8 MB)\n",
            "Collecting keras==2.6.0\n",
            "  Downloading keras-2.6.0-py2.py3-none-any.whl (1.3 MB)\n",
            "\u001b[2K     \u001b[90m━━━━━━━━━━━━━━━━━━━━━━━━━━━━━━━━━━━━━━━━\u001b[0m \u001b[32m1.3/1.3 MB\u001b[0m \u001b[31m18.1 MB/s\u001b[0m eta \u001b[36m0:00:00\u001b[0m00:01\u001b[0m00:01\u001b[0m\n",
            "\u001b[?25hCollecting protobuf==3.20\n",
            "  Downloading protobuf-3.20.0-cp310-cp310-manylinux_2_12_x86_64.manylinux2010_x86_64.whl (1.1 MB)\n",
            "\u001b[2K     \u001b[90m━━━━━━━━━━━━━━━━━━━━━━━━━━━━━━━━━━━━━━━━\u001b[0m \u001b[32m1.1/1.1 MB\u001b[0m \u001b[31m28.6 MB/s\u001b[0m eta \u001b[36m0:00:00\u001b[0m00:01\u001b[0m\n",
            "\u001b[?25hCollecting scipy>=1.0\n",
            "  Using cached scipy-1.10.1-cp310-cp310-manylinux_2_17_x86_64.manylinux2014_x86_64.whl (34.4 MB)\n",
            "Requirement already satisfied: six in /usr/lib/python3/dist-packages (from plotly==4.12.0->-r /workspace/project5/requirements.txt (line 28)) (1.16.0)\n",
            "Collecting retrying>=1.3.3\n",
            "  Downloading retrying-1.3.4-py3-none-any.whl (11 kB)\n",
            "Collecting base58\n",
            "  Downloading base58-2.1.1-py3-none-any.whl (5.6 kB)\n",
            "Collecting attrs\n",
            "  Using cached attrs-23.1.0-py3-none-any.whl (61 kB)\n",
            "Collecting cachetools>=4.0\n",
            "  Using cached cachetools-5.3.1-py3-none-any.whl (9.3 kB)\n",
            "Collecting requests\n",
            "  Using cached requests-2.31.0-py3-none-any.whl (62 kB)\n",
            "Collecting tzlocal\n",
            "  Using cached tzlocal-5.0.1-py3-none-any.whl (20 kB)\n",
            "Requirement already satisfied: python-dateutil in /workspace/.pyenv_mirror/user/current/lib/python3.10/site-packages (from streamlit==0.85.0->-r /workspace/project5/requirements.txt (line 30)) (2.8.2)\n",
            "Collecting pyarrow\n",
            "  Using cached pyarrow-12.0.0-cp310-cp310-manylinux_2_17_x86_64.manylinux2014_x86_64.whl (38.9 MB)\n",
            "Collecting pillow>=6.2.0\n",
            "  Using cached Pillow-9.5.0-cp310-cp310-manylinux_2_28_x86_64.whl (3.4 MB)\n",
            "Collecting toml\n",
            "  Using cached toml-0.10.2-py2.py3-none-any.whl (16 kB)\n",
            "Requirement already satisfied: blinker in /usr/lib/python3/dist-packages (from streamlit==0.85.0->-r /workspace/project5/requirements.txt (line 30)) (1.4)\n",
            "Collecting pydeck>=0.1.dev5\n",
            "  Using cached pydeck-0.8.1b0-py2.py3-none-any.whl (4.8 MB)\n",
            "Requirement already satisfied: packaging in /workspace/.pyenv_mirror/user/current/lib/python3.10/site-packages (from streamlit==0.85.0->-r /workspace/project5/requirements.txt (line 30)) (23.1)\n",
            "Collecting gitpython\n",
            "  Using cached GitPython-3.1.31-py3-none-any.whl (184 kB)\n",
            "Requirement already satisfied: tornado>=5.0 in /workspace/.pyenv_mirror/user/current/lib/python3.10/site-packages (from streamlit==0.85.0->-r /workspace/project5/requirements.txt (line 30)) (6.3.2)\n",
            "Collecting altair>=3.2.0\n",
            "  Downloading altair-5.0.1-py3-none-any.whl (471 kB)\n",
            "\u001b[2K     \u001b[90m━━━━━━━━━━━━━━━━━━━━━━━━━━━━━━━━━━━━━━\u001b[0m \u001b[32m471.5/471.5 KB\u001b[0m \u001b[31m31.7 MB/s\u001b[0m eta \u001b[36m0:00:00\u001b[0m\n",
            "\u001b[?25hCollecting click<8.0,>=7.0\n",
            "  Downloading click-7.1.2-py2.py3-none-any.whl (82 kB)\n",
            "\u001b[2K     \u001b[90m━━━━━━━━━━━━━━━━━━━━━━━━━━━━━━━━━━━━━━━━\u001b[0m \u001b[32m82.8/82.8 KB\u001b[0m \u001b[31m18.7 MB/s\u001b[0m eta \u001b[36m0:00:00\u001b[0m\n",
            "\u001b[?25hCollecting watchdog\n",
            "  Using cached watchdog-3.0.0-py3-none-manylinux2014_x86_64.whl (82 kB)\n",
            "Collecting validators\n",
            "  Using cached validators-0.20.0-py3-none-any.whl\n",
            "Collecting astor\n",
            "  Downloading astor-0.8.1-py2.py3-none-any.whl (27 kB)\n",
            "Collecting threadpoolctl>=2.0.0\n",
            "  Using cached threadpoolctl-3.1.0-py3-none-any.whl (14 kB)\n",
            "Collecting joblib>=0.11\n",
            "  Using cached joblib-1.2.0-py3-none-any.whl (297 kB)\n",
            "Collecting tzdata>=2022.1\n",
            "  Using cached tzdata-2023.3-py2.py3-none-any.whl (341 kB)\n",
            "Collecting pytz>=2020.1\n",
            "  Using cached pytz-2023.3-py2.py3-none-any.whl (502 kB)\n",
            "Collecting cycler>=0.10\n",
            "  Using cached cycler-0.11.0-py3-none-any.whl (6.4 kB)\n",
            "Collecting contourpy>=1.0.1\n",
            "  Using cached contourpy-1.0.7-cp310-cp310-manylinux_2_17_x86_64.manylinux2014_x86_64.whl (300 kB)\n",
            "Collecting kiwisolver>=1.0.1\n",
            "  Using cached kiwisolver-1.4.4-cp310-cp310-manylinux_2_12_x86_64.manylinux2010_x86_64.whl (1.6 MB)\n",
            "Requirement already satisfied: pyparsing>=2.3.1 in /usr/lib/python3/dist-packages (from matplotlib->-r /workspace/project5/requirements.txt (line 26)) (2.4.7)\n",
            "Collecting fonttools>=4.22.0\n",
            "  Using cached fonttools-4.39.4-py3-none-any.whl (1.0 MB)\n",
            "Collecting google-pasta>=0.1.1\n",
            "  Using cached google_pasta-0.2.0-py3-none-any.whl (57 kB)\n",
            "Collecting libclang>=13.0.0\n",
            "  Using cached libclang-16.0.0-py2.py3-none-manylinux2010_x86_64.whl (22.9 MB)\n",
            "Collecting gast<=0.4.0,>=0.2.1\n",
            "  Using cached gast-0.4.0-py3-none-any.whl (9.8 kB)\n",
            "Collecting tensorflow-io-gcs-filesystem>=0.23.1\n",
            "  Using cached tensorflow_io_gcs_filesystem-0.32.0-cp310-cp310-manylinux_2_12_x86_64.manylinux2010_x86_64.whl (2.4 MB)\n",
            "Collecting opt-einsum>=2.3.2\n",
            "  Using cached opt_einsum-3.3.0-py3-none-any.whl (65 kB)\n",
            "Collecting tensorflow-estimator<2.13,>=2.12.0\n",
            "  Using cached tensorflow_estimator-2.12.0-py2.py3-none-any.whl (440 kB)\n",
            "Requirement already satisfied: setuptools in /usr/lib/python3/dist-packages (from tensorflow-cpu->-r /workspace/project5/requirements.txt (line 33)) (59.6.0)\n",
            "Collecting jax>=0.3.15\n",
            "  Using cached jax-0.4.11.tar.gz (1.3 MB)\n",
            "  Installing build dependencies ... \u001b[?25ldone\n",
            "\u001b[?25h  Getting requirements to build wheel ... \u001b[?25ldone\n",
            "\u001b[?25h  Preparing metadata (pyproject.toml) ... \u001b[?25ldone\n",
            "\u001b[?25hCollecting astunparse>=1.6.0\n",
            "  Using cached astunparse-1.6.3-py2.py3-none-any.whl (12 kB)\n",
            "Collecting typing-extensions>=3.6.6\n",
            "  Using cached typing_extensions-4.6.2-py3-none-any.whl (31 kB)\n",
            "Collecting termcolor>=1.1.0\n",
            "  Using cached termcolor-2.3.0-py3-none-any.whl (6.9 kB)\n",
            "Collecting wrapt<1.15,>=1.11.0\n",
            "  Using cached wrapt-1.14.1-cp310-cp310-manylinux_2_5_x86_64.manylinux1_x86_64.manylinux_2_17_x86_64.manylinux2014_x86_64.whl (77 kB)\n",
            "Collecting absl-py>=1.0.0\n",
            "  Using cached absl_py-1.4.0-py3-none-any.whl (126 kB)\n",
            "Collecting flatbuffers>=2.0\n",
            "  Using cached flatbuffers-23.5.26-py2.py3-none-any.whl (26 kB)\n",
            "Collecting tensorflow-cpu\n",
            "  Downloading tensorflow_cpu-2.11.1-cp310-cp310-manylinux_2_17_x86_64.manylinux2014_x86_64.whl (221.5 MB)\n",
            "\u001b[2K     \u001b[90m━━━━━━━━━━━━━━━━━━━━━━━━━━━━━━━━━━━━━━━\u001b[0m \u001b[32m221.5/221.5 MB\u001b[0m \u001b[31m8.8 MB/s\u001b[0m eta \u001b[36m0:00:00\u001b[0m00:01\u001b[0m00:01\u001b[0m\n",
            "\u001b[?25hCollecting wrapt>=1.11.0\n",
            "  Downloading wrapt-1.15.0-cp310-cp310-manylinux_2_5_x86_64.manylinux1_x86_64.manylinux_2_17_x86_64.manylinux2014_x86_64.whl (78 kB)\n",
            "\u001b[2K     \u001b[90m━━━━━━━━━━━━━━━━━━━━━━━━━━━━━━━━━━━━━━━━\u001b[0m \u001b[32m78.4/78.4 KB\u001b[0m \u001b[31m22.9 MB/s\u001b[0m eta \u001b[36m0:00:00\u001b[0m\n",
            "\u001b[?25hCollecting tensorboard<2.12,>=2.11\n",
            "  Downloading tensorboard-2.11.2-py3-none-any.whl (6.0 MB)\n",
            "\u001b[2K     \u001b[90m━━━━━━━━━━━━━━━━━━━━━━━━━━━━━━━━━━━━━━━━\u001b[0m \u001b[32m6.0/6.0 MB\u001b[0m \u001b[31m162.7 MB/s\u001b[0m eta \u001b[36m0:00:00\u001b[0m00:01\u001b[0m\n",
            "\u001b[?25hCollecting tensorflow-estimator<2.12,>=2.11.0\n",
            "  Downloading tensorflow_estimator-2.11.0-py2.py3-none-any.whl (439 kB)\n",
            "\u001b[2K     \u001b[90m━━━━━━━━━━━━━━━━━━━━━━━━━━━━━━━━━━━━━━\u001b[0m \u001b[32m439.2/439.2 KB\u001b[0m \u001b[31m76.2 MB/s\u001b[0m eta \u001b[36m0:00:00\u001b[0m\n",
            "\u001b[?25hCollecting tensorflow-cpu\n",
            "  Downloading tensorflow_cpu-2.11.0-cp310-cp310-manylinux_2_17_x86_64.manylinux2014_x86_64.whl (221.5 MB)\n",
            "\u001b[2K     \u001b[90m━━━━━━━━━━━━━━━━━━━━━━━━━━━━━━━━━━━━━━\u001b[0m \u001b[32m221.5/221.5 MB\u001b[0m \u001b[31m10.6 MB/s\u001b[0m eta \u001b[36m0:00:00\u001b[0m00:01\u001b[0m00:01\u001b[0m\n",
            "\u001b[?25h  Downloading tensorflow_cpu-2.10.1-cp310-cp310-manylinux_2_17_x86_64.manylinux2014_x86_64.whl (214.5 MB)\n",
            "\u001b[2K     \u001b[90m━━━━━━━━━━━━━━━━━━━━━━━━━━━━━━━━━━━━━━\u001b[0m \u001b[32m214.5/214.5 MB\u001b[0m \u001b[31m11.4 MB/s\u001b[0m eta \u001b[36m0:00:00\u001b[0m00:01\u001b[0m00:01\u001b[0m\n",
            "\u001b[?25h  Downloading tensorflow_cpu-2.10.0-cp310-cp310-manylinux_2_17_x86_64.manylinux2014_x86_64.whl (214.5 MB)\n",
            "\u001b[2K     \u001b[90m━━━━━━━━━━━━━━━━━━━━━━━━━━━━━━━━━━━━━━\u001b[0m \u001b[32m214.5/214.5 MB\u001b[0m \u001b[31m10.5 MB/s\u001b[0m eta \u001b[36m0:00:00\u001b[0m00:01\u001b[0m00:01\u001b[0m\n",
            "\u001b[?25h  Downloading tensorflow_cpu-2.9.3-cp310-cp310-manylinux_2_17_x86_64.manylinux2014_x86_64.whl (207.5 MB)\n",
            "\u001b[2K     \u001b[90m━━━━━━━━━━━━━━━━━━━━━━━━━━━━━━━━━━━━━━━\u001b[0m \u001b[32m207.5/207.5 MB\u001b[0m \u001b[31m4.2 MB/s\u001b[0m eta \u001b[36m0:00:00\u001b[0m00:01\u001b[0m00:02\u001b[0m\n",
            "\u001b[?25hCollecting flatbuffers<2,>=1.12\n",
            "  Downloading flatbuffers-1.12-py2.py3-none-any.whl (15 kB)\n",
            "Collecting tensorflow-cpu\n",
            "  Downloading tensorflow_cpu-2.9.2-cp310-cp310-manylinux_2_17_x86_64.manylinux2014_x86_64.whl (207.5 MB)\n",
            "\u001b[2K     \u001b[90m━━━━━━━━━━━━━━━━━━━━━━━━━━━━━━━━━━━━━━━\u001b[0m \u001b[32m207.5/207.5 MB\u001b[0m \u001b[31m4.5 MB/s\u001b[0m eta \u001b[36m0:00:00\u001b[0m00:01\u001b[0m00:02\u001b[0m\n",
            "\u001b[?25h  Downloading tensorflow_cpu-2.9.1-cp310-cp310-manylinux_2_17_x86_64.manylinux2014_x86_64.whl (207.5 MB)\n",
            "\u001b[2K     \u001b[90m━━━━━━━━━━━━━━━━━━━━━━━━━━━━━━━━━━━━━━━\u001b[0m \u001b[32m207.5/207.5 MB\u001b[0m \u001b[31m3.9 MB/s\u001b[0m eta \u001b[36m0:00:00\u001b[0m00:01\u001b[0m00:01\u001b[0m\n",
            "\u001b[?25h  Downloading tensorflow_cpu-2.9.0-cp310-cp310-manylinux_2_17_x86_64.manylinux2014_x86_64.whl (207.5 MB)\n",
            "\u001b[2K     \u001b[90m━━━━━━━━━━━━━━━━━━━━━━━━━━━━━━━━━━━━━━━\u001b[0m \u001b[32m207.5/207.5 MB\u001b[0m \u001b[31m4.3 MB/s\u001b[0m eta \u001b[36m0:00:00\u001b[0m00:01\u001b[0m00:02\u001b[0m\n",
            "\u001b[?25hCollecting keras-preprocessing>=1.1.1\n",
            "  Downloading Keras_Preprocessing-1.1.2-py2.py3-none-any.whl (42 kB)\n",
            "\u001b[2K     \u001b[90m━━━━━━━━━━━━━━━━━━━━━━━━━━━━━━━━━━━━━━━━\u001b[0m \u001b[32m42.6/42.6 KB\u001b[0m \u001b[31m11.8 MB/s\u001b[0m eta \u001b[36m0:00:00\u001b[0m\n",
            "\u001b[?25hCollecting tensorflow-cpu\n",
            "  Downloading tensorflow_cpu-2.8.4-cp310-cp310-manylinux2010_x86_64.whl (191.4 MB)\n",
            "\u001b[2K     \u001b[90m━━━━━━━━━━━━━━━━━━━━━━━━━━━━━━━━━━━━━━\u001b[0m \u001b[32m191.4/191.4 MB\u001b[0m \u001b[31m11.1 MB/s\u001b[0m eta \u001b[36m0:00:00\u001b[0m00:01\u001b[0m00:01\u001b[0m\n",
            "\u001b[?25h  Downloading tensorflow_cpu-2.8.3-cp310-cp310-manylinux2010_x86_64.whl (191.4 MB)\n",
            "\u001b[2K     \u001b[90m━━━━━━━━━━━━━━━━━━━━━━━━━━━━━━━━━━━━━━━\u001b[0m \u001b[32m191.4/191.4 MB\u001b[0m \u001b[31m5.3 MB/s\u001b[0m eta \u001b[36m0:00:00\u001b[0m00:01\u001b[0m00:01\u001b[0m\n",
            "\u001b[?25h  Downloading tensorflow_cpu-2.8.2-cp310-cp310-manylinux2010_x86_64.whl (191.0 MB)\n",
            "\u001b[2K     \u001b[90m━━━━━━━━━━━━━━━━━━━━━━━━━━━━━━━━━━━━━━━\u001b[0m \u001b[32m191.0/191.0 MB\u001b[0m \u001b[31m4.4 MB/s\u001b[0m eta \u001b[36m0:00:00\u001b[0m00:01\u001b[0m00:01\u001b[0m\n",
            "\u001b[?25h  Downloading tensorflow_cpu-2.8.1-cp310-cp310-manylinux2010_x86_64.whl (191.0 MB)\n",
            "\u001b[2K     \u001b[90m━━━━━━━━━━━━━━━━━━━━━━━━━━━━━━━━━━━━━━━\u001b[0m \u001b[32m191.0/191.0 MB\u001b[0m \u001b[31m4.4 MB/s\u001b[0m eta \u001b[36m0:00:00\u001b[0m00:01\u001b[0m00:01\u001b[0m\n",
            "\u001b[?25h  Downloading tensorflow_cpu-2.8.0-cp310-cp310-manylinux2010_x86_64.whl (190.6 MB)\n",
            "\u001b[2K     \u001b[90m━━━━━━━━━━━━━━━━━━━━━━━━━━━━━━━━━━━━━━━\u001b[0m \u001b[32m190.6/190.6 MB\u001b[0m \u001b[31m5.8 MB/s\u001b[0m eta \u001b[36m0:00:00\u001b[0m00:01\u001b[0m00:01\u001b[0m\n",
            "\u001b[?25hINFO: pip is looking at multiple versions of matplotlib to determine which version is compatible with other requirements. This could take a while.\n",
            "Collecting matplotlib\n",
            "  Downloading matplotlib-3.7.0-cp310-cp310-manylinux_2_17_x86_64.manylinux2014_x86_64.whl (11.6 MB)\n",
            "\u001b[2K     \u001b[90m━━━━━━━━━━━━━━━━━━━━━━━━━━━━━━━━━━━━━━━\u001b[0m \u001b[32m11.6/11.6 MB\u001b[0m \u001b[31m149.6 MB/s\u001b[0m eta \u001b[36m0:00:00\u001b[0m00:01\u001b[0m00:01\u001b[0m\n",
            "\u001b[?25hINFO: pip is looking at multiple versions of pandas to determine which version is compatible with other requirements. This could take a while.\n",
            "Collecting pandas\n",
            "  Downloading pandas-2.0.1-cp310-cp310-manylinux_2_17_x86_64.manylinux2014_x86_64.whl (12.3 MB)\n",
            "\u001b[2K     \u001b[90m━━━━━━━━━━━━━━━━━━━━━━━━━━━━━━━━━━━━━━━\u001b[0m \u001b[32m12.3/12.3 MB\u001b[0m \u001b[31m146.6 MB/s\u001b[0m eta \u001b[36m0:00:00\u001b[0m00:01\u001b[0m00:01\u001b[0m\n",
            "\u001b[?25hINFO: pip is looking at multiple versions of numpy to determine which version is compatible with other requirements. This could take a while.\n",
            "Collecting numpy\n",
            "  Downloading numpy-1.24.2-cp310-cp310-manylinux_2_17_x86_64.manylinux2014_x86_64.whl (17.3 MB)\n",
            "\u001b[2K     \u001b[90m━━━━━━━━━━━━━━━━━━━━━━━━━━━━━━━━━━━━━━━\u001b[0m \u001b[32m17.3/17.3 MB\u001b[0m \u001b[31m131.6 MB/s\u001b[0m eta \u001b[36m0:00:00\u001b[0ma \u001b[36m0:00:01\u001b[0m\n",
            "\u001b[?25hINFO: pip is looking at multiple versions of protobuf to determine which version is compatible with other requirements. This could take a while.\n",
            "INFO: pip is looking at multiple versions of keras to determine which version is compatible with other requirements. This could take a while.\n",
            "INFO: pip is looking at multiple versions of scikit-learn to determine which version is compatible with other requirements. This could take a while.\n",
            "INFO: pip is looking at multiple versions of streamlit to determine which version is compatible with other requirements. This could take a while.\n",
            "INFO: pip is looking at multiple versions of plotly to determine which version is compatible with other requirements. This could take a while.\n",
            "INFO: pip is looking at multiple versions of <Python from Requires-Python> to determine which version is compatible with other requirements. This could take a while.\n",
            "INFO: pip is looking at multiple versions of seaborn to determine which version is compatible with other requirements. This could take a while.\n",
            "\u001b[31mERROR: Cannot install -r /workspace/project5/requirements.txt (line 30), -r /workspace/project5/requirements.txt (line 33), keras==2.6.0 and protobuf==3.20 because these package versions have conflicting dependencies.\u001b[0m\u001b[31m\n",
            "\u001b[0m\n",
            "The conflict is caused by:\n",
            "    The user requested protobuf==3.20\n",
            "    streamlit 0.85.0 depends on protobuf!=3.11 and >=3.6.0\n",
            "    tensorflow-cpu 2.12.0 depends on protobuf!=4.21.0, !=4.21.1, !=4.21.2, !=4.21.3, !=4.21.4, !=4.21.5, <5.0.0dev and >=3.20.3\n",
            "    The user requested protobuf==3.20\n",
            "    streamlit 0.85.0 depends on protobuf!=3.11 and >=3.6.0\n",
            "    tensorflow-cpu 2.11.1 depends on protobuf<3.20 and >=3.9.2\n",
            "    The user requested protobuf==3.20\n",
            "    streamlit 0.85.0 depends on protobuf!=3.11 and >=3.6.0\n",
            "    tensorflow-cpu 2.11.0 depends on protobuf<3.20 and >=3.9.2\n",
            "    The user requested keras==2.6.0\n",
            "    tensorflow-cpu 2.10.1 depends on keras<2.11 and >=2.10.0\n",
            "    The user requested keras==2.6.0\n",
            "    tensorflow-cpu 2.10.0 depends on keras<2.11 and >=2.10.0\n",
            "    The user requested protobuf==3.20\n",
            "    streamlit 0.85.0 depends on protobuf!=3.11 and >=3.6.0\n",
            "    tensorflow-cpu 2.9.3 depends on protobuf<3.20 and >=3.9.2\n",
            "    The user requested protobuf==3.20\n",
            "    streamlit 0.85.0 depends on protobuf!=3.11 and >=3.6.0\n",
            "    tensorflow-cpu 2.9.2 depends on protobuf<3.20 and >=3.9.2\n",
            "    The user requested protobuf==3.20\n",
            "    streamlit 0.85.0 depends on protobuf!=3.11 and >=3.6.0\n",
            "    tensorflow-cpu 2.9.1 depends on protobuf<3.20 and >=3.9.2\n",
            "    The user requested keras==2.6.0\n",
            "    tensorflow-cpu 2.9.0 depends on keras<2.10.0 and >=2.9.0rc0\n",
            "    The user requested keras==2.6.0\n",
            "    tensorflow-cpu 2.8.4 depends on keras<2.9 and >=2.8.0rc0\n",
            "    The user requested keras==2.6.0\n",
            "    tensorflow-cpu 2.8.3 depends on keras<2.9 and >=2.8.0rc0\n",
            "    The user requested keras==2.6.0\n",
            "    tensorflow-cpu 2.8.2 depends on keras<2.9 and >=2.8.0rc0\n",
            "    The user requested keras==2.6.0\n",
            "    tensorflow-cpu 2.8.1 depends on keras<2.9 and >=2.8.0rc0\n",
            "    The user requested keras==2.6.0\n",
            "    tensorflow-cpu 2.8.0 depends on keras<2.9 and >=2.8.0rc0\n",
            "\n",
            "To fix this you could try to:\n",
            "1. loosen the range of package versions you've specified\n",
            "2. remove package versions to allow pip attempt to solve the dependency conflict\n",
            "\n",
            "\u001b[31mERROR: ResolutionImpossible: for help visit https://pip.pypa.io/en/latest/topics/dependency-resolution/#dealing-with-dependency-conflicts\u001b[0m\u001b[31m\n",
            "\u001b[0mNote: you may need to restart the kernel to use updated packages.\n"
          ]
        }
      ],
      "source": [
        "%pip install -r /workspace/project5/requirements.txt\n",
        "\n"
      ]
    },
    {
      "attachments": {},
      "cell_type": "markdown",
      "metadata": {},
      "source": [
        "import numpy\n",
        "import os\n",
        "import shutil\n",
        "import random\n",
        "import joblib"
      ]
    },
    {
      "attachments": {},
      "cell_type": "markdown",
      "metadata": {
        "id": "cqP-UeN-z3i2"
      },
      "source": [
        "# Change working directory"
      ]
    },
    {
      "attachments": {},
      "cell_type": "markdown",
      "metadata": {},
      "source": [
        "* We are assuming you will store the notebooks in a subfolder, therefore when running the notebook in the editor, you will need to change the working directory"
      ]
    },
    {
      "attachments": {},
      "cell_type": "markdown",
      "metadata": {
        "id": "aOGIGS-uz3i2"
      },
      "source": [
        "We need to change the working directory from its current folder to its parent folder\n",
        "* We access the current directory with os.getcwd()"
      ]
    },
    {
      "cell_type": "code",
      "execution_count": null,
      "metadata": {
        "id": "wZfF_j-Bz3i4",
        "outputId": "66943449-1436-4c3d-85c7-b85f9f78349b"
      },
      "outputs": [],
      "source": [
        "import os\n",
        "import random\n",
        "import os\n",
        "import shutil\n",
        "import random\n",
        "import joblib\n",
        "import zipfile\n",
        "import numpy\n",
        "import os\n",
        "\n",
        "current_dir = os.getcwd()\n",
        "current_dir"
      ]
    },
    {
      "attachments": {},
      "cell_type": "markdown",
      "metadata": {
        "id": "9MWW8E7lz3i7"
      },
      "source": [
        "We want to make the parent of the current directory the new current directory\n",
        "* os.path.dirname() gets the parent directory\n",
        "* os.chir() defines the new current directory"
      ]
    },
    {
      "cell_type": "code",
      "execution_count": null,
      "metadata": {
        "id": "TwHsQRWjz3i9",
        "outputId": "86849db3-cd2f-4cc5-ebb8-2d0caafa1a2c",
        "tags": []
      },
      "outputs": [],
      "source": [
        "os.chdir(os.path.dirname(current_dir))\n",
        "print(\"You set a new current directory\")"
      ]
    },
    {
      "attachments": {},
      "cell_type": "markdown",
      "metadata": {
        "id": "M_xPk_Ijz3i-"
      },
      "source": [
        "Confirm the new current directory"
      ]
    },
    {
      "cell_type": "code",
      "execution_count": null,
      "metadata": {
        "id": "vz3S-_kjz3jA",
        "outputId": "00b79ae4-75d0-4a96-d193-ac9ef9847ea2"
      },
      "outputs": [],
      "source": [
        "current_dir = os.getcwd()\n",
        "current_dir"
      ]
    },
    {
      "attachments": {},
      "cell_type": "markdown",
      "metadata": {
        "id": "-mavJ8DibrcQ"
      },
      "source": [
        "# Section 1"
      ]
    },
    {
      "attachments": {},
      "cell_type": "markdown",
      "metadata": {},
      "source": [
        "Section 1 content"
      ]
    },
    {
      "cell_type": "code",
      "execution_count": null,
      "metadata": {
        "tags": []
      },
      "outputs": [],
      "source": [
        "%pip install kaggle==1.5.12\n"
      ]
    },
    {
      "cell_type": "code",
      "execution_count": null,
      "metadata": {
        "tags": []
      },
      "outputs": [],
      "source": [
        "os.environ['KAGGLE_CONFIG_DIR'] = os.getcwd()\n",
        "! chmod 600 kaggle.json"
      ]
    },
    {
      "cell_type": "code",
      "execution_count": null,
      "metadata": {
        "tags": []
      },
      "outputs": [],
      "source": [
        "KaggleDatasetPath = \"codeinstitute/cherry-leaves\"\n",
        "DestinationFolder = \"inputs/datasets\"   \n",
        "! kaggle datasets download -d {KaggleDatasetPath} -p {DestinationFolder}"
      ]
    },
    {
      "cell_type": "code",
      "execution_count": null,
      "metadata": {
        "tags": []
      },
      "outputs": [],
      "source": [
        "import zipfile\n",
        "with zipfile.ZipFile(DestinationFolder + '/cherry-leaves.zip', 'r') as zip_ref:\n",
        "    zip_ref.extractall(DestinationFolder)\n",
        "\n",
        "os.remove(DestinationFolder + '/cherry-leaves.zip')\n",
        "\n",
        "print(\"Done!\")"
      ]
    },
    {
      "attachments": {},
      "cell_type": "markdown",
      "metadata": {
        "id": "ZY3l0-AxO93d"
      },
      "source": [
        "---"
      ]
    },
    {
      "attachments": {},
      "cell_type": "markdown",
      "metadata": {
        "id": "uFQo3ycuO-v6"
      },
      "source": [
        "# Data Preparation Stage"
      ]
    },
    {
      "attachments": {},
      "cell_type": "markdown",
      "metadata": {},
      "source": [
        "In this section we are going to check for any files that are not images in the zip & split the files, train, validate and test the sets.\n",
        "\n",
        "## Find and remove files that are not images"
      ]
    },
    {
      "cell_type": "code",
      "execution_count": null,
      "metadata": {},
      "outputs": [],
      "source": [
        "# def remove_non_images(my_data_dir):\n",
        "#     \"\"\"Removes non-image files from the specified directory\"\"\"\n",
        "#     image_extensions = ('.png', '.jpg', '.jpeg')\n",
        "#     for folder in os.listdir(my_data_dir):\n",
        "#         folder_path = os.path.join(my_data_dir, folder)\n",
        "#         if os.path.isdir(folder_path):\n",
        "#             for file in os.listdir(folder_path):\n",
        "#                 if not file.lower().endswith(image_extensions):\n",
        "#                     os.remove(os.path.join(folder_path, file))\n",
        "#     print(f\"Removed non-image files from {my_data_dir}\")\n",
        "# #----------------------------------------\n",
        "\n",
        "# import requests\n",
        "# import os\n",
        "\n",
        "# def compress_image(file_path):\n",
        "#     \"\"\"Compresses a JPEG image by 30% using IMGonline\"\"\"\n",
        "#     url = 'https://www.imgonline.com.ua/eng/compress-jpeg-image.php'\n",
        "#     files = {'file': open(file_path, 'rb')}\n",
        "#     data = {'quality': '70'}\n",
        "#     response = requests.post(url, files=files, data=data)\n",
        "#     with open(file_path, 'wb') as f:\n",
        "#         f.write(response.content)\n",
        "\n",
        "# def remove_non_images(my_data_dir):\n",
        "#     \"\"\"Removes non-image files from the specified directory and compresses JPEG images by 30%\"\"\"\n",
        "#     image_extensions = ('.png', '.jpg', '.jpeg')\n",
        "#     for folder in os.listdir(my_data_dir):\n",
        "#         folder_path = os.path.join(my_data_dir, folder)\n",
        "#         if os.path.isdir(folder_path):\n",
        "#             for file in os.listdir(folder_path):\n",
        "#                 if not file.lower().endswith(image_extensions):\n",
        "#                     os.remove(os.path.join(folder_path, file))\n",
        "#                 elif file.lower().endswith('.jpeg') or file.lower().endswith('.jpg'):\n",
        "#                     file_path = os.path.join(folder_path, file)\n",
        "#                     compress_image(file_path)\n",
        "#     print(f\"Removed non-image files from {my_data_dir}\")\n",
        "\n",
        "# #-------------------------------------------------\n",
        "\n",
        "\n",
        "import requests\n",
        "import os\n",
        "from PIL import Image\n",
        "\n",
        "\n",
        "\n",
        "\n",
        "def compress_image(file_path):\n",
        "    \"\"\"Compresses a JPEG image by 30% and reduces image size by 50%\"\"\"\n",
        "    img = Image.open(file_path)\n",
        "    \n",
        "    # Reduce image quality by 30%\n",
        "    img.save(file_path, quality=70)\n",
        "    \n",
        "    # Reduce image size by 50%\n",
        "    width, height = img.size\n",
        "    new_width = int(width * 0.5)\n",
        "    new_height = int(height * 0.5)\n",
        "    resized_img = img.resize((new_width, new_height))\n",
        "    resized_img.save(file_path)\n",
        "    \n",
        "def remove_non_images(my_data_dir):\n",
        "    \"\"\"Removes non-image files from the specified directory, compresses JPEG images by 30%, and reduces image size by 50%\"\"\"\n",
        "    image_extensions = ('.png', '.jpg', '.jpeg')\n",
        "    for folder in os.listdir(my_data_dir):\n",
        "        folder_path = os.path.join(my_data_dir, folder)\n",
        "        if os.path.isdir(folder_path):\n",
        "            for file in os.listdir(folder_path):\n",
        "                if not file.lower().endswith(image_extensions):\n",
        "                    os.remove(os.path.join(folder_path, file))\n",
        "                elif file.lower().endswith('.jpeg') or file.lower().endswith('.jpg'):\n",
        "                    file_path = os.path.join(folder_path, file)\n",
        "                    compress_image(file_path)\n",
        "    print(f\"Removed non-image files from {my_data_dir}\")\n"
      ]
    },
    {
      "cell_type": "code",
      "execution_count": null,
      "metadata": {},
      "outputs": [],
      "source": [
        "remove_non_images(my_data_dir='inputs/datasets/cherry-leaves')\n"
      ]
    },
    {
      "cell_type": "code",
      "execution_count": null,
      "metadata": {},
      "outputs": [],
      "source": [
        "def split_train_validation_test_images(my_data_dir, train_set_ratio, validation_set_ratio, test_set_ratio):\n",
        "    \"\"\" Split the data into train, validation and test sets \"\"\"\n",
        "\n",
        "    # Check that the sum of all the ratios is 1\n",
        "    if train_set_ratio + validation_set_ratio + test_set_ratio != 1.0:\n",
        "        print(\"train_set_ratio + validation_set_ratio + test_set_ratio should sum 1.0\")\n",
        "        return\n",
        "\n",
        "    # Get the class labels\n",
        "    labels = os.listdir(my_data_dir)\n",
        "\n",
        "    # Create train, validation and test folders if they don't already exist\n",
        "    for folder in ['train', 'validation', 'test']:\n",
        "        for label in labels:\n",
        "            os.makedirs(name=f\"{my_data_dir}/{folder}/{label}\", exist_ok=True)\n",
        "\n",
        "    # Loop over each label and move files to the appropriate set\n",
        "    for label in labels:\n",
        "        files = os.listdir(f\"{my_data_dir}/{label}\")\n",
        "        random.shuffle(files)\n",
        "\n",
        "        # Calculate the number of files for each set\n",
        "        train_set_files_qty = int(len(files) * train_set_ratio)\n",
        "        validation_set_files_qty = int(len(files) * validation_set_ratio)\n",
        "\n",
        "        for i, file_name in enumerate(files):\n",
        "            if i < train_set_files_qty:\n",
        "                # Move given file to train set\n",
        "                dest_dir = f\"{my_data_dir}/train/{label}\"\n",
        "            elif i < (train_set_files_qty + validation_set_files_qty):\n",
        "                # Move given file to validation set\n",
        "                dest_dir = f\"{my_data_dir}/validation/{label}\"\n",
        "            else:\n",
        "                # Move given file to test set\n",
        "                dest_dir = f\"{my_data_dir}/test/{label}\"\n",
        "            shutil.move(f\"{my_data_dir}/{label}/{file_name}\", f\"{dest_dir}/{file_name}\")\n",
        "\n",
        "        # Remove the original folder\n",
        "        os.rmdir(f\"{my_data_dir}/{label}\")\n"
      ]
    },
    {
      "cell_type": "code",
      "execution_count": null,
      "metadata": {},
      "outputs": [],
      "source": [
        "split_train_validation_test_images(my_data_dir = f\"inputs/datasets/cherry-leaves\",\n",
        "                        train_set_ratio = 0.7,\n",
        "                        validation_set_ratio=0.1,\n",
        "                        test_set_ratio=0.2\n",
        "                        )"
      ]
    },
    {
      "cell_type": "code",
      "execution_count": null,
      "metadata": {
        "tags": []
      },
      "outputs": [],
      "source": [
        "  \n",
        "print(\"Done!\")"
      ]
    },
    {
      "attachments": {},
      "cell_type": "markdown",
      "metadata": {},
      "source": [
        "---"
      ]
    },
    {
      "attachments": {},
      "cell_type": "markdown",
      "metadata": {},
      "source": [
        "NOTE"
      ]
    },
    {
      "attachments": {},
      "cell_type": "markdown",
      "metadata": {},
      "source": [
        "* You may add as many sections as you want, as long as it supports your project workflow.\n",
        "* All notebook's cells should be run top-down (you can't create a dynamic wherein a given point you need to go back to a previous cell to execute some task, like go back to a previous cell and refresh a variable content)"
      ]
    },
    {
      "attachments": {},
      "cell_type": "markdown",
      "metadata": {},
      "source": [
        "---"
      ]
    },
    {
      "attachments": {},
      "cell_type": "markdown",
      "metadata": {
        "id": "ltNetd085qHf"
      },
      "source": [
        "# Push files to Repo"
      ]
    },
    {
      "attachments": {},
      "cell_type": "markdown",
      "metadata": {},
      "source": [
        "* If you don't need to push files to Repo, you may replace this section with \"Conclusions and Next Steps\" and state your conclusions and next steps."
      ]
    },
    {
      "cell_type": "code",
      "execution_count": null,
      "metadata": {
        "id": "aKlnIozA4eQO",
        "outputId": "fd09bc1f-adb1-4511-f6ce-492a6af570c0",
        "tags": []
      },
      "outputs": [],
      "source": [
        "# import os\n",
        "\n",
        "# try:\n",
        "#     # create your folder here\n",
        "#     os.makedirs(name='my_folder')\n",
        "# except Exception as e:\n",
        "#     print(e)\n"
      ]
    },
    {
      "attachments": {},
      "cell_type": "markdown",
      "metadata": {},
      "source": [
        "# Summary"
      ]
    },
    {
      "attachments": {},
      "cell_type": "markdown",
      "metadata": {},
      "source": [
        "Work Done:\n",
        "\n",
        "* Download and cleaning of the data have been completed\n",
        "\n",
        "* There are three folders within the directory inputs/datasets/cherry_leaves, namely Train, Validation, and Test. Each of these folders contains two subfolders: one with images of healthy cherry leaves and the other with images of cherry leaves infected with powdery mildew.\n",
        "\n",
        "* In the next notebook I will visualizing the different types of leaves, obtaining their average and variation images, distinguishing the contrast between them, address business requirement number 1.\n",
        "\n",
        "\n"
      ]
    },
    {
      "attachments": {},
      "cell_type": "markdown",
      "metadata": {},
      "source": [
        "Issues:\n",
        "\n",
        "* Was getting a 401 - unathorised error when trying to use the kaggle.json file = Fixed by creating a new api key and using that.\n",
        "\n",
        "* \n",
        "\n",
        "\n"
      ]
    },
    {
      "attachments": {},
      "cell_type": "markdown",
      "metadata": {},
      "source": [
        "to fix:\n",
        "* Remove kaggle.json file"
      ]
    }
  ],
  "metadata": {
    "accelerator": "GPU",
    "colab": {
      "name": "Data Practitioner Jupyter Notebook.ipynb",
      "provenance": [],
      "toc_visible": true
    },
    "kernelspec": {
      "display_name": "Python 3",
      "language": "python",
      "name": "python3"
    },
    "language_info": {
      "codemirror_mode": {
        "name": "ipython",
        "version": 3
      },
      "file_extension": ".py",
      "mimetype": "text/x-python",
      "name": "python",
      "nbconvert_exporter": "python",
      "pygments_lexer": "ipython3",
      "version": "3.10.6"
    },
    "orig_nbformat": 2
  },
  "nbformat": 4,
  "nbformat_minor": 2
}
