{
  "cells": [
    {
      "cell_type": "markdown",
      "metadata": {
        "id": "0aStgWSO0E0E"
      },
      "source": [
        "# **(ADD HERE THE NOTEBOOK NAME)**"
      ]
    },
    {
      "attachments": {},
      "cell_type": "markdown",
      "metadata": {
        "id": "1eLEkw5O0ECa"
      },
      "source": [
        "## Objectives\n",
        "\n",
        "* Colect the data from Kaggle, unzip, prepare and storage it for further analysis.\n",
        "\n",
        "\n",
        "## Inputs\n",
        "\n",
        "* The Kaggle JSON file authentication token.\n",
        "\n",
        "\n",
        "## Outputs\n",
        "\n",
        "* Create Dataset: inputs/datasets/cherry-leaves\n",
        "\n",
        "## Additional Comments\n",
        "\n",
        "\n",
        "* The data must be saved after being prepared, removing any files that are not an images, split the data into Train, Validation and Set folders.\n",
        "\n"
      ]
    },
    {
      "cell_type": "markdown",
      "metadata": {
        "id": "9uWZXH9LwoQg"
      },
      "source": [
        "---"
      ]
    },
    {
      "cell_type": "code",
      "execution_count": 1,
      "metadata": {
        "tags": [
          "outputPrepend"
        ]
      },
      "outputs": [
        {
          "name": "stdout",
          "output_type": "stream",
          "text": [
            "Requirement already satisfied: numpy in /home/gitpod/.pyenv/versions/3.11.1/lib/python3.11/site-packages (from -r /workspace/project5/requirements.txt (line 1)) (1.23.5)\n",
            "Requirement already satisfied: matplotlib in /home/gitpod/.pyenv/versions/3.11.1/lib/python3.11/site-packages (from -r /workspace/project5/requirements.txt (line 2)) (3.7.1)\n",
            "Requirement already satisfied: seaborn in /home/gitpod/.pyenv/versions/3.11.1/lib/python3.11/site-packages (from -r /workspace/project5/requirements.txt (line 3)) (0.12.2)\n",
            "Requirement already satisfied: plotly in /home/gitpod/.pyenv/versions/3.11.1/lib/python3.11/site-packages (from -r /workspace/project5/requirements.txt (line 4)) (5.14.1)\n",
            "Requirement already satisfied: streamlit in /home/gitpod/.pyenv/versions/3.11.1/lib/python3.11/site-packages (from -r /workspace/project5/requirements.txt (line 5)) (1.22.0)\n",
            "Requirement already satisfied: scikit-learn in /home/gitpod/.pyenv/versions/3.11.1/lib/python3.11/site-packages (from -r /workspace/project5/requirements.txt (line 6)) (1.2.2)\n",
            "Requirement already satisfied: tensorflow-cpu in /home/gitpod/.pyenv/versions/3.11.1/lib/python3.11/site-packages (from -r /workspace/project5/requirements.txt (line 7)) (2.12.0)\n",
            "Requirement already satisfied: keras in /home/gitpod/.pyenv/versions/3.11.1/lib/python3.11/site-packages (from -r /workspace/project5/requirements.txt (line 8)) (2.12.0)\n",
            "Requirement already satisfied: protobuf in /home/gitpod/.pyenv/versions/3.11.1/lib/python3.11/site-packages (from -r /workspace/project5/requirements.txt (line 9)) (3.20.3)\n",
            "Requirement already satisfied: pandas in /home/gitpod/.pyenv/versions/3.11.1/lib/python3.11/site-packages (from -r /workspace/project5/requirements.txt (line 10)) (2.0.2)\n",
            "Requirement already satisfied: pandas-profiling in /home/gitpod/.pyenv/versions/3.11.1/lib/python3.11/site-packages (from -r /workspace/project5/requirements.txt (line 11)) (3.2.0)\n",
            "Requirement already satisfied: contourpy>=1.0.1 in /home/gitpod/.pyenv/versions/3.11.1/lib/python3.11/site-packages (from matplotlib->-r /workspace/project5/requirements.txt (line 2)) (1.0.7)\n",
            "Requirement already satisfied: cycler>=0.10 in /home/gitpod/.pyenv/versions/3.11.1/lib/python3.11/site-packages (from matplotlib->-r /workspace/project5/requirements.txt (line 2)) (0.11.0)\n",
            "Requirement already satisfied: fonttools>=4.22.0 in /home/gitpod/.pyenv/versions/3.11.1/lib/python3.11/site-packages (from matplotlib->-r /workspace/project5/requirements.txt (line 2)) (4.39.4)\n",
            "Requirement already satisfied: kiwisolver>=1.0.1 in /home/gitpod/.pyenv/versions/3.11.1/lib/python3.11/site-packages (from matplotlib->-r /workspace/project5/requirements.txt (line 2)) (1.4.4)\n",
            "Requirement already satisfied: packaging>=20.0 in /home/gitpod/.pyenv/versions/3.11.1/lib/python3.11/site-packages (from matplotlib->-r /workspace/project5/requirements.txt (line 2)) (23.0)\n",
            "Requirement already satisfied: pillow>=6.2.0 in /home/gitpod/.pyenv/versions/3.11.1/lib/python3.11/site-packages (from matplotlib->-r /workspace/project5/requirements.txt (line 2)) (9.5.0)\n",
            "Requirement already satisfied: pyparsing>=2.3.1 in /home/gitpod/.pyenv/versions/3.11.1/lib/python3.11/site-packages (from matplotlib->-r /workspace/project5/requirements.txt (line 2)) (3.0.9)\n",
            "Requirement already satisfied: python-dateutil>=2.7 in /home/gitpod/.pyenv/versions/3.11.1/lib/python3.11/site-packages (from matplotlib->-r /workspace/project5/requirements.txt (line 2)) (2.8.2)\n",
            "Requirement already satisfied: tenacity>=6.2.0 in /home/gitpod/.pyenv/versions/3.11.1/lib/python3.11/site-packages (from plotly->-r /workspace/project5/requirements.txt (line 4)) (8.2.2)\n",
            "Requirement already satisfied: altair<5,>=3.2.0 in /home/gitpod/.pyenv/versions/3.11.1/lib/python3.11/site-packages (from streamlit->-r /workspace/project5/requirements.txt (line 5)) (4.2.2)\n",
            "Requirement already satisfied: blinker>=1.0.0 in /home/gitpod/.pyenv/versions/3.11.1/lib/python3.11/site-packages (from streamlit->-r /workspace/project5/requirements.txt (line 5)) (1.6.2)\n",
            "Requirement already satisfied: cachetools>=4.0 in /home/gitpod/.pyenv/versions/3.11.1/lib/python3.11/site-packages (from streamlit->-r /workspace/project5/requirements.txt (line 5)) (5.3.1)\n",
            "Requirement already satisfied: click>=7.0 in /home/gitpod/.pyenv/versions/3.11.1/lib/python3.11/site-packages (from streamlit->-r /workspace/project5/requirements.txt (line 5)) (8.1.3)\n",
            "Requirement already satisfied: importlib-metadata>=1.4 in /home/gitpod/.pyenv/versions/3.11.1/lib/python3.11/site-packages (from streamlit->-r /workspace/project5/requirements.txt (line 5)) (6.1.0)\n",
            "Requirement already satisfied: pyarrow>=4.0 in /home/gitpod/.pyenv/versions/3.11.1/lib/python3.11/site-packages (from streamlit->-r /workspace/project5/requirements.txt (line 5)) (12.0.0)\n",
            "Requirement already satisfied: pympler>=0.9 in /home/gitpod/.pyenv/versions/3.11.1/lib/python3.11/site-packages (from streamlit->-r /workspace/project5/requirements.txt (line 5)) (1.0.1)\n",
            "Requirement already satisfied: requests>=2.4 in /home/gitpod/.pyenv/versions/3.11.1/lib/python3.11/site-packages (from streamlit->-r /workspace/project5/requirements.txt (line 5)) (2.28.2)\n",
            "Requirement already satisfied: rich>=10.11.0 in /home/gitpod/.pyenv/versions/3.11.1/lib/python3.11/site-packages (from streamlit->-r /workspace/project5/requirements.txt (line 5)) (13.3.2)\n",
            "Requirement already satisfied: toml in /home/gitpod/.pyenv/versions/3.11.1/lib/python3.11/site-packages (from streamlit->-r /workspace/project5/requirements.txt (line 5)) (0.10.2)\n",
            "Requirement already satisfied: typing-extensions>=3.10.0.0 in /home/gitpod/.pyenv/versions/3.11.1/lib/python3.11/site-packages (from streamlit->-r /workspace/project5/requirements.txt (line 5)) (4.5.0)\n",
            "Requirement already satisfied: tzlocal>=1.1 in /home/gitpod/.pyenv/versions/3.11.1/lib/python3.11/site-packages (from streamlit->-r /workspace/project5/requirements.txt (line 5)) (5.0.1)\n",
            "Requirement already satisfied: validators>=0.2 in /home/gitpod/.pyenv/versions/3.11.1/lib/python3.11/site-packages (from streamlit->-r /workspace/project5/requirements.txt (line 5)) (0.20.0)\n",
            "Requirement already satisfied: gitpython!=3.1.19 in /home/gitpod/.pyenv/versions/3.11.1/lib/python3.11/site-packages (from streamlit->-r /workspace/project5/requirements.txt (line 5)) (3.1.31)\n",
            "Requirement already satisfied: pydeck>=0.1.dev5 in /home/gitpod/.pyenv/versions/3.11.1/lib/python3.11/site-packages (from streamlit->-r /workspace/project5/requirements.txt (line 5)) (0.8.1b0)\n",
            "Requirement already satisfied: tornado>=6.0.3 in /home/gitpod/.pyenv/versions/3.11.1/lib/python3.11/site-packages (from streamlit->-r /workspace/project5/requirements.txt (line 5)) (6.2)\n",
            "Requirement already satisfied: watchdog in /home/gitpod/.pyenv/versions/3.11.1/lib/python3.11/site-packages (from streamlit->-r /workspace/project5/requirements.txt (line 5)) (3.0.0)\n",
            "Requirement already satisfied: scipy>=1.3.2 in /home/gitpod/.pyenv/versions/3.11.1/lib/python3.11/site-packages (from scikit-learn->-r /workspace/project5/requirements.txt (line 6)) (1.10.1)\n",
            "Requirement already satisfied: joblib>=1.1.1 in /home/gitpod/.pyenv/versions/3.11.1/lib/python3.11/site-packages (from scikit-learn->-r /workspace/project5/requirements.txt (line 6)) (1.1.1)\n",
            "Requirement already satisfied: threadpoolctl>=2.0.0 in /home/gitpod/.pyenv/versions/3.11.1/lib/python3.11/site-packages (from scikit-learn->-r /workspace/project5/requirements.txt (line 6)) (3.1.0)\n",
            "Requirement already satisfied: absl-py>=1.0.0 in /home/gitpod/.pyenv/versions/3.11.1/lib/python3.11/site-packages (from tensorflow-cpu->-r /workspace/project5/requirements.txt (line 7)) (1.4.0)\n",
            "Requirement already satisfied: astunparse>=1.6.0 in /home/gitpod/.pyenv/versions/3.11.1/lib/python3.11/site-packages (from tensorflow-cpu->-r /workspace/project5/requirements.txt (line 7)) (1.6.3)\n",
            "Requirement already satisfied: flatbuffers>=2.0 in /home/gitpod/.pyenv/versions/3.11.1/lib/python3.11/site-packages (from tensorflow-cpu->-r /workspace/project5/requirements.txt (line 7)) (23.5.26)\n",
            "Requirement already satisfied: gast<=0.4.0,>=0.2.1 in /home/gitpod/.pyenv/versions/3.11.1/lib/python3.11/site-packages (from tensorflow-cpu->-r /workspace/project5/requirements.txt (line 7)) (0.4.0)\n",
            "Requirement already satisfied: google-pasta>=0.1.1 in /home/gitpod/.pyenv/versions/3.11.1/lib/python3.11/site-packages (from tensorflow-cpu->-r /workspace/project5/requirements.txt (line 7)) (0.2.0)\n",
            "Requirement already satisfied: grpcio<2.0,>=1.24.3 in /home/gitpod/.pyenv/versions/3.11.1/lib/python3.11/site-packages (from tensorflow-cpu->-r /workspace/project5/requirements.txt (line 7)) (1.54.2)\n",
            "Requirement already satisfied: h5py>=2.9.0 in /home/gitpod/.pyenv/versions/3.11.1/lib/python3.11/site-packages (from tensorflow-cpu->-r /workspace/project5/requirements.txt (line 7)) (3.8.0)\n",
            "Requirement already satisfied: jax>=0.3.15 in /home/gitpod/.pyenv/versions/3.11.1/lib/python3.11/site-packages (from tensorflow-cpu->-r /workspace/project5/requirements.txt (line 7)) (0.4.10)\n",
            "Requirement already satisfied: libclang>=13.0.0 in /home/gitpod/.pyenv/versions/3.11.1/lib/python3.11/site-packages (from tensorflow-cpu->-r /workspace/project5/requirements.txt (line 7)) (16.0.0)\n",
            "Requirement already satisfied: opt-einsum>=2.3.2 in /home/gitpod/.pyenv/versions/3.11.1/lib/python3.11/site-packages (from tensorflow-cpu->-r /workspace/project5/requirements.txt (line 7)) (3.3.0)\n",
            "Requirement already satisfied: setuptools in /home/gitpod/.pyenv/versions/3.11.1/lib/python3.11/site-packages (from tensorflow-cpu->-r /workspace/project5/requirements.txt (line 7)) (67.6.0)\n",
            "Requirement already satisfied: six>=1.12.0 in /home/gitpod/.pyenv/versions/3.11.1/lib/python3.11/site-packages (from tensorflow-cpu->-r /workspace/project5/requirements.txt (line 7)) (1.16.0)\n",
            "Requirement already satisfied: tensorboard<2.13,>=2.12 in /home/gitpod/.pyenv/versions/3.11.1/lib/python3.11/site-packages (from tensorflow-cpu->-r /workspace/project5/requirements.txt (line 7)) (2.12.3)\n",
            "Requirement already satisfied: tensorflow-estimator<2.13,>=2.12.0 in /home/gitpod/.pyenv/versions/3.11.1/lib/python3.11/site-packages (from tensorflow-cpu->-r /workspace/project5/requirements.txt (line 7)) (2.12.0)\n",
            "Requirement already satisfied: termcolor>=1.1.0 in /home/gitpod/.pyenv/versions/3.11.1/lib/python3.11/site-packages (from tensorflow-cpu->-r /workspace/project5/requirements.txt (line 7)) (2.3.0)\n",
            "Requirement already satisfied: wrapt<1.15,>=1.11.0 in /home/gitpod/.pyenv/versions/3.11.1/lib/python3.11/site-packages (from tensorflow-cpu->-r /workspace/project5/requirements.txt (line 7)) (1.14.1)\n",
            "Requirement already satisfied: tensorflow-io-gcs-filesystem>=0.23.1 in /home/gitpod/.pyenv/versions/3.11.1/lib/python3.11/site-packages (from tensorflow-cpu->-r /workspace/project5/requirements.txt (line 7)) (0.32.0)\n",
            "Requirement already satisfied: pytz>=2020.1 in /home/gitpod/.pyenv/versions/3.11.1/lib/python3.11/site-packages (from pandas->-r /workspace/project5/requirements.txt (line 10)) (2023.3)\n",
            "Requirement already satisfied: tzdata>=2022.1 in /home/gitpod/.pyenv/versions/3.11.1/lib/python3.11/site-packages (from pandas->-r /workspace/project5/requirements.txt (line 10)) (2023.3)\n",
            "Requirement already satisfied: pydantic>=1.8.1 in /home/gitpod/.pyenv/versions/3.11.1/lib/python3.11/site-packages (from pandas-profiling->-r /workspace/project5/requirements.txt (line 11)) (1.10.8)\n",
            "Requirement already satisfied: PyYAML>=5.0.0 in /home/gitpod/.pyenv/versions/3.11.1/lib/python3.11/site-packages (from pandas-profiling->-r /workspace/project5/requirements.txt (line 11)) (6.0)\n",
            "Requirement already satisfied: jinja2>=2.11.1 in /home/gitpod/.pyenv/versions/3.11.1/lib/python3.11/site-packages (from pandas-profiling->-r /workspace/project5/requirements.txt (line 11)) (3.1.2)\n",
            "Requirement already satisfied: markupsafe~=2.1.1 in /home/gitpod/.pyenv/versions/3.11.1/lib/python3.11/site-packages (from pandas-profiling->-r /workspace/project5/requirements.txt (line 11)) (2.1.2)\n",
            "Requirement already satisfied: visions[type_image_path]==0.7.4 in /home/gitpod/.pyenv/versions/3.11.1/lib/python3.11/site-packages (from pandas-profiling->-r /workspace/project5/requirements.txt (line 11)) (0.7.4)\n",
            "Requirement already satisfied: htmlmin>=0.1.12 in /home/gitpod/.pyenv/versions/3.11.1/lib/python3.11/site-packages (from pandas-profiling->-r /workspace/project5/requirements.txt (line 11)) (0.1.12)\n",
            "Requirement already satisfied: missingno>=0.4.2 in /home/gitpod/.pyenv/versions/3.11.1/lib/python3.11/site-packages (from pandas-profiling->-r /workspace/project5/requirements.txt (line 11)) (0.5.2)\n",
            "Requirement already satisfied: phik>=0.11.1 in /home/gitpod/.pyenv/versions/3.11.1/lib/python3.11/site-packages (from pandas-profiling->-r /workspace/project5/requirements.txt (line 11)) (0.12.3)\n",
            "Requirement already satisfied: tangled-up-in-unicode==0.2.0 in /home/gitpod/.pyenv/versions/3.11.1/lib/python3.11/site-packages (from pandas-profiling->-r /workspace/project5/requirements.txt (line 11)) (0.2.0)\n",
            "Requirement already satisfied: tqdm>=4.48.2 in /home/gitpod/.pyenv/versions/3.11.1/lib/python3.11/site-packages (from pandas-profiling->-r /workspace/project5/requirements.txt (line 11)) (4.65.0)\n",
            "Requirement already satisfied: multimethod>=1.4 in /home/gitpod/.pyenv/versions/3.11.1/lib/python3.11/site-packages (from pandas-profiling->-r /workspace/project5/requirements.txt (line 11)) (1.9.1)\n",
            "Requirement already satisfied: attrs>=19.3.0 in /home/gitpod/.pyenv/versions/3.11.1/lib/python3.11/site-packages (from visions[type_image_path]==0.7.4->pandas-profiling->-r /workspace/project5/requirements.txt (line 11)) (22.2.0)\n",
            "Requirement already satisfied: networkx>=2.4 in /home/gitpod/.pyenv/versions/3.11.1/lib/python3.11/site-packages (from visions[type_image_path]==0.7.4->pandas-profiling->-r /workspace/project5/requirements.txt (line 11)) (3.1)\n",
            "Requirement already satisfied: imagehash in /home/gitpod/.pyenv/versions/3.11.1/lib/python3.11/site-packages (from visions[type_image_path]==0.7.4->pandas-profiling->-r /workspace/project5/requirements.txt (line 11)) (4.3.1)\n",
            "Requirement already satisfied: entrypoints in /home/gitpod/.pyenv/versions/3.11.1/lib/python3.11/site-packages (from altair<5,>=3.2.0->streamlit->-r /workspace/project5/requirements.txt (line 5)) (0.4)\n",
            "Requirement already satisfied: jsonschema>=3.0 in /home/gitpod/.pyenv/versions/3.11.1/lib/python3.11/site-packages (from altair<5,>=3.2.0->streamlit->-r /workspace/project5/requirements.txt (line 5)) (4.17.3)\n",
            "Requirement already satisfied: toolz in /home/gitpod/.pyenv/versions/3.11.1/lib/python3.11/site-packages (from altair<5,>=3.2.0->streamlit->-r /workspace/project5/requirements.txt (line 5)) (0.12.0)\n",
            "Requirement already satisfied: wheel<1.0,>=0.23.0 in /home/gitpod/.pyenv/versions/3.11.1/lib/python3.11/site-packages (from astunparse>=1.6.0->tensorflow-cpu->-r /workspace/project5/requirements.txt (line 7)) (0.40.0)\n",
            "Requirement already satisfied: gitdb<5,>=4.0.1 in /home/gitpod/.pyenv/versions/3.11.1/lib/python3.11/site-packages (from gitpython!=3.1.19->streamlit->-r /workspace/project5/requirements.txt (line 5)) (4.0.10)\n",
            "Requirement already satisfied: zipp>=0.5 in /home/gitpod/.pyenv/versions/3.11.1/lib/python3.11/site-packages (from importlib-metadata>=1.4->streamlit->-r /workspace/project5/requirements.txt (line 5)) (3.15.0)\n",
            "Requirement already satisfied: ml-dtypes>=0.1.0 in /home/gitpod/.pyenv/versions/3.11.1/lib/python3.11/site-packages (from jax>=0.3.15->tensorflow-cpu->-r /workspace/project5/requirements.txt (line 7)) (0.1.0)\n",
            "Requirement already satisfied: charset-normalizer<4,>=2 in /home/gitpod/.pyenv/versions/3.11.1/lib/python3.11/site-packages (from requests>=2.4->streamlit->-r /workspace/project5/requirements.txt (line 5)) (3.1.0)\n",
            "Requirement already satisfied: idna<4,>=2.5 in /home/gitpod/.pyenv/versions/3.11.1/lib/python3.11/site-packages (from requests>=2.4->streamlit->-r /workspace/project5/requirements.txt (line 5)) (3.4)\n",
            "Requirement already satisfied: urllib3<1.27,>=1.21.1 in /home/gitpod/.pyenv/versions/3.11.1/lib/python3.11/site-packages (from requests>=2.4->streamlit->-r /workspace/project5/requirements.txt (line 5)) (1.26.15)\n",
            "Requirement already satisfied: certifi>=2017.4.17 in /home/gitpod/.pyenv/versions/3.11.1/lib/python3.11/site-packages (from requests>=2.4->streamlit->-r /workspace/project5/requirements.txt (line 5)) (2022.12.7)\n",
            "Requirement already satisfied: markdown-it-py<3.0.0,>=2.2.0 in /home/gitpod/.pyenv/versions/3.11.1/lib/python3.11/site-packages (from rich>=10.11.0->streamlit->-r /workspace/project5/requirements.txt (line 5)) (2.2.0)\n",
            "Requirement already satisfied: pygments<3.0.0,>=2.13.0 in /home/gitpod/.pyenv/versions/3.11.1/lib/python3.11/site-packages (from rich>=10.11.0->streamlit->-r /workspace/project5/requirements.txt (line 5)) (2.14.0)\n",
            "Requirement already satisfied: google-auth<3,>=1.6.3 in /home/gitpod/.pyenv/versions/3.11.1/lib/python3.11/site-packages (from tensorboard<2.13,>=2.12->tensorflow-cpu->-r /workspace/project5/requirements.txt (line 7)) (2.19.0)\n",
            "Requirement already satisfied: google-auth-oauthlib<1.1,>=0.5 in /home/gitpod/.pyenv/versions/3.11.1/lib/python3.11/site-packages (from tensorboard<2.13,>=2.12->tensorflow-cpu->-r /workspace/project5/requirements.txt (line 7)) (1.0.0)\n",
            "Requirement already satisfied: markdown>=2.6.8 in /home/gitpod/.pyenv/versions/3.11.1/lib/python3.11/site-packages (from tensorboard<2.13,>=2.12->tensorflow-cpu->-r /workspace/project5/requirements.txt (line 7)) (3.4.3)\n",
            "Requirement already satisfied: tensorboard-data-server<0.8.0,>=0.7.0 in /home/gitpod/.pyenv/versions/3.11.1/lib/python3.11/site-packages (from tensorboard<2.13,>=2.12->tensorflow-cpu->-r /workspace/project5/requirements.txt (line 7)) (0.7.0)\n",
            "Requirement already satisfied: werkzeug>=1.0.1 in /home/gitpod/.pyenv/versions/3.11.1/lib/python3.11/site-packages (from tensorboard<2.13,>=2.12->tensorflow-cpu->-r /workspace/project5/requirements.txt (line 7)) (2.3.4)\n",
            "Requirement already satisfied: decorator>=3.4.0 in /home/gitpod/.pyenv/versions/3.11.1/lib/python3.11/site-packages (from validators>=0.2->streamlit->-r /workspace/project5/requirements.txt (line 5)) (5.1.1)\n",
            "Requirement already satisfied: smmap<6,>=3.0.1 in /home/gitpod/.pyenv/versions/3.11.1/lib/python3.11/site-packages (from gitdb<5,>=4.0.1->gitpython!=3.1.19->streamlit->-r /workspace/project5/requirements.txt (line 5)) (5.0.0)\n",
            "Requirement already satisfied: pyasn1-modules>=0.2.1 in /home/gitpod/.pyenv/versions/3.11.1/lib/python3.11/site-packages (from google-auth<3,>=1.6.3->tensorboard<2.13,>=2.12->tensorflow-cpu->-r /workspace/project5/requirements.txt (line 7)) (0.3.0)\n",
            "Requirement already satisfied: rsa<5,>=3.1.4 in /home/gitpod/.pyenv/versions/3.11.1/lib/python3.11/site-packages (from google-auth<3,>=1.6.3->tensorboard<2.13,>=2.12->tensorflow-cpu->-r /workspace/project5/requirements.txt (line 7)) (4.9)\n",
            "Requirement already satisfied: requests-oauthlib>=0.7.0 in /home/gitpod/.pyenv/versions/3.11.1/lib/python3.11/site-packages (from google-auth-oauthlib<1.1,>=0.5->tensorboard<2.13,>=2.12->tensorflow-cpu->-r /workspace/project5/requirements.txt (line 7)) (1.3.1)\n",
            "Requirement already satisfied: pyrsistent!=0.17.0,!=0.17.1,!=0.17.2,>=0.14.0 in /home/gitpod/.pyenv/versions/3.11.1/lib/python3.11/site-packages (from jsonschema>=3.0->altair<5,>=3.2.0->streamlit->-r /workspace/project5/requirements.txt (line 5)) (0.19.3)\n",
            "Requirement already satisfied: mdurl~=0.1 in /home/gitpod/.pyenv/versions/3.11.1/lib/python3.11/site-packages (from markdown-it-py<3.0.0,>=2.2.0->rich>=10.11.0->streamlit->-r /workspace/project5/requirements.txt (line 5)) (0.1.2)\n",
            "Requirement already satisfied: PyWavelets in /home/gitpod/.pyenv/versions/3.11.1/lib/python3.11/site-packages (from imagehash->visions[type_image_path]==0.7.4->pandas-profiling->-r /workspace/project5/requirements.txt (line 11)) (1.4.1)\n",
            "Requirement already satisfied: pyasn1<0.6.0,>=0.4.6 in /home/gitpod/.pyenv/versions/3.11.1/lib/python3.11/site-packages (from pyasn1-modules>=0.2.1->google-auth<3,>=1.6.3->tensorboard<2.13,>=2.12->tensorflow-cpu->-r /workspace/project5/requirements.txt (line 7)) (0.5.0)\n",
            "Requirement already satisfied: oauthlib>=3.0.0 in /home/gitpod/.pyenv/versions/3.11.1/lib/python3.11/site-packages (from requests-oauthlib>=0.7.0->google-auth-oauthlib<1.1,>=0.5->tensorboard<2.13,>=2.12->tensorflow-cpu->-r /workspace/project5/requirements.txt (line 7)) (3.2.2)\n",
            "\n",
            "\u001b[1m[\u001b[0m\u001b[34;49mnotice\u001b[0m\u001b[1;39;49m]\u001b[0m\u001b[39;49m A new release of pip is available: \u001b[0m\u001b[31;49m23.0.1\u001b[0m\u001b[39;49m -> \u001b[0m\u001b[32;49m23.1.2\u001b[0m\n",
            "\u001b[1m[\u001b[0m\u001b[34;49mnotice\u001b[0m\u001b[1;39;49m]\u001b[0m\u001b[39;49m To update, run: \u001b[0m\u001b[32;49mpip install --upgrade pip\u001b[0m\n",
            "Note: you may need to restart the kernel to use updated packages.\n"
          ]
        }
      ],
      "source": [
        "%pip install -r /workspace/project5/requirements.txt\n",
        "\n"
      ]
    },
    {
      "attachments": {},
      "cell_type": "markdown",
      "metadata": {},
      "source": [
        "import numpy\n",
        "import os\n",
        "import shutil\n",
        "import random\n",
        "import joblib"
      ]
    },
    {
      "cell_type": "markdown",
      "metadata": {
        "id": "cqP-UeN-z3i2"
      },
      "source": [
        "# Change working directory"
      ]
    },
    {
      "cell_type": "markdown",
      "metadata": {},
      "source": [
        "* We are assuming you will store the notebooks in a subfolder, therefore when running the notebook in the editor, you will need to change the working directory"
      ]
    },
    {
      "cell_type": "markdown",
      "metadata": {
        "id": "aOGIGS-uz3i2"
      },
      "source": [
        "We need to change the working directory from its current folder to its parent folder\n",
        "* We access the current directory with os.getcwd()"
      ]
    },
    {
      "cell_type": "code",
      "execution_count": 2,
      "metadata": {
        "id": "wZfF_j-Bz3i4",
        "outputId": "66943449-1436-4c3d-85c7-b85f9f78349b"
      },
      "outputs": [
        {
          "data": {
            "text/plain": [
              "'/workspace/project5/jupyter_notebooks'"
            ]
          },
          "execution_count": 2,
          "metadata": {},
          "output_type": "execute_result"
        }
      ],
      "source": [
        "import os\n",
        "import random\n",
        "import os\n",
        "import shutil\n",
        "import random\n",
        "import joblib\n",
        "import zipfile\n",
        "import numpy\n",
        "import os\n",
        "\n",
        "current_dir = os.getcwd()\n",
        "current_dir"
      ]
    },
    {
      "cell_type": "markdown",
      "metadata": {
        "id": "9MWW8E7lz3i7"
      },
      "source": [
        "We want to make the parent of the current directory the new current directory\n",
        "* os.path.dirname() gets the parent directory\n",
        "* os.chir() defines the new current directory"
      ]
    },
    {
      "cell_type": "code",
      "execution_count": 3,
      "metadata": {
        "id": "TwHsQRWjz3i9",
        "outputId": "86849db3-cd2f-4cc5-ebb8-2d0caafa1a2c",
        "tags": []
      },
      "outputs": [
        {
          "name": "stdout",
          "output_type": "stream",
          "text": [
            "You set a new current directory\n"
          ]
        }
      ],
      "source": [
        "os.chdir(os.path.dirname(current_dir))\n",
        "print(\"You set a new current directory\")"
      ]
    },
    {
      "cell_type": "markdown",
      "metadata": {
        "id": "M_xPk_Ijz3i-"
      },
      "source": [
        "Confirm the new current directory"
      ]
    },
    {
      "cell_type": "code",
      "execution_count": 4,
      "metadata": {
        "id": "vz3S-_kjz3jA",
        "outputId": "00b79ae4-75d0-4a96-d193-ac9ef9847ea2"
      },
      "outputs": [
        {
          "data": {
            "text/plain": [
              "'/workspace/project5'"
            ]
          },
          "execution_count": 4,
          "metadata": {},
          "output_type": "execute_result"
        }
      ],
      "source": [
        "current_dir = os.getcwd()\n",
        "current_dir"
      ]
    },
    {
      "cell_type": "markdown",
      "metadata": {
        "id": "-mavJ8DibrcQ"
      },
      "source": [
        "# Section 1"
      ]
    },
    {
      "cell_type": "markdown",
      "metadata": {},
      "source": [
        "Section 1 content"
      ]
    },
    {
      "cell_type": "code",
      "execution_count": 5,
      "metadata": {
        "tags": []
      },
      "outputs": [
        {
          "name": "stdout",
          "output_type": "stream",
          "text": [
            "Requirement already satisfied: kaggle==1.5.12 in /home/gitpod/.pyenv/versions/3.11.1/lib/python3.11/site-packages (1.5.12)\n",
            "Requirement already satisfied: six>=1.10 in /home/gitpod/.pyenv/versions/3.11.1/lib/python3.11/site-packages (from kaggle==1.5.12) (1.16.0)\n",
            "Requirement already satisfied: certifi in /home/gitpod/.pyenv/versions/3.11.1/lib/python3.11/site-packages (from kaggle==1.5.12) (2022.12.7)\n",
            "Requirement already satisfied: python-dateutil in /home/gitpod/.pyenv/versions/3.11.1/lib/python3.11/site-packages (from kaggle==1.5.12) (2.8.2)\n",
            "Requirement already satisfied: requests in /home/gitpod/.pyenv/versions/3.11.1/lib/python3.11/site-packages (from kaggle==1.5.12) (2.28.2)\n",
            "Requirement already satisfied: tqdm in /home/gitpod/.pyenv/versions/3.11.1/lib/python3.11/site-packages (from kaggle==1.5.12) (4.65.0)\n",
            "Requirement already satisfied: python-slugify in /home/gitpod/.pyenv/versions/3.11.1/lib/python3.11/site-packages (from kaggle==1.5.12) (8.0.1)\n",
            "Requirement already satisfied: urllib3 in /home/gitpod/.pyenv/versions/3.11.1/lib/python3.11/site-packages (from kaggle==1.5.12) (1.26.15)\n",
            "Requirement already satisfied: text-unidecode>=1.3 in /home/gitpod/.pyenv/versions/3.11.1/lib/python3.11/site-packages (from python-slugify->kaggle==1.5.12) (1.3)\n",
            "Requirement already satisfied: charset-normalizer<4,>=2 in /home/gitpod/.pyenv/versions/3.11.1/lib/python3.11/site-packages (from requests->kaggle==1.5.12) (3.1.0)\n",
            "Requirement already satisfied: idna<4,>=2.5 in /home/gitpod/.pyenv/versions/3.11.1/lib/python3.11/site-packages (from requests->kaggle==1.5.12) (3.4)\n",
            "\n",
            "\u001b[1m[\u001b[0m\u001b[34;49mnotice\u001b[0m\u001b[1;39;49m]\u001b[0m\u001b[39;49m A new release of pip is available: \u001b[0m\u001b[31;49m23.0.1\u001b[0m\u001b[39;49m -> \u001b[0m\u001b[32;49m23.1.2\u001b[0m\n",
            "\u001b[1m[\u001b[0m\u001b[34;49mnotice\u001b[0m\u001b[1;39;49m]\u001b[0m\u001b[39;49m To update, run: \u001b[0m\u001b[32;49mpip install --upgrade pip\u001b[0m\n",
            "Note: you may need to restart the kernel to use updated packages.\n"
          ]
        }
      ],
      "source": [
        "%pip install kaggle==1.5.12\n"
      ]
    },
    {
      "cell_type": "code",
      "execution_count": 6,
      "metadata": {
        "tags": []
      },
      "outputs": [],
      "source": [
        "os.environ['KAGGLE_CONFIG_DIR'] = os.getcwd()\n",
        "! chmod 600 kaggle.json"
      ]
    },
    {
      "cell_type": "code",
      "execution_count": 7,
      "metadata": {
        "tags": []
      },
      "outputs": [
        {
          "name": "stdout",
          "output_type": "stream",
          "text": [
            "Downloading cherry-leaves.zip to inputs/datasets\n",
            " 96%|████████████████████████████████████▌ | 53.0M/55.0M [00:01<00:00, 43.3MB/s]\n",
            "100%|██████████████████████████████████████| 55.0M/55.0M [00:01<00:00, 31.6MB/s]\n"
          ]
        }
      ],
      "source": [
        "KaggleDatasetPath = \"codeinstitute/cherry-leaves\"\n",
        "DestinationFolder = \"inputs/datasets\"   \n",
        "! kaggle datasets download -d {KaggleDatasetPath} -p {DestinationFolder}"
      ]
    },
    {
      "cell_type": "code",
      "execution_count": 8,
      "metadata": {
        "tags": []
      },
      "outputs": [
        {
          "name": "stdout",
          "output_type": "stream",
          "text": [
            "Done!\n"
          ]
        }
      ],
      "source": [
        "import zipfile\n",
        "with zipfile.ZipFile(DestinationFolder + '/cherry-leaves.zip', 'r') as zip_ref:\n",
        "    zip_ref.extractall(DestinationFolder)\n",
        "\n",
        "os.remove(DestinationFolder + '/cherry-leaves.zip')\n",
        "\n",
        "print(\"Done!\")"
      ]
    },
    {
      "cell_type": "markdown",
      "metadata": {
        "id": "ZY3l0-AxO93d"
      },
      "source": [
        "---"
      ]
    },
    {
      "cell_type": "markdown",
      "metadata": {
        "id": "uFQo3ycuO-v6"
      },
      "source": [
        "# Data Preparation Stage"
      ]
    },
    {
      "cell_type": "markdown",
      "metadata": {},
      "source": [
        "In this section we are going to check for any files that are not images in the zip & split the files, train, validate and test the sets.\n",
        "\n",
        "## Find and remove files that are not images"
      ]
    },
    {
      "cell_type": "code",
      "execution_count": 9,
      "metadata": {},
      "outputs": [],
      "source": [
        "def remove_non_image_file(my_data_dir):\n",
        "    \"\"\"Removes non-image files from the specified directory\"\"\"\n",
        "    image_extensions = ('.png', '.jpg', '.jpeg')\n",
        "    for folder in os.listdir(my_data_dir):\n",
        "        folder_path = os.path.join(my_data_dir, folder)\n",
        "        if os.path.isdir(folder_path):\n",
        "            for file in os.listdir(folder_path):\n",
        "                if not file.lower().endswith(image_extensions):\n",
        "                    os.remove(os.path.join(folder_path, file))\n",
        "    print(f\"Removed non-image files from {my_data_dir}\")\n"
      ]
    },
    {
      "cell_type": "code",
      "execution_count": 10,
      "metadata": {},
      "outputs": [],
      "source": [
        "def split_train_validation_test_images(my_data_dir, train_set_ratio, validation_set_ratio, test_set_ratio):\n",
        "    \"\"\" Split the data into train, validation and test sets \"\"\"\n",
        "\n",
        "    # Check that the sum of all the ratios is 1\n",
        "    if train_set_ratio + validation_set_ratio + test_set_ratio != 1.0:\n",
        "        print(\"train_set_ratio + validation_set_ratio + test_set_ratio should sum 1.0\")\n",
        "        return\n",
        "\n",
        "    # Get the class labels\n",
        "    labels = os.listdir(my_data_dir)\n",
        "\n",
        "    # Create train, validation and test folders if they don't already exist\n",
        "    for folder in ['train', 'validation', 'test']:\n",
        "        for label in labels:\n",
        "            os.makedirs(name=f\"{my_data_dir}/{folder}/{label}\", exist_ok=True)\n",
        "\n",
        "    # Loop over each label and move files to the appropriate set\n",
        "    for label in labels:\n",
        "        files = os.listdir(f\"{my_data_dir}/{label}\")\n",
        "        random.shuffle(files)\n",
        "\n",
        "        # Calculate the number of files for each set\n",
        "        train_set_files_qty = int(len(files) * train_set_ratio)\n",
        "        validation_set_files_qty = int(len(files) * validation_set_ratio)\n",
        "\n",
        "        for i, file_name in enumerate(files):\n",
        "            if i < train_set_files_qty:\n",
        "                # Move given file to train set\n",
        "                dest_dir = f\"{my_data_dir}/train/{label}\"\n",
        "            elif i < (train_set_files_qty + validation_set_files_qty):\n",
        "                # Move given file to validation set\n",
        "                dest_dir = f\"{my_data_dir}/validation/{label}\"\n",
        "            else:\n",
        "                # Move given file to test set\n",
        "                dest_dir = f\"{my_data_dir}/test/{label}\"\n",
        "            shutil.move(f\"{my_data_dir}/{label}/{file_name}\", f\"{dest_dir}/{file_name}\")\n",
        "\n",
        "        # Remove the original folder\n",
        "        os.rmdir(f\"{my_data_dir}/{label}\")\n"
      ]
    },
    {
      "cell_type": "code",
      "execution_count": 11,
      "metadata": {},
      "outputs": [
        {
          "ename": "Error",
          "evalue": "Cannot move a directory 'inputs/datasets/cherry-leaves/train/train' into itself 'inputs/datasets/cherry-leaves/train/train/train'.",
          "output_type": "error",
          "traceback": [
            "\u001b[0;31m---------------------------------------------------------------------------\u001b[0m",
            "\u001b[0;31mOSError\u001b[0m                                   Traceback (most recent call last)",
            "File \u001b[0;32m~/.pyenv/versions/3.11.1/lib/python3.11/shutil.py:825\u001b[0m, in \u001b[0;36mmove\u001b[0;34m(src, dst, copy_function)\u001b[0m\n\u001b[1;32m    824\u001b[0m \u001b[39mtry\u001b[39;00m:\n\u001b[0;32m--> 825\u001b[0m     os\u001b[39m.\u001b[39;49mrename(src, real_dst)\n\u001b[1;32m    826\u001b[0m \u001b[39mexcept\u001b[39;00m \u001b[39mOSError\u001b[39;00m:\n",
            "\u001b[0;31mOSError\u001b[0m: [Errno 22] Invalid argument: 'inputs/datasets/cherry-leaves/train/train' -> 'inputs/datasets/cherry-leaves/train/train/train'",
            "\nDuring handling of the above exception, another exception occurred:\n",
            "\u001b[0;31mError\u001b[0m                                     Traceback (most recent call last)",
            "Cell \u001b[0;32mIn[11], line 1\u001b[0m\n\u001b[0;32m----> 1\u001b[0m split_train_validation_test_images(my_data_dir \u001b[39m=\u001b[39;49m \u001b[39mf\u001b[39;49m\u001b[39m\"\u001b[39;49m\u001b[39minputs/datasets/cherry-leaves\u001b[39;49m\u001b[39m\"\u001b[39;49m,\n\u001b[1;32m      2\u001b[0m                         train_set_ratio \u001b[39m=\u001b[39;49m \u001b[39m0.7\u001b[39;49m,\n\u001b[1;32m      3\u001b[0m                         validation_set_ratio\u001b[39m=\u001b[39;49m\u001b[39m0.1\u001b[39;49m,\n\u001b[1;32m      4\u001b[0m                         test_set_ratio\u001b[39m=\u001b[39;49m\u001b[39m0.2\u001b[39;49m\n\u001b[1;32m      5\u001b[0m                         )\n",
            "Cell \u001b[0;32mIn[10], line 36\u001b[0m, in \u001b[0;36msplit_train_validation_test_images\u001b[0;34m(my_data_dir, train_set_ratio, validation_set_ratio, test_set_ratio)\u001b[0m\n\u001b[1;32m     33\u001b[0m     \u001b[39melse\u001b[39;00m:\n\u001b[1;32m     34\u001b[0m         \u001b[39m# Move given file to test set\u001b[39;00m\n\u001b[1;32m     35\u001b[0m         dest_dir \u001b[39m=\u001b[39m \u001b[39mf\u001b[39m\u001b[39m\"\u001b[39m\u001b[39m{\u001b[39;00mmy_data_dir\u001b[39m}\u001b[39;00m\u001b[39m/test/\u001b[39m\u001b[39m{\u001b[39;00mlabel\u001b[39m}\u001b[39;00m\u001b[39m\"\u001b[39m\n\u001b[0;32m---> 36\u001b[0m     shutil\u001b[39m.\u001b[39;49mmove(\u001b[39mf\u001b[39;49m\u001b[39m\"\u001b[39;49m\u001b[39m{\u001b[39;49;00mmy_data_dir\u001b[39m}\u001b[39;49;00m\u001b[39m/\u001b[39;49m\u001b[39m{\u001b[39;49;00mlabel\u001b[39m}\u001b[39;49;00m\u001b[39m/\u001b[39;49m\u001b[39m{\u001b[39;49;00mfile_name\u001b[39m}\u001b[39;49;00m\u001b[39m\"\u001b[39;49m, \u001b[39mf\u001b[39;49m\u001b[39m\"\u001b[39;49m\u001b[39m{\u001b[39;49;00mdest_dir\u001b[39m}\u001b[39;49;00m\u001b[39m/\u001b[39;49m\u001b[39m{\u001b[39;49;00mfile_name\u001b[39m}\u001b[39;49;00m\u001b[39m\"\u001b[39;49m)\n\u001b[1;32m     38\u001b[0m \u001b[39m# Remove the original folder\u001b[39;00m\n\u001b[1;32m     39\u001b[0m os\u001b[39m.\u001b[39mrmdir(\u001b[39mf\u001b[39m\u001b[39m\"\u001b[39m\u001b[39m{\u001b[39;00mmy_data_dir\u001b[39m}\u001b[39;00m\u001b[39m/\u001b[39m\u001b[39m{\u001b[39;00mlabel\u001b[39m}\u001b[39;00m\u001b[39m\"\u001b[39m)\n",
            "File \u001b[0;32m~/.pyenv/versions/3.11.1/lib/python3.11/shutil.py:833\u001b[0m, in \u001b[0;36mmove\u001b[0;34m(src, dst, copy_function)\u001b[0m\n\u001b[1;32m    831\u001b[0m \u001b[39melif\u001b[39;00m os\u001b[39m.\u001b[39mpath\u001b[39m.\u001b[39misdir(src):\n\u001b[1;32m    832\u001b[0m     \u001b[39mif\u001b[39;00m _destinsrc(src, dst):\n\u001b[0;32m--> 833\u001b[0m         \u001b[39mraise\u001b[39;00m Error(\u001b[39m\"\u001b[39m\u001b[39mCannot move a directory \u001b[39m\u001b[39m'\u001b[39m\u001b[39m%s\u001b[39;00m\u001b[39m'\u001b[39m\u001b[39m into itself\u001b[39m\u001b[39m\"\u001b[39m\n\u001b[1;32m    834\u001b[0m                     \u001b[39m\"\u001b[39m\u001b[39m \u001b[39m\u001b[39m'\u001b[39m\u001b[39m%s\u001b[39;00m\u001b[39m'\u001b[39m\u001b[39m.\u001b[39m\u001b[39m\"\u001b[39m \u001b[39m%\u001b[39m (src, dst))\n\u001b[1;32m    835\u001b[0m     \u001b[39mif\u001b[39;00m (_is_immutable(src)\n\u001b[1;32m    836\u001b[0m             \u001b[39mor\u001b[39;00m (\u001b[39mnot\u001b[39;00m os\u001b[39m.\u001b[39maccess(src, os\u001b[39m.\u001b[39mW_OK) \u001b[39mand\u001b[39;00m os\u001b[39m.\u001b[39mlistdir(src)\n\u001b[1;32m    837\u001b[0m                 \u001b[39mand\u001b[39;00m sys\u001b[39m.\u001b[39mplatform \u001b[39m==\u001b[39m \u001b[39m'\u001b[39m\u001b[39mdarwin\u001b[39m\u001b[39m'\u001b[39m)):\n\u001b[1;32m    838\u001b[0m         \u001b[39mraise\u001b[39;00m \u001b[39mPermissionError\u001b[39;00m(\u001b[39m\"\u001b[39m\u001b[39mCannot move the non-empty directory \u001b[39m\u001b[39m\"\u001b[39m\n\u001b[1;32m    839\u001b[0m                               \u001b[39m\"\u001b[39m\u001b[39m'\u001b[39m\u001b[39m%s\u001b[39;00m\u001b[39m'\u001b[39m\u001b[39m: Lacking write permission to \u001b[39m\u001b[39m'\u001b[39m\u001b[39m%s\u001b[39;00m\u001b[39m'\u001b[39m\u001b[39m.\u001b[39m\u001b[39m\"\u001b[39m\n\u001b[1;32m    840\u001b[0m                               \u001b[39m%\u001b[39m (src, src))\n",
            "\u001b[0;31mError\u001b[0m: Cannot move a directory 'inputs/datasets/cherry-leaves/train/train' into itself 'inputs/datasets/cherry-leaves/train/train/train'."
          ]
        }
      ],
      "source": [
        "split_train_validation_test_images(my_data_dir = f\"inputs/datasets/cherry-leaves\",\n",
        "                        train_set_ratio = 0.7,\n",
        "                        validation_set_ratio=0.1,\n",
        "                        test_set_ratio=0.2\n",
        "                        )"
      ]
    },
    {
      "cell_type": "code",
      "execution_count": 12,
      "metadata": {
        "tags": []
      },
      "outputs": [
        {
          "name": "stdout",
          "output_type": "stream",
          "text": [
            "Done!\n"
          ]
        }
      ],
      "source": [
        "  \n",
        "print(\"Done!\")"
      ]
    },
    {
      "cell_type": "markdown",
      "metadata": {},
      "source": [
        "---"
      ]
    },
    {
      "cell_type": "markdown",
      "metadata": {},
      "source": [
        "NOTE"
      ]
    },
    {
      "cell_type": "markdown",
      "metadata": {},
      "source": [
        "* You may add as many sections as you want, as long as it supports your project workflow.\n",
        "* All notebook's cells should be run top-down (you can't create a dynamic wherein a given point you need to go back to a previous cell to execute some task, like go back to a previous cell and refresh a variable content)"
      ]
    },
    {
      "cell_type": "markdown",
      "metadata": {},
      "source": [
        "---"
      ]
    },
    {
      "cell_type": "markdown",
      "metadata": {
        "id": "ltNetd085qHf"
      },
      "source": [
        "# Push files to Repo"
      ]
    },
    {
      "cell_type": "markdown",
      "metadata": {},
      "source": [
        "* If you don't need to push files to Repo, you may replace this section with \"Conclusions and Next Steps\" and state your conclusions and next steps."
      ]
    },
    {
      "cell_type": "code",
      "execution_count": 13,
      "metadata": {
        "id": "aKlnIozA4eQO",
        "outputId": "fd09bc1f-adb1-4511-f6ce-492a6af570c0",
        "tags": []
      },
      "outputs": [
        {
          "name": "stdout",
          "output_type": "stream",
          "text": [
            "[Errno 17] File exists: 'my_folder'\n"
          ]
        }
      ],
      "source": [
        "import os\n",
        "\n",
        "try:\n",
        "    # create your folder here\n",
        "    os.makedirs(name='my_folder')\n",
        "except Exception as e:\n",
        "    print(e)\n"
      ]
    },
    {
      "cell_type": "markdown",
      "metadata": {},
      "source": [
        "# Summary"
      ]
    },
    {
      "cell_type": "markdown",
      "metadata": {},
      "source": [
        "Work Done:\n",
        "\n",
        "* Download and cleaning of the data have been completed\n",
        "\n",
        "* There are three folders within the directory inputs/datasets/cherry_leaves, namely Train, Validation, and Test. Each of these folders contains two subfolders: one with images of healthy cherry leaves and the other with images of cherry leaves infected with powdery mildew.\n",
        "\n",
        "* In the next notebook I will visualizing the different types of leaves, obtaining their average and variation images, distinguishing the contrast between them, address business requirement number 1.\n",
        "\n",
        "\n"
      ]
    },
    {
      "cell_type": "markdown",
      "metadata": {},
      "source": [
        "Issues:\n",
        "\n",
        "* Was getting a 401 - unathorised error when trying to use the kaggle.json file = Fixed by creating a new api key and using that.\n",
        "\n",
        "* \n",
        "\n",
        "\n"
      ]
    },
    {
      "cell_type": "markdown",
      "metadata": {},
      "source": [
        "to fix:\n",
        "* Remove kaggle.json file"
      ]
    }
  ],
  "metadata": {
    "accelerator": "GPU",
    "colab": {
      "name": "Data Practitioner Jupyter Notebook.ipynb",
      "provenance": [],
      "toc_visible": true
    },
    "kernelspec": {
      "display_name": "Python 3",
      "language": "python",
      "name": "python3"
    },
    "language_info": {
      "codemirror_mode": {
        "name": "ipython",
        "version": 3
      },
      "file_extension": ".py",
      "mimetype": "text/x-python",
      "name": "python",
      "nbconvert_exporter": "python",
      "pygments_lexer": "ipython3",
      "version": "3.11.1"
    },
    "orig_nbformat": 2
  },
  "nbformat": 4,
  "nbformat_minor": 2
}
